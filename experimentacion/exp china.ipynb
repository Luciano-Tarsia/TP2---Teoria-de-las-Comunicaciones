{
 "cells": [
  {
   "cell_type": "code",
   "execution_count": 1,
   "metadata": {},
   "outputs": [],
   "source": [
    "import os\n",
    "import pandas as pd\n",
    "import numpy as np\n",
    "import matplotlib.pyplot as plt\n",
    "import seaborn as sns\n",
    "sns.set(rc={'figure.figsize':(12, 9)})\n",
    "sns.set(font_scale = 1.5)"
   ]
  },
  {
   "cell_type": "code",
   "execution_count": 2,
   "metadata": {},
   "outputs": [],
   "source": [
    "country = \"china\"\n",
    "\n",
    "#Constante ip\n",
    "\n",
    "IP_PER_COUNTRY = {\n",
    "    \"usa\": \"128.112.0.0\",\n",
    "    \"australia\": \"130.130.39.1\",\n",
    "    \"china\": \"101.4.0.1\",\n",
    "    \"noruega\": \"129.240.118.130\",\n",
    "    \"israel\": \"132.66.11.168\"\n",
    "}\n",
    "\n",
    "destiny_ip = IP_PER_COUNTRY[country]\n",
    "\n",
    "#Dataframes\n",
    "\n",
    "\n",
    "\n",
    "for csv_path in os.listdir(\"../data/\"):\n",
    "    if destiny_ip in csv_path:\n",
    "        if \"(all ips)\" in csv_path:\n",
    "            complete_data_path = csv_path\n",
    "        else:\n",
    "            mean_data_path = csv_path\n",
    "\n",
    "dict_capturas = dict({country: f'../data/{complete_data_path}',\n",
    "                      f\"{country}_mean\": f'../data/{mean_data_path}'})\n",
    "\n",
    "for captura in dict_capturas.keys():\n",
    "    dict_capturas[captura] = pd.read_csv(dict_capturas[captura])\n",
    "    dict_capturas[captura].name = captura\n",
    "\n",
    "df_tll_jumps = dict_capturas[country]\n",
    "df_tll_jumps_mean = dict_capturas[f\"{country}_mean\"]\n",
    "\n",
    "def most_frequent(List):\n",
    "    return max(set(List), key = List.count)"
   ]
  },
  {
   "cell_type": "markdown",
   "metadata": {},
   "source": [
    "# Camino de ip's"
   ]
  },
  {
   "cell_type": "code",
   "execution_count": 3,
   "metadata": {},
   "outputs": [],
   "source": [
    "# Diccionario que en cada entrada es un ttl, y en cada una hay una lista con las ips\n",
    "# que aparecieron en ese salto\n",
    "dict_ips_for_every_ttl = dict()\n",
    "dict_ips_for_every_ttl['ttl1'] = []\n",
    "\n",
    "# Esto lo hago para poder iterar el df\n",
    "df_tll_jumps = df_tll_jumps.reset_index()\n",
    "\n",
    "row_ttl = 1\n",
    "for index, row in df_tll_jumps.iterrows():\n",
    "    if (row['ttl'] == row_ttl):\n",
    "        dict_ips_for_every_ttl['ttl'+str(row_ttl)].append(row['ip'])\n",
    "    else:\n",
    "        row_ttl = row['ttl']\n",
    "        dict_ips_for_every_ttl['ttl'+str(row_ttl)] = []\n",
    "        dict_ips_for_every_ttl['ttl'+str(row_ttl)].append(row['ip'])\n",
    "\n",
    "most_frequent_ip = dict()\n",
    "ttl_anterior = 'ttl1'\n",
    "for ttl in dict_ips_for_every_ttl.keys():\n",
    "    if (most_frequent(dict_ips_for_every_ttl[ttl]) == most_frequent(dict_ips_for_every_ttl[ttl_anterior]) and most_frequent(dict_ips_for_every_ttl[ttl]) == destiny_ip):\n",
    "        break    \n",
    "    most_frequent_ip[ttl] = most_frequent(dict_ips_for_every_ttl[ttl])\n",
    "    ttl_anterior = ttl\n",
    "\n",
    "# most_frequent_ip es un diccionario que la clave tiene el ttl correspondiente, y en el valor la ip\n",
    "# que más apareció para ese ttl"
   ]
  },
  {
   "cell_type": "markdown",
   "metadata": {},
   "source": [
    "# Dataframe nuevo"
   ]
  },
  {
   "cell_type": "code",
   "execution_count": 4,
   "metadata": {},
   "outputs": [
    {
     "data": {
      "text/html": [
       "<div>\n",
       "<style scoped>\n",
       "    .dataframe tbody tr th:only-of-type {\n",
       "        vertical-align: middle;\n",
       "    }\n",
       "\n",
       "    .dataframe tbody tr th {\n",
       "        vertical-align: top;\n",
       "    }\n",
       "\n",
       "    .dataframe thead th {\n",
       "        text-align: right;\n",
       "    }\n",
       "</style>\n",
       "<table border=\"1\" class=\"dataframe\">\n",
       "  <thead>\n",
       "    <tr style=\"text-align: right;\">\n",
       "      <th></th>\n",
       "      <th>ttls</th>\n",
       "      <th>ip</th>\n",
       "      <th>tiempo restado</th>\n",
       "      <th>tiempo neto</th>\n",
       "      <th>varianza</th>\n",
       "    </tr>\n",
       "  </thead>\n",
       "  <tbody>\n",
       "    <tr>\n",
       "      <th>0</th>\n",
       "      <td>ttl1</td>\n",
       "      <td>192.168.1.1</td>\n",
       "      <td>73.230028</td>\n",
       "      <td>73.230028</td>\n",
       "      <td>200.276545</td>\n",
       "    </tr>\n",
       "    <tr>\n",
       "      <th>1</th>\n",
       "      <td>ttl2</td>\n",
       "      <td>200.51.241.1</td>\n",
       "      <td>0.000000</td>\n",
       "      <td>67.287540</td>\n",
       "      <td>106.295933</td>\n",
       "    </tr>\n",
       "    <tr>\n",
       "      <th>2</th>\n",
       "      <td>ttl3</td>\n",
       "      <td>81.173.106.61</td>\n",
       "      <td>1.954961</td>\n",
       "      <td>69.242501</td>\n",
       "      <td>113.556232</td>\n",
       "    </tr>\n",
       "    <tr>\n",
       "      <th>3</th>\n",
       "      <td>ttl4</td>\n",
       "      <td>213.140.39.118</td>\n",
       "      <td>0.343863</td>\n",
       "      <td>67.631404</td>\n",
       "      <td>134.633463</td>\n",
       "    </tr>\n",
       "    <tr>\n",
       "      <th>4</th>\n",
       "      <td>ttl5</td>\n",
       "      <td>94.142.97.59</td>\n",
       "      <td>135.542599</td>\n",
       "      <td>203.174003</td>\n",
       "      <td>620.460673</td>\n",
       "    </tr>\n",
       "    <tr>\n",
       "      <th>5</th>\n",
       "      <td>ttl6</td>\n",
       "      <td>94.142.98.123</td>\n",
       "      <td>126.537220</td>\n",
       "      <td>194.168623</td>\n",
       "      <td>97.298715</td>\n",
       "    </tr>\n",
       "    <tr>\n",
       "      <th>6</th>\n",
       "      <td>ttl7</td>\n",
       "      <td>94.142.107.31</td>\n",
       "      <td>40.275868</td>\n",
       "      <td>234.444491</td>\n",
       "      <td>85.673300</td>\n",
       "    </tr>\n",
       "    <tr>\n",
       "      <th>7</th>\n",
       "      <td>ttl8</td>\n",
       "      <td>94.142.107.31</td>\n",
       "      <td>39.292884</td>\n",
       "      <td>233.461507</td>\n",
       "      <td>120.433392</td>\n",
       "    </tr>\n",
       "    <tr>\n",
       "      <th>8</th>\n",
       "      <td>ttl9</td>\n",
       "      <td>63.223.17.242</td>\n",
       "      <td>199.236774</td>\n",
       "      <td>432.698282</td>\n",
       "      <td>161.679134</td>\n",
       "    </tr>\n",
       "    <tr>\n",
       "      <th>9</th>\n",
       "      <td>ttl10</td>\n",
       "      <td>63.218.115.14</td>\n",
       "      <td>1.378719</td>\n",
       "      <td>434.077001</td>\n",
       "      <td>151.385013</td>\n",
       "    </tr>\n",
       "    <tr>\n",
       "      <th>10</th>\n",
       "      <td>ttl11</td>\n",
       "      <td>101.4.114.181</td>\n",
       "      <td>39.167563</td>\n",
       "      <td>473.244564</td>\n",
       "      <td>948.602075</td>\n",
       "    </tr>\n",
       "    <tr>\n",
       "      <th>11</th>\n",
       "      <td>ttl12</td>\n",
       "      <td>101.4.114.238</td>\n",
       "      <td>28.406262</td>\n",
       "      <td>462.483263</td>\n",
       "      <td>123.886825</td>\n",
       "    </tr>\n",
       "    <tr>\n",
       "      <th>12</th>\n",
       "      <td>ttl13</td>\n",
       "      <td>101.4.115.113</td>\n",
       "      <td>2.757454</td>\n",
       "      <td>465.240717</td>\n",
       "      <td>35.164270</td>\n",
       "    </tr>\n",
       "    <tr>\n",
       "      <th>13</th>\n",
       "      <td>ttl14</td>\n",
       "      <td>101.4.118.213</td>\n",
       "      <td>2.775710</td>\n",
       "      <td>468.016427</td>\n",
       "      <td>240.531891</td>\n",
       "    </tr>\n",
       "    <tr>\n",
       "      <th>14</th>\n",
       "      <td>ttl15</td>\n",
       "      <td>101.4.0.1</td>\n",
       "      <td>1.024381</td>\n",
       "      <td>463.507644</td>\n",
       "      <td>119.037337</td>\n",
       "    </tr>\n",
       "  </tbody>\n",
       "</table>\n",
       "</div>"
      ],
      "text/plain": [
       "     ttls              ip  tiempo restado  tiempo neto    varianza\n",
       "0    ttl1     192.168.1.1       73.230028    73.230028  200.276545\n",
       "1    ttl2    200.51.241.1        0.000000    67.287540  106.295933\n",
       "2    ttl3   81.173.106.61        1.954961    69.242501  113.556232\n",
       "3    ttl4  213.140.39.118        0.343863    67.631404  134.633463\n",
       "4    ttl5    94.142.97.59      135.542599   203.174003  620.460673\n",
       "5    ttl6   94.142.98.123      126.537220   194.168623   97.298715\n",
       "6    ttl7   94.142.107.31       40.275868   234.444491   85.673300\n",
       "7    ttl8   94.142.107.31       39.292884   233.461507  120.433392\n",
       "8    ttl9   63.223.17.242      199.236774   432.698282  161.679134\n",
       "9   ttl10   63.218.115.14        1.378719   434.077001  151.385013\n",
       "10  ttl11   101.4.114.181       39.167563   473.244564  948.602075\n",
       "11  ttl12   101.4.114.238       28.406262   462.483263  123.886825\n",
       "12  ttl13   101.4.115.113        2.757454   465.240717   35.164270\n",
       "13  ttl14   101.4.118.213        2.775710   468.016427  240.531891\n",
       "14  ttl15       101.4.0.1        1.024381   463.507644  119.037337"
      ]
     },
     "execution_count": 4,
     "metadata": {},
     "output_type": "execute_result"
    }
   ],
   "source": [
    "dict_ttl_tiempos = dict()\n",
    "\n",
    "row_ttl = 0\n",
    "for index, row in df_tll_jumps.iterrows():\n",
    "    if (('ttl' + str(row['ttl']) in most_frequent_ip.keys()) and row['ip'] == most_frequent_ip['ttl' + str(row['ttl'])]):\n",
    "        if (row['ttl'] == row_ttl):\n",
    "            dict_ttl_tiempos['ttl'+str(row_ttl)].append(row['rtt'])\n",
    "        else:\n",
    "            row_ttl = row['ttl']\n",
    "            dict_ttl_tiempos['ttl'+str(row_ttl)] = []\n",
    "            dict_ttl_tiempos['ttl'+str(row_ttl)].append(row['rtt'])\n",
    "\n",
    "ttls = most_frequent_ip.keys()\n",
    "\n",
    "tiempos = [np.mean(dict_ttl_tiempos[tiempo]) for tiempo in dict_ttl_tiempos.keys()]\n",
    "\n",
    "tiempos_aux = tiempos.copy()\n",
    "\n",
    "for i in range(1, len(tiempos)):\n",
    "    jump = tiempos[i] - tiempos_aux[i-1]\n",
    "    if jump < 0:\n",
    "        j = 1\n",
    "        while i - j > 0 and jump < 0:\n",
    "            j += 1\n",
    "            jump = tiempos[i] - tiempos_aux[i-j]\n",
    "    tiempos[i] = max(jump, 0)\n",
    "\n",
    "varianza_de_los_tiempos = [np.var(dict_ttl_tiempos[tiempo]) for tiempo in dict_ttl_tiempos.keys()]\n",
    "\n",
    "df_time = pd.DataFrame(list(zip(ttls, most_frequent_ip.values(),tiempos, tiempos_aux,varianza_de_los_tiempos)),\n",
    "               columns =['ttls', 'ip', 'tiempo restado', 'tiempo neto', 'varianza'])\n",
    "\n",
    "df_time"
   ]
  },
  {
   "cell_type": "markdown",
   "metadata": {},
   "source": [
    "# Gráficos"
   ]
  },
  {
   "cell_type": "code",
   "execution_count": 5,
   "metadata": {},
   "outputs": [
    {
     "data": {
      "image/png": "[encoded data removed]",
      "text/plain": [
       "<Figure size 864x648 with 1 Axes>"
      ]
     },
     "metadata": {},
     "output_type": "display_data"
    }
   ],
   "source": [
    "df_time[\"jump\"] = df_time[\"ttls\"].str[3:]\n",
    "ax = sns.barplot(\n",
    "    x= df_time['tiempo restado'], \n",
    "    y= df_time['jump'],\n",
    "    estimator=sum,\n",
    "    ci=None,\n",
    "    orient = 'h'\n",
    ")\n",
    "ax.set_xlabel(\"RTT (ms)\")\n",
    "ax.set_ylabel(\"Jump\")\n",
    "ax.set_title(country.capitalize())\n",
    "fig = ax.get_figure()\n",
    "fig.savefig(f\"./graficos/ttl_hist_{country}.png\", dpi=200)"
   ]
  },
  {
   "cell_type": "code",
   "execution_count": 6,
   "metadata": {},
   "outputs": [],
   "source": [
    "from itertools import chain\n",
    "\n",
    "def draw_map(m, scale=0.2):\n",
    "    # draw a shaded-relief image\n",
    "    m.shadedrelief(scale=scale)\n",
    "    \n",
    "    # lats and longs are returned as a dictionary\n",
    "    lats = m.drawparallels(np.linspace(-90, 90, 13))\n",
    "    lons = m.drawmeridians(np.linspace(-180, 180, 13))\n",
    "\n",
    "    # keys contain the plt.Line2D instances\n",
    "    lat_lines = chain(*(tup[1][0] for tup in lats.items()))\n",
    "    lon_lines = chain(*(tup[1][0] for tup in lons.items()))\n",
    "    all_lines = chain(lat_lines, lon_lines)\n",
    "    \n",
    "    # cycle through these lines and set the desired style\n",
    "    for line in all_lines:\n",
    "        line.set(linestyle='-', alpha=0.3, color='w')"
   ]
  },
  {
   "cell_type": "code",
   "execution_count": 7,
   "metadata": {},
   "outputs": [],
   "source": [
    "import numpy as np\n",
    "import matplotlib.pyplot as plt\n",
    "from mpl_toolkits.basemap import Basemap\n",
    "import requests\n",
    "\n",
    "locations = []\n",
    "\n",
    "for ip in most_frequent_ip.values():\n",
    "    response = requests.get(\"http://ip-api.com/json/\"+ip).json()\n",
    "    if (response['status'] == 'success'):\n",
    "        locations.append([response['lat'], response['lon']])\n",
    "    else:\n",
    "        locations.append([0, 0])\n"
   ]
  },
  {
   "cell_type": "code",
   "execution_count": 8,
   "metadata": {},
   "outputs": [
    {
     "data": {
      "image/png": "[encoded data removed]",
      "text/plain": [
       "<Figure size 576x432 with 1 Axes>"
      ]
     },
     "metadata": {},
     "output_type": "display_data"
    }
   ],
   "source": [
    "fig = plt.figure(figsize=(8, 6), edgecolor='w')\n",
    "m = Basemap(projection='cyl', resolution=None,\n",
    "            llcrnrlat=-90, urcrnrlat=90,\n",
    "            llcrnrlon=-180, urcrnrlon=180, )\n",
    "draw_map(m)\n",
    "\n",
    "# Map (long, lat) to (x, y) for plotting\n",
    "for i in range(len(df_time)):\n",
    "    if ((locations[i][0] != 0) and (locations[i][1] != 0)):\n",
    "        x = locations[i][1]\n",
    "        y = locations[i][0]\n",
    "        plt.plot(x, y, 'ok', markersize=5)\n",
    "        plt.text(x, y, df_time.iloc[i].ttls, fontsize=12);"
   ]
  },
  {
   "cell_type": "code",
   "execution_count": 9,
   "metadata": {},
   "outputs": [
    {
     "data": {
      "text/html": [
       "<div>\n",
       "<style scoped>\n",
       "    .dataframe tbody tr th:only-of-type {\n",
       "        vertical-align: middle;\n",
       "    }\n",
       "\n",
       "    .dataframe tbody tr th {\n",
       "        vertical-align: top;\n",
       "    }\n",
       "\n",
       "    .dataframe thead th {\n",
       "        text-align: right;\n",
       "    }\n",
       "</style>\n",
       "<table border=\"1\" class=\"dataframe\">\n",
       "  <thead>\n",
       "    <tr style=\"text-align: right;\">\n",
       "      <th></th>\n",
       "      <th>ttl</th>\n",
       "      <th>Latitude</th>\n",
       "      <th>Longitude</th>\n",
       "    </tr>\n",
       "  </thead>\n",
       "  <tbody>\n",
       "    <tr>\n",
       "      <th>0</th>\n",
       "      <td>ttl2</td>\n",
       "      <td>-34.6167</td>\n",
       "      <td>-58.36800</td>\n",
       "    </tr>\n",
       "    <tr>\n",
       "      <th>1</th>\n",
       "      <td>ttl3</td>\n",
       "      <td>40.5156</td>\n",
       "      <td>-3.66234</td>\n",
       "    </tr>\n",
       "    <tr>\n",
       "      <th>2</th>\n",
       "      <td>ttl4</td>\n",
       "      <td>40.5149</td>\n",
       "      <td>-3.66524</td>\n",
       "    </tr>\n",
       "    <tr>\n",
       "      <th>3</th>\n",
       "      <td>ttl5</td>\n",
       "      <td>40.5156</td>\n",
       "      <td>-3.66234</td>\n",
       "    </tr>\n",
       "    <tr>\n",
       "      <th>4</th>\n",
       "      <td>ttl6</td>\n",
       "      <td>47.6034</td>\n",
       "      <td>-122.34140</td>\n",
       "    </tr>\n",
       "    <tr>\n",
       "      <th>5</th>\n",
       "      <td>ttl7</td>\n",
       "      <td>40.5156</td>\n",
       "      <td>-3.66234</td>\n",
       "    </tr>\n",
       "    <tr>\n",
       "      <th>6</th>\n",
       "      <td>ttl8</td>\n",
       "      <td>40.5156</td>\n",
       "      <td>-3.66234</td>\n",
       "    </tr>\n",
       "    <tr>\n",
       "      <th>7</th>\n",
       "      <td>ttl9</td>\n",
       "      <td>22.3964</td>\n",
       "      <td>114.10900</td>\n",
       "    </tr>\n",
       "    <tr>\n",
       "      <th>8</th>\n",
       "      <td>ttl10</td>\n",
       "      <td>37.3382</td>\n",
       "      <td>-121.88600</td>\n",
       "    </tr>\n",
       "    <tr>\n",
       "      <th>9</th>\n",
       "      <td>ttl11</td>\n",
       "      <td>40.0007</td>\n",
       "      <td>116.32900</td>\n",
       "    </tr>\n",
       "    <tr>\n",
       "      <th>10</th>\n",
       "      <td>ttl12</td>\n",
       "      <td>40.0007</td>\n",
       "      <td>116.32900</td>\n",
       "    </tr>\n",
       "    <tr>\n",
       "      <th>11</th>\n",
       "      <td>ttl13</td>\n",
       "      <td>40.0007</td>\n",
       "      <td>116.32900</td>\n",
       "    </tr>\n",
       "    <tr>\n",
       "      <th>12</th>\n",
       "      <td>ttl14</td>\n",
       "      <td>40.0007</td>\n",
       "      <td>116.32900</td>\n",
       "    </tr>\n",
       "    <tr>\n",
       "      <th>13</th>\n",
       "      <td>ttl15</td>\n",
       "      <td>39.8565</td>\n",
       "      <td>116.28500</td>\n",
       "    </tr>\n",
       "  </tbody>\n",
       "</table>\n",
       "</div>"
      ],
      "text/plain": [
       "      ttl  Latitude  Longitude\n",
       "0    ttl2  -34.6167  -58.36800\n",
       "1    ttl3   40.5156   -3.66234\n",
       "2    ttl4   40.5149   -3.66524\n",
       "3    ttl5   40.5156   -3.66234\n",
       "4    ttl6   47.6034 -122.34140\n",
       "5    ttl7   40.5156   -3.66234\n",
       "6    ttl8   40.5156   -3.66234\n",
       "7    ttl9   22.3964  114.10900\n",
       "8   ttl10   37.3382 -121.88600\n",
       "9   ttl11   40.0007  116.32900\n",
       "10  ttl12   40.0007  116.32900\n",
       "11  ttl13   40.0007  116.32900\n",
       "12  ttl14   40.0007  116.32900\n",
       "13  ttl15   39.8565  116.28500"
      ]
     },
     "execution_count": 9,
     "metadata": {},
     "output_type": "execute_result"
    }
   ],
   "source": [
    "import numpy as np\n",
    "import matplotlib.pyplot as plt\n",
    "import requests\n",
    "\n",
    "locations_with_ttl = []\n",
    "\n",
    "for ttl, ip in most_frequent_ip.items():\n",
    "    response = requests.get(\"http://ip-api.com/json/\"+ip).json()\n",
    "    if (response['status'] == 'success'):\n",
    "        locations_with_ttl.append([ttl, response['lat'], response['lon']])\n",
    "\n",
    "df_ubication = pd.DataFrame(locations_with_ttl, columns=[\"ttl\", \"Latitude\", \"Longitude\"])\n",
    "df_ubication"
   ]
  },
  {
   "cell_type": "code",
   "execution_count": 10,
   "metadata": {},
   "outputs": [
    {
     "data": {
      "application/vnd.plotly.v1+json": {
       "config": {
        "plotlyServerURL": "https://plot.ly"
       },
       "data": [
        {
         "geo": "geo",
         "hovertemplate": "<b>%{hovertext}</b><br><br>Latitude=%{lat}<br>Longitude=%{lon}<extra></extra>",
         "hovertext": [
          "ttl2",
          "ttl3",
          "ttl4",
          "ttl5",
          "ttl6",
          "ttl7",
          "ttl8",
          "ttl9",
          "ttl10",
          "ttl11",
          "ttl12",
          "ttl13",
          "ttl14",
          "ttl15"
         ],
         "lat": [
          -34.6167,
          40.5156,
          40.5149,
          40.5156,
          47.6034,
          40.5156,
          40.5156,
          22.3964,
          37.3382,
          40.0007,
          40.0007,
          40.0007,
          40.0007,
          39.8565
         ],
         "legendgroup": "",
         "line": {
          "color": "#636efa",
          "dash": "solid"
         },
         "lon": [
          -58.368,
          -3.66234,
          -3.66524,
          -3.66234,
          -122.3414,
          -3.66234,
          -3.66234,
          114.109,
          -121.886,
          116.329,
          116.329,
          116.329,
          116.329,
          116.285
         ],
         "marker": {
          "color": "blue",
          "size": 5,
          "symbol": "circle"
         },
         "mode": "markers+lines",
         "name": "",
         "showlegend": false,
         "type": "scattergeo"
        }
       ],
       "layout": {
        "geo": {
         "center": {},
         "domain": {
          "x": [
           0,
           1
          ],
          "y": [
           0,
           1
          ]
         },
         "fitbounds": "locations",
         "projection": {
          "type": "natural earth"
         },
         "showcountries": true
        },
        "legend": {
         "tracegroupgap": 0
        },
        "template": {
         "data": {
          "bar": [
           {
            "error_x": {
             "color": "#2a3f5f"
            },
            "error_y": {
             "color": "#2a3f5f"
            },
            "marker": {
             "line": {
              "color": "#E5ECF6",
              "width": 0.5
             },
             "pattern": {
              "fillmode": "overlay",
              "size": 10,
              "solidity": 0.2
             }
            },
            "type": "bar"
           }
          ],
          "barpolar": [
           {
            "marker": {
             "line": {
              "color": "#E5ECF6",
              "width": 0.5
             },
             "pattern": {
              "fillmode": "overlay",
              "size": 10,
              "solidity": 0.2
             }
            },
            "type": "barpolar"
           }
          ],
          "carpet": [
           {
            "aaxis": {
             "endlinecolor": "#2a3f5f",
             "gridcolor": "white",
             "linecolor": "white",
             "minorgridcolor": "white",
             "startlinecolor": "#2a3f5f"
            },
            "baxis": {
             "endlinecolor": "#2a3f5f",
             "gridcolor": "white",
             "linecolor": "white",
             "minorgridcolor": "white",
             "startlinecolor": "#2a3f5f"
            },
            "type": "carpet"
           }
          ],
          "choropleth": [
           {
            "colorbar": {
             "outlinewidth": 0,
             "ticks": ""
            },
            "type": "choropleth"
           }
          ],
          "contour": [
           {
            "colorbar": {
             "outlinewidth": 0,
             "ticks": ""
            },
            "colorscale": [
             [
              0,
              "#0d0887"
             ],
             [
              0.1111111111111111,
              "#46039f"
             ],
             [
              0.2222222222222222,
              "#7201a8"
             ],
             [
              0.3333333333333333,
              "#9c179e"
             ],
             [
              0.4444444444444444,
              "#bd3786"
             ],
             [
              0.5555555555555556,
              "#d8576b"
             ],
             [
              0.6666666666666666,
              "#ed7953"
             ],
             [
              0.7777777777777778,
              "#fb9f3a"
             ],
             [
              0.8888888888888888,
              "#fdca26"
             ],
             [
              1,
              "#f0f921"
             ]
            ],
            "type": "contour"
           }
          ],
          "contourcarpet": [
           {
            "colorbar": {
             "outlinewidth": 0,
             "ticks": ""
            },
            "type": "contourcarpet"
           }
          ],
          "heatmap": [
           {
            "colorbar": {
             "outlinewidth": 0,
             "ticks": ""
            },
            "colorscale": [
             [
              0,
              "#0d0887"
             ],
             [
              0.1111111111111111,
              "#46039f"
             ],
             [
              0.2222222222222222,
              "#7201a8"
             ],
             [
              0.3333333333333333,
              "#9c179e"
             ],
             [
              0.4444444444444444,
              "#bd3786"
             ],
             [
              0.5555555555555556,
              "#d8576b"
             ],
             [
              0.6666666666666666,
              "#ed7953"
             ],
             [
              0.7777777777777778,
              "#fb9f3a"
             ],
             [
              0.8888888888888888,
              "#fdca26"
             ],
             [
              1,
              "#f0f921"
             ]
            ],
            "type": "heatmap"
           }
          ],
          "heatmapgl": [
           {
            "colorbar": {
             "outlinewidth": 0,
             "ticks": ""
            },
            "colorscale": [
             [
              0,
              "#0d0887"
             ],
             [
              0.1111111111111111,
              "#46039f"
             ],
             [
              0.2222222222222222,
              "#7201a8"
             ],
             [
              0.3333333333333333,
              "#9c179e"
             ],
             [
              0.4444444444444444,
              "#bd3786"
             ],
             [
              0.5555555555555556,
              "#d8576b"
             ],
             [
              0.6666666666666666,
              "#ed7953"
             ],
             [
              0.7777777777777778,
              "#fb9f3a"
             ],
             [
              0.8888888888888888,
              "#fdca26"
             ],
             [
              1,
              "#f0f921"
             ]
            ],
            "type": "heatmapgl"
           }
          ],
          "histogram": [
           {
            "marker": {
             "pattern": {
              "fillmode": "overlay",
              "size": 10,
              "solidity": 0.2
             }
            },
            "type": "histogram"
           }
          ],
          "histogram2d": [
           {
            "colorbar": {
             "outlinewidth": 0,
             "ticks": ""
            },
            "colorscale": [
             [
              0,
              "#0d0887"
             ],
             [
              0.1111111111111111,
              "#46039f"
             ],
             [
              0.2222222222222222,
              "#7201a8"
             ],
             [
              0.3333333333333333,
              "#9c179e"
             ],
             [
              0.4444444444444444,
              "#bd3786"
             ],
             [
              0.5555555555555556,
              "#d8576b"
             ],
             [
              0.6666666666666666,
              "#ed7953"
             ],
             [
              0.7777777777777778,
              "#fb9f3a"
             ],
             [
              0.8888888888888888,
              "#fdca26"
             ],
             [
              1,
              "#f0f921"
             ]
            ],
            "type": "histogram2d"
           }
          ],
          "histogram2dcontour": [
           {
            "colorbar": {
             "outlinewidth": 0,
             "ticks": ""
            },
            "colorscale": [
             [
              0,
              "#0d0887"
             ],
             [
              0.1111111111111111,
              "#46039f"
             ],
             [
              0.2222222222222222,
              "#7201a8"
             ],
             [
              0.3333333333333333,
              "#9c179e"
             ],
             [
              0.4444444444444444,
              "#bd3786"
             ],
             [
              0.5555555555555556,
              "#d8576b"
             ],
             [
              0.6666666666666666,
              "#ed7953"
             ],
             [
              0.7777777777777778,
              "#fb9f3a"
             ],
             [
              0.8888888888888888,
              "#fdca26"
             ],
             [
              1,
              "#f0f921"
             ]
            ],
            "type": "histogram2dcontour"
           }
          ],
          "mesh3d": [
           {
            "colorbar": {
             "outlinewidth": 0,
             "ticks": ""
            },
            "type": "mesh3d"
           }
          ],
          "parcoords": [
           {
            "line": {
             "colorbar": {
              "outlinewidth": 0,
              "ticks": ""
             }
            },
            "type": "parcoords"
           }
          ],
          "pie": [
           {
            "automargin": true,
            "type": "pie"
           }
          ],
          "scatter": [
           {
            "fillpattern": {
             "fillmode": "overlay",
             "size": 10,
             "solidity": 0.2
            },
            "type": "scatter"
           }
          ],
          "scatter3d": [
           {
            "line": {
             "colorbar": {
              "outlinewidth": 0,
              "ticks": ""
             }
            },
            "marker": {
             "colorbar": {
              "outlinewidth": 0,
              "ticks": ""
             }
            },
            "type": "scatter3d"
           }
          ],
          "scattercarpet": [
           {
            "marker": {
             "colorbar": {
              "outlinewidth": 0,
              "ticks": ""
             }
            },
            "type": "scattercarpet"
           }
          ],
          "scattergeo": [
           {
            "marker": {
             "colorbar": {
              "outlinewidth": 0,
              "ticks": ""
             }
            },
            "type": "scattergeo"
           }
          ],
          "scattergl": [
           {
            "marker": {
             "colorbar": {
              "outlinewidth": 0,
              "ticks": ""
             }
            },
            "type": "scattergl"
           }
          ],
          "scattermapbox": [
           {
            "marker": {
             "colorbar": {
              "outlinewidth": 0,
              "ticks": ""
             }
            },
            "type": "scattermapbox"
           }
          ],
          "scatterpolar": [
           {
            "marker": {
             "colorbar": {
              "outlinewidth": 0,
              "ticks": ""
             }
            },
            "type": "scatterpolar"
           }
          ],
          "scatterpolargl": [
           {
            "marker": {
             "colorbar": {
              "outlinewidth": 0,
              "ticks": ""
             }
            },
            "type": "scatterpolargl"
           }
          ],
          "scatterternary": [
           {
            "marker": {
             "colorbar": {
              "outlinewidth": 0,
              "ticks": ""
             }
            },
            "type": "scatterternary"
           }
          ],
          "surface": [
           {
            "colorbar": {
             "outlinewidth": 0,
             "ticks": ""
            },
            "colorscale": [
             [
              0,
              "#0d0887"
             ],
             [
              0.1111111111111111,
              "#46039f"
             ],
             [
              0.2222222222222222,
              "#7201a8"
             ],
             [
              0.3333333333333333,
              "#9c179e"
             ],
             [
              0.4444444444444444,
              "#bd3786"
             ],
             [
              0.5555555555555556,
              "#d8576b"
             ],
             [
              0.6666666666666666,
              "#ed7953"
             ],
             [
              0.7777777777777778,
              "#fb9f3a"
             ],
             [
              0.8888888888888888,
              "#fdca26"
             ],
             [
              1,
              "#f0f921"
             ]
            ],
            "type": "surface"
           }
          ],
          "table": [
           {
            "cells": {
             "fill": {
              "color": "#EBF0F8"
             },
             "line": {
              "color": "white"
             }
            },
            "header": {
             "fill": {
              "color": "#C8D4E3"
             },
             "line": {
              "color": "white"
             }
            },
            "type": "table"
           }
          ]
         },
         "layout": {
          "annotationdefaults": {
           "arrowcolor": "#2a3f5f",
           "arrowhead": 0,
           "arrowwidth": 1
          },
          "autotypenumbers": "strict",
          "coloraxis": {
           "colorbar": {
            "outlinewidth": 0,
            "ticks": ""
           }
          },
          "colorscale": {
           "diverging": [
            [
             0,
             "#8e0152"
            ],
            [
             0.1,
             "#c51b7d"
            ],
            [
             0.2,
             "#de77ae"
            ],
            [
             0.3,
             "#f1b6da"
            ],
            [
             0.4,
             "#fde0ef"
            ],
            [
             0.5,
             "#f7f7f7"
            ],
            [
             0.6,
             "#e6f5d0"
            ],
            [
             0.7,
             "#b8e186"
            ],
            [
             0.8,
             "#7fbc41"
            ],
            [
             0.9,
             "#4d9221"
            ],
            [
             1,
             "#276419"
            ]
           ],
           "sequential": [
            [
             0,
             "#0d0887"
            ],
            [
             0.1111111111111111,
             "#46039f"
            ],
            [
             0.2222222222222222,
             "#7201a8"
            ],
            [
             0.3333333333333333,
             "#9c179e"
            ],
            [
             0.4444444444444444,
             "#bd3786"
            ],
            [
             0.5555555555555556,
             "#d8576b"
            ],
            [
             0.6666666666666666,
             "#ed7953"
            ],
            [
             0.7777777777777778,
             "#fb9f3a"
            ],
            [
             0.8888888888888888,
             "#fdca26"
            ],
            [
             1,
             "#f0f921"
            ]
           ],
           "sequentialminus": [
            [
             0,
             "#0d0887"
            ],
            [
             0.1111111111111111,
             "#46039f"
            ],
            [
             0.2222222222222222,
             "#7201a8"
            ],
            [
             0.3333333333333333,
             "#9c179e"
            ],
            [
             0.4444444444444444,
             "#bd3786"
            ],
            [
             0.5555555555555556,
             "#d8576b"
            ],
            [
             0.6666666666666666,
             "#ed7953"
            ],
            [
             0.7777777777777778,
             "#fb9f3a"
            ],
            [
             0.8888888888888888,
             "#fdca26"
            ],
            [
             1,
             "#f0f921"
            ]
           ]
          },
          "colorway": [
           "#636efa",
           "#EF553B",
           "#00cc96",
           "#ab63fa",
           "#FFA15A",
           "#19d3f3",
           "#FF6692",
           "#B6E880",
           "#FF97FF",
           "#FECB52"
          ],
          "font": {
           "color": "#2a3f5f"
          },
          "geo": {
           "bgcolor": "white",
           "lakecolor": "white",
           "landcolor": "#E5ECF6",
           "showlakes": true,
           "showland": true,
           "subunitcolor": "white"
          },
          "hoverlabel": {
           "align": "left"
          },
          "hovermode": "closest",
          "mapbox": {
           "style": "light"
          },
          "paper_bgcolor": "white",
          "plot_bgcolor": "#E5ECF6",
          "polar": {
           "angularaxis": {
            "gridcolor": "white",
            "linecolor": "white",
            "ticks": ""
           },
           "bgcolor": "#E5ECF6",
           "radialaxis": {
            "gridcolor": "white",
            "linecolor": "white",
            "ticks": ""
           }
          },
          "scene": {
           "xaxis": {
            "backgroundcolor": "#E5ECF6",
            "gridcolor": "white",
            "gridwidth": 2,
            "linecolor": "white",
            "showbackground": true,
            "ticks": "",
            "zerolinecolor": "white"
           },
           "yaxis": {
            "backgroundcolor": "#E5ECF6",
            "gridcolor": "white",
            "gridwidth": 2,
            "linecolor": "white",
            "showbackground": true,
            "ticks": "",
            "zerolinecolor": "white"
           },
           "zaxis": {
            "backgroundcolor": "#E5ECF6",
            "gridcolor": "white",
            "gridwidth": 2,
            "linecolor": "white",
            "showbackground": true,
            "ticks": "",
            "zerolinecolor": "white"
           }
          },
          "shapedefaults": {
           "line": {
            "color": "#2a3f5f"
           }
          },
          "ternary": {
           "aaxis": {
            "gridcolor": "white",
            "linecolor": "white",
            "ticks": ""
           },
           "baxis": {
            "gridcolor": "white",
            "linecolor": "white",
            "ticks": ""
           },
           "bgcolor": "#E5ECF6",
           "caxis": {
            "gridcolor": "white",
            "linecolor": "white",
            "ticks": ""
           }
          },
          "title": {
           "x": 0.05
          },
          "xaxis": {
           "automargin": true,
           "gridcolor": "white",
           "linecolor": "white",
           "ticks": "",
           "title": {
            "standoff": 15
           },
           "zerolinecolor": "white",
           "zerolinewidth": 2
          },
          "yaxis": {
           "automargin": true,
           "gridcolor": "white",
           "linecolor": "white",
           "ticks": "",
           "title": {
            "standoff": 15
           },
           "zerolinecolor": "white",
           "zerolinewidth": 2
          }
         }
        },
        "title": {
         "text": "China"
        }
       }
      }
     },
     "metadata": {},
     "output_type": "display_data"
    }
   ],
   "source": [
    "import plotly.express as px\n",
    "\n",
    "fig = px.line_geo(df_ubication, \n",
    "                     # longitude is taken from the df[\"lon\"] columns and latitude from df[\"lat\"]\n",
    "                     lon=\"Longitude\", \n",
    "                     lat=\"Latitude\", \n",
    "                     # choose the map chart's projection\n",
    "                     projection=\"natural earth\",\n",
    "                     markers=True,\n",
    "                     hover_name = \"ttl\",\n",
    "                     title=country.capitalize()\n",
    "                     )\n",
    "fig.update_traces(marker=dict(size=5, color=\"blue\"))\n",
    "fig.update_geos(fitbounds=\"locations\", showcountries = True)\n",
    "fig.write_image(f\"./graficos/worldmap_{country}.png\", engine=\"kaleido\", scale=4)\n",
    "fig.show()"
   ]
  },
  {
   "cell_type": "markdown",
   "metadata": {},
   "source": [
    "### Punto Opcional"
   ]
  },
  {
   "cell_type": "code",
   "execution_count": 11,
   "metadata": {},
   "outputs": [
    {
     "name": "stdout",
     "output_type": "stream",
     "text": [
      "     ttls              ip  tiempo restado  tiempo neto    varianza jump  \\\n",
      "0    ttl1     192.168.1.1       73.230028    73.230028  200.276545    1   \n",
      "1    ttl2    200.51.241.1        0.000000    67.287540  106.295933    2   \n",
      "2    ttl3   81.173.106.61        1.954961    69.242501  113.556232    3   \n",
      "3    ttl4  213.140.39.118        0.343863    67.631404  134.633463    4   \n",
      "4    ttl5    94.142.97.59      135.542599   203.174003  620.460673    5   \n",
      "5    ttl6   94.142.98.123      126.537220   194.168623   97.298715    6   \n",
      "6    ttl7   94.142.107.31       40.275868   234.444491   85.673300    7   \n",
      "7    ttl8   94.142.107.31       39.292884   233.461507  120.433392    8   \n",
      "8    ttl9   63.223.17.242      199.236774   432.698282  161.679134    9   \n",
      "9   ttl10   63.218.115.14        1.378719   434.077001  151.385013   10   \n",
      "10  ttl11   101.4.114.181       39.167563   473.244564  948.602075   11   \n",
      "11  ttl12   101.4.114.238       28.406262   462.483263  123.886825   12   \n",
      "12  ttl13   101.4.115.113        2.757454   465.240717   35.164270   13   \n",
      "13  ttl14   101.4.118.213        2.775710   468.016427  240.531891   14   \n",
      "14  ttl15       101.4.0.1        1.024381   463.507644  119.037337   15   \n",
      "\n",
      "    outlier  \n",
      "0      True  \n",
      "1     False  \n",
      "2     False  \n",
      "3     False  \n",
      "4      True  \n",
      "5      True  \n",
      "6     False  \n",
      "7     False  \n",
      "8      True  \n",
      "9     False  \n",
      "10    False  \n",
      "11    False  \n",
      "12    False  \n",
      "13    False  \n",
      "14    False  \n"
     ]
    },
    {
     "name": "stderr",
     "output_type": "stream",
     "text": [
      "/tmp/ipykernel_31827/75297637.py:17: SettingWithCopyWarning:\n",
      "\n",
      "\n",
      "A value is trying to be set on a copy of a slice from a DataFrame.\n",
      "Try using .loc[row_indexer,col_indexer] = value instead\n",
      "\n",
      "See the caveats in the documentation: https://pandas.pydata.org/pandas-docs/stable/user_guide/indexing.html#returning-a-view-versus-a-copy\n",
      "\n"
     ]
    }
   ],
   "source": [
    "import scipy.stats\n",
    "\n",
    "def get_thompson_for_n(n):\n",
    "    alpha = 0.05\n",
    "    qt = scipy.stats.t.ppf(q = 1 - alpha/2, df = n-2)\n",
    "    thompson = (qt * (n - 1)) / (np.sqrt(n) * np.sqrt(n - 2 + qt**2))\n",
    "    return thompson\n",
    "\n",
    "def find_outliers(df):\n",
    "    df = df.copy()\n",
    "    df[\"outlier\"] = False\n",
    "    df[\"rtt_deviations\"] = 0\n",
    "    \n",
    "    while len(df[df[\"outlier\"] == False]) != 0:\n",
    "        df_without_outliers = df[df[\"outlier\"] == False]\n",
    "        rtts = df_without_outliers[\"tiempo restado\"]\n",
    "        df_without_outliers[\"rtt_deviations\"] = abs(rtts - rtts.mean())\n",
    "        std = rtts.std()\n",
    "        thompson = get_thompson_for_n(len(df_without_outliers))\n",
    "        if max(df_without_outliers[\"rtt_deviations\"]) > thompson * std:\n",
    "            ttl_outlier = df_without_outliers.loc[df_without_outliers[\"rtt_deviations\"].idxmax()][\"ttls\"]\n",
    "            #df.at[df.loc[df[\"ttls\"] == ttl_outlier].index[0], \"outlier\"] = True\n",
    "            df.loc[df[\"ttls\"] == str(ttl_outlier), \"outlier\"] = True\n",
    "        else:\n",
    "            break\n",
    "    \n",
    "    df.drop(\"rtt_deviations\", axis=1, inplace=True)\n",
    "    return df\n",
    "\n",
    "df_with_outliers = find_outliers(df_time)\n",
    "print(df_with_outliers)"
   ]
  },
  {
   "cell_type": "code",
   "execution_count": 12,
   "metadata": {},
   "outputs": [
    {
     "data": {
      "image/png": "[encoded data removed]",
      "text/plain": [
       "<Figure size 864x648 with 1 Axes>"
      ]
     },
     "metadata": {},
     "output_type": "display_data"
    }
   ],
   "source": [
    "df_with_outliers[\"jump\"] = df_with_outliers[\"ttls\"].str[3:]\n",
    "ax = sns.barplot(\n",
    "    x= df_with_outliers['tiempo restado'], \n",
    "    y= df_with_outliers['jump'],\n",
    "    estimator=sum,\n",
    "    ci=None,\n",
    "    orient = 'h',\n",
    "    hue=df_with_outliers['outlier']\n",
    ")\n",
    "ax.set_xlabel(\"RTT (ms)\")\n",
    "ax.set_ylabel(\"Jump\")\n",
    "ax.set_title(country.capitalize())\n",
    "fig = ax.get_figure()\n",
    "fig.savefig(f\"./graficos/ttl_hist_outliers_{country}.png\", dpi=200)"
   ]
  },
  {
   "cell_type": "code",
   "execution_count": 13,
   "metadata": {},
   "outputs": [
    {
     "data": {
      "text/html": [
       "<div>\n",
       "<style scoped>\n",
       "    .dataframe tbody tr th:only-of-type {\n",
       "        vertical-align: middle;\n",
       "    }\n",
       "\n",
       "    .dataframe tbody tr th {\n",
       "        vertical-align: top;\n",
       "    }\n",
       "\n",
       "    .dataframe thead th {\n",
       "        text-align: right;\n",
       "    }\n",
       "</style>\n",
       "<table border=\"1\" class=\"dataframe\">\n",
       "  <thead>\n",
       "    <tr style=\"text-align: right;\">\n",
       "      <th></th>\n",
       "      <th>ttl</th>\n",
       "      <th>Latitude</th>\n",
       "      <th>Longitude</th>\n",
       "      <th>ttls</th>\n",
       "      <th>outlier</th>\n",
       "    </tr>\n",
       "  </thead>\n",
       "  <tbody>\n",
       "    <tr>\n",
       "      <th>0</th>\n",
       "      <td>ttl2</td>\n",
       "      <td>-34.6167</td>\n",
       "      <td>-58.36800</td>\n",
       "      <td>ttl2</td>\n",
       "      <td>False</td>\n",
       "    </tr>\n",
       "    <tr>\n",
       "      <th>1</th>\n",
       "      <td>ttl3</td>\n",
       "      <td>40.5156</td>\n",
       "      <td>-3.66234</td>\n",
       "      <td>ttl3</td>\n",
       "      <td>False</td>\n",
       "    </tr>\n",
       "    <tr>\n",
       "      <th>2</th>\n",
       "      <td>ttl4</td>\n",
       "      <td>40.5149</td>\n",
       "      <td>-3.66524</td>\n",
       "      <td>ttl4</td>\n",
       "      <td>False</td>\n",
       "    </tr>\n",
       "    <tr>\n",
       "      <th>3</th>\n",
       "      <td>ttl5</td>\n",
       "      <td>40.5156</td>\n",
       "      <td>-3.66234</td>\n",
       "      <td>ttl5</td>\n",
       "      <td>True</td>\n",
       "    </tr>\n",
       "    <tr>\n",
       "      <th>4</th>\n",
       "      <td>ttl6</td>\n",
       "      <td>47.6034</td>\n",
       "      <td>-122.34140</td>\n",
       "      <td>ttl6</td>\n",
       "      <td>True</td>\n",
       "    </tr>\n",
       "    <tr>\n",
       "      <th>5</th>\n",
       "      <td>ttl7</td>\n",
       "      <td>40.5156</td>\n",
       "      <td>-3.66234</td>\n",
       "      <td>ttl7</td>\n",
       "      <td>False</td>\n",
       "    </tr>\n",
       "    <tr>\n",
       "      <th>6</th>\n",
       "      <td>ttl8</td>\n",
       "      <td>40.5156</td>\n",
       "      <td>-3.66234</td>\n",
       "      <td>ttl8</td>\n",
       "      <td>False</td>\n",
       "    </tr>\n",
       "    <tr>\n",
       "      <th>7</th>\n",
       "      <td>ttl9</td>\n",
       "      <td>22.3964</td>\n",
       "      <td>114.10900</td>\n",
       "      <td>ttl9</td>\n",
       "      <td>True</td>\n",
       "    </tr>\n",
       "    <tr>\n",
       "      <th>8</th>\n",
       "      <td>ttl10</td>\n",
       "      <td>37.3382</td>\n",
       "      <td>-121.88600</td>\n",
       "      <td>ttl10</td>\n",
       "      <td>False</td>\n",
       "    </tr>\n",
       "    <tr>\n",
       "      <th>9</th>\n",
       "      <td>ttl11</td>\n",
       "      <td>40.0007</td>\n",
       "      <td>116.32900</td>\n",
       "      <td>ttl11</td>\n",
       "      <td>False</td>\n",
       "    </tr>\n",
       "    <tr>\n",
       "      <th>10</th>\n",
       "      <td>ttl12</td>\n",
       "      <td>40.0007</td>\n",
       "      <td>116.32900</td>\n",
       "      <td>ttl12</td>\n",
       "      <td>False</td>\n",
       "    </tr>\n",
       "    <tr>\n",
       "      <th>11</th>\n",
       "      <td>ttl13</td>\n",
       "      <td>40.0007</td>\n",
       "      <td>116.32900</td>\n",
       "      <td>ttl13</td>\n",
       "      <td>False</td>\n",
       "    </tr>\n",
       "    <tr>\n",
       "      <th>12</th>\n",
       "      <td>ttl14</td>\n",
       "      <td>40.0007</td>\n",
       "      <td>116.32900</td>\n",
       "      <td>ttl14</td>\n",
       "      <td>False</td>\n",
       "    </tr>\n",
       "    <tr>\n",
       "      <th>13</th>\n",
       "      <td>ttl15</td>\n",
       "      <td>39.8565</td>\n",
       "      <td>116.28500</td>\n",
       "      <td>ttl15</td>\n",
       "      <td>False</td>\n",
       "    </tr>\n",
       "  </tbody>\n",
       "</table>\n",
       "</div>"
      ],
      "text/plain": [
       "      ttl  Latitude  Longitude   ttls  outlier\n",
       "0    ttl2  -34.6167  -58.36800   ttl2    False\n",
       "1    ttl3   40.5156   -3.66234   ttl3    False\n",
       "2    ttl4   40.5149   -3.66524   ttl4    False\n",
       "3    ttl5   40.5156   -3.66234   ttl5     True\n",
       "4    ttl6   47.6034 -122.34140   ttl6     True\n",
       "5    ttl7   40.5156   -3.66234   ttl7    False\n",
       "6    ttl8   40.5156   -3.66234   ttl8    False\n",
       "7    ttl9   22.3964  114.10900   ttl9     True\n",
       "8   ttl10   37.3382 -121.88600  ttl10    False\n",
       "9   ttl11   40.0007  116.32900  ttl11    False\n",
       "10  ttl12   40.0007  116.32900  ttl12    False\n",
       "11  ttl13   40.0007  116.32900  ttl13    False\n",
       "12  ttl14   40.0007  116.32900  ttl14    False\n",
       "13  ttl15   39.8565  116.28500  ttl15    False"
      ]
     },
     "execution_count": 13,
     "metadata": {},
     "output_type": "execute_result"
    }
   ],
   "source": [
    "df_ubication_with_outlier = df_ubication.merge(df_with_outliers[[\"ttls\", \"outlier\"]], left_on=\"ttl\", right_on=\"ttls\")\n",
    "df_ubication_with_outlier"
   ]
  },
  {
   "cell_type": "code",
   "execution_count": 14,
   "metadata": {},
   "outputs": [],
   "source": [
    "df_ubication_with_outlier[\"color\"] = \"blue\"\n",
    "df_ubication_with_outlier[\"markersize\"] = 7\n",
    "df_ubication_with_outlier[\"markersymbol\"] = \"circle\"\n",
    "def format_outliers(row):\n",
    "    if row[\"outlier\"]:\n",
    "        row[\"color\"] = \"red\"\n",
    "        row[\"markersize\"] = 10\n",
    "        row[\"markersymbol\"] = \"diamond\"\n",
    "    return row\n",
    "df_ubication_with_outlier = df_ubication_with_outlier.apply(format_outliers, axis=1)"
   ]
  },
  {
   "cell_type": "code",
   "execution_count": 15,
   "metadata": {},
   "outputs": [
    {
     "data": {
      "application/vnd.plotly.v1+json": {
       "config": {
        "plotlyServerURL": "https://plot.ly"
       },
       "data": [
        {
         "geo": "geo",
         "hovertemplate": "<b>%{hovertext}</b><br><br>Latitude=%{lat}<br>Longitude=%{lon}<extra></extra>",
         "hovertext": [
          "ttl2",
          "ttl3",
          "ttl4",
          "ttl5",
          "ttl6",
          "ttl7",
          "ttl8",
          "ttl9",
          "ttl10",
          "ttl11",
          "ttl12",
          "ttl13",
          "ttl14",
          "ttl15"
         ],
         "lat": [
          -34.6167,
          40.5156,
          40.5149,
          40.5156,
          47.6034,
          40.5156,
          40.5156,
          22.3964,
          37.3382,
          40.0007,
          40.0007,
          40.0007,
          40.0007,
          39.8565
         ],
         "legendgroup": "",
         "line": {
          "color": "#636efa",
          "dash": "solid"
         },
         "lon": [
          -58.368,
          -3.66234,
          -3.66524,
          -3.66234,
          -122.3414,
          -3.66234,
          -3.66234,
          114.109,
          -121.886,
          116.329,
          116.329,
          116.329,
          116.329,
          116.285
         ],
         "marker": {
          "color": [
           "blue",
           "blue",
           "blue",
           "red",
           "red",
           "blue",
           "blue",
           "red",
           "blue",
           "blue",
           "blue",
           "blue",
           "blue",
           "blue"
          ],
          "size": [
           7,
           7,
           7,
           10,
           10,
           7,
           7,
           10,
           7,
           7,
           7,
           7,
           7,
           7
          ],
          "symbol": [
           "circle",
           "circle",
           "circle",
           "diamond",
           "diamond",
           "circle",
           "circle",
           "diamond",
           "circle",
           "circle",
           "circle",
           "circle",
           "circle",
           "circle"
          ]
         },
         "mode": "markers+lines",
         "name": "",
         "showlegend": false,
         "type": "scattergeo"
        }
       ],
       "layout": {
        "geo": {
         "center": {},
         "domain": {
          "x": [
           0,
           1
          ],
          "y": [
           0,
           1
          ]
         },
         "fitbounds": "locations",
         "projection": {
          "type": "natural earth"
         },
         "showcountries": true
        },
        "legend": {
         "tracegroupgap": 0
        },
        "template": {
         "data": {
          "bar": [
           {
            "error_x": {
             "color": "#2a3f5f"
            },
            "error_y": {
             "color": "#2a3f5f"
            },
            "marker": {
             "line": {
              "color": "#E5ECF6",
              "width": 0.5
             },
             "pattern": {
              "fillmode": "overlay",
              "size": 10,
              "solidity": 0.2
             }
            },
            "type": "bar"
           }
          ],
          "barpolar": [
           {
            "marker": {
             "line": {
              "color": "#E5ECF6",
              "width": 0.5
             },
             "pattern": {
              "fillmode": "overlay",
              "size": 10,
              "solidity": 0.2
             }
            },
            "type": "barpolar"
           }
          ],
          "carpet": [
           {
            "aaxis": {
             "endlinecolor": "#2a3f5f",
             "gridcolor": "white",
             "linecolor": "white",
             "minorgridcolor": "white",
             "startlinecolor": "#2a3f5f"
            },
            "baxis": {
             "endlinecolor": "#2a3f5f",
             "gridcolor": "white",
             "linecolor": "white",
             "minorgridcolor": "white",
             "startlinecolor": "#2a3f5f"
            },
            "type": "carpet"
           }
          ],
          "choropleth": [
           {
            "colorbar": {
             "outlinewidth": 0,
             "ticks": ""
            },
            "type": "choropleth"
           }
          ],
          "contour": [
           {
            "colorbar": {
             "outlinewidth": 0,
             "ticks": ""
            },
            "colorscale": [
             [
              0,
              "#0d0887"
             ],
             [
              0.1111111111111111,
              "#46039f"
             ],
             [
              0.2222222222222222,
              "#7201a8"
             ],
             [
              0.3333333333333333,
              "#9c179e"
             ],
             [
              0.4444444444444444,
              "#bd3786"
             ],
             [
              0.5555555555555556,
              "#d8576b"
             ],
             [
              0.6666666666666666,
              "#ed7953"
             ],
             [
              0.7777777777777778,
              "#fb9f3a"
             ],
             [
              0.8888888888888888,
              "#fdca26"
             ],
             [
              1,
              "#f0f921"
             ]
            ],
            "type": "contour"
           }
          ],
          "contourcarpet": [
           {
            "colorbar": {
             "outlinewidth": 0,
             "ticks": ""
            },
            "type": "contourcarpet"
           }
          ],
          "heatmap": [
           {
            "colorbar": {
             "outlinewidth": 0,
             "ticks": ""
            },
            "colorscale": [
             [
              0,
              "#0d0887"
             ],
             [
              0.1111111111111111,
              "#46039f"
             ],
             [
              0.2222222222222222,
              "#7201a8"
             ],
             [
              0.3333333333333333,
              "#9c179e"
             ],
             [
              0.4444444444444444,
              "#bd3786"
             ],
             [
              0.5555555555555556,
              "#d8576b"
             ],
             [
              0.6666666666666666,
              "#ed7953"
             ],
             [
              0.7777777777777778,
              "#fb9f3a"
             ],
             [
              0.8888888888888888,
              "#fdca26"
             ],
             [
              1,
              "#f0f921"
             ]
            ],
            "type": "heatmap"
           }
          ],
          "heatmapgl": [
           {
            "colorbar": {
             "outlinewidth": 0,
             "ticks": ""
            },
            "colorscale": [
             [
              0,
              "#0d0887"
             ],
             [
              0.1111111111111111,
              "#46039f"
             ],
             [
              0.2222222222222222,
              "#7201a8"
             ],
             [
              0.3333333333333333,
              "#9c179e"
             ],
             [
              0.4444444444444444,
              "#bd3786"
             ],
             [
              0.5555555555555556,
              "#d8576b"
             ],
             [
              0.6666666666666666,
              "#ed7953"
             ],
             [
              0.7777777777777778,
              "#fb9f3a"
             ],
             [
              0.8888888888888888,
              "#fdca26"
             ],
             [
              1,
              "#f0f921"
             ]
            ],
            "type": "heatmapgl"
           }
          ],
          "histogram": [
           {
            "marker": {
             "pattern": {
              "fillmode": "overlay",
              "size": 10,
              "solidity": 0.2
             }
            },
            "type": "histogram"
           }
          ],
          "histogram2d": [
           {
            "colorbar": {
             "outlinewidth": 0,
             "ticks": ""
            },
            "colorscale": [
             [
              0,
              "#0d0887"
             ],
             [
              0.1111111111111111,
              "#46039f"
             ],
             [
              0.2222222222222222,
              "#7201a8"
             ],
             [
              0.3333333333333333,
              "#9c179e"
             ],
             [
              0.4444444444444444,
              "#bd3786"
             ],
             [
              0.5555555555555556,
              "#d8576b"
             ],
             [
              0.6666666666666666,
              "#ed7953"
             ],
             [
              0.7777777777777778,
              "#fb9f3a"
             ],
             [
              0.8888888888888888,
              "#fdca26"
             ],
             [
              1,
              "#f0f921"
             ]
            ],
            "type": "histogram2d"
           }
          ],
          "histogram2dcontour": [
           {
            "colorbar": {
             "outlinewidth": 0,
             "ticks": ""
            },
            "colorscale": [
             [
              0,
              "#0d0887"
             ],
             [
              0.1111111111111111,
              "#46039f"
             ],
             [
              0.2222222222222222,
              "#7201a8"
             ],
             [
              0.3333333333333333,
              "#9c179e"
             ],
             [
              0.4444444444444444,
              "#bd3786"
             ],
             [
              0.5555555555555556,
              "#d8576b"
             ],
             [
              0.6666666666666666,
              "#ed7953"
             ],
             [
              0.7777777777777778,
              "#fb9f3a"
             ],
             [
              0.8888888888888888,
              "#fdca26"
             ],
             [
              1,
              "#f0f921"
             ]
            ],
            "type": "histogram2dcontour"
           }
          ],
          "mesh3d": [
           {
            "colorbar": {
             "outlinewidth": 0,
             "ticks": ""
            },
            "type": "mesh3d"
           }
          ],
          "parcoords": [
           {
            "line": {
             "colorbar": {
              "outlinewidth": 0,
              "ticks": ""
             }
            },
            "type": "parcoords"
           }
          ],
          "pie": [
           {
            "automargin": true,
            "type": "pie"
           }
          ],
          "scatter": [
           {
            "fillpattern": {
             "fillmode": "overlay",
             "size": 10,
             "solidity": 0.2
            },
            "type": "scatter"
           }
          ],
          "scatter3d": [
           {
            "line": {
             "colorbar": {
              "outlinewidth": 0,
              "ticks": ""
             }
            },
            "marker": {
             "colorbar": {
              "outlinewidth": 0,
              "ticks": ""
             }
            },
            "type": "scatter3d"
           }
          ],
          "scattercarpet": [
           {
            "marker": {
             "colorbar": {
              "outlinewidth": 0,
              "ticks": ""
             }
            },
            "type": "scattercarpet"
           }
          ],
          "scattergeo": [
           {
            "marker": {
             "colorbar": {
              "outlinewidth": 0,
              "ticks": ""
             }
            },
            "type": "scattergeo"
           }
          ],
          "scattergl": [
           {
            "marker": {
             "colorbar": {
              "outlinewidth": 0,
              "ticks": ""
             }
            },
            "type": "scattergl"
           }
          ],
          "scattermapbox": [
           {
            "marker": {
             "colorbar": {
              "outlinewidth": 0,
              "ticks": ""
             }
            },
            "type": "scattermapbox"
           }
          ],
          "scatterpolar": [
           {
            "marker": {
             "colorbar": {
              "outlinewidth": 0,
              "ticks": ""
             }
            },
            "type": "scatterpolar"
           }
          ],
          "scatterpolargl": [
           {
            "marker": {
             "colorbar": {
              "outlinewidth": 0,
              "ticks": ""
             }
            },
            "type": "scatterpolargl"
           }
          ],
          "scatterternary": [
           {
            "marker": {
             "colorbar": {
              "outlinewidth": 0,
              "ticks": ""
             }
            },
            "type": "scatterternary"
           }
          ],
          "surface": [
           {
            "colorbar": {
             "outlinewidth": 0,
             "ticks": ""
            },
            "colorscale": [
             [
              0,
              "#0d0887"
             ],
             [
              0.1111111111111111,
              "#46039f"
             ],
             [
              0.2222222222222222,
              "#7201a8"
             ],
             [
              0.3333333333333333,
              "#9c179e"
             ],
             [
              0.4444444444444444,
              "#bd3786"
             ],
             [
              0.5555555555555556,
              "#d8576b"
             ],
             [
              0.6666666666666666,
              "#ed7953"
             ],
             [
              0.7777777777777778,
              "#fb9f3a"
             ],
             [
              0.8888888888888888,
              "#fdca26"
             ],
             [
              1,
              "#f0f921"
             ]
            ],
            "type": "surface"
           }
          ],
          "table": [
           {
            "cells": {
             "fill": {
              "color": "#EBF0F8"
             },
             "line": {
              "color": "white"
             }
            },
            "header": {
             "fill": {
              "color": "#C8D4E3"
             },
             "line": {
              "color": "white"
             }
            },
            "type": "table"
           }
          ]
         },
         "layout": {
          "annotationdefaults": {
           "arrowcolor": "#2a3f5f",
           "arrowhead": 0,
           "arrowwidth": 1
          },
          "autotypenumbers": "strict",
          "coloraxis": {
           "colorbar": {
            "outlinewidth": 0,
            "ticks": ""
           }
          },
          "colorscale": {
           "diverging": [
            [
             0,
             "#8e0152"
            ],
            [
             0.1,
             "#c51b7d"
            ],
            [
             0.2,
             "#de77ae"
            ],
            [
             0.3,
             "#f1b6da"
            ],
            [
             0.4,
             "#fde0ef"
            ],
            [
             0.5,
             "#f7f7f7"
            ],
            [
             0.6,
             "#e6f5d0"
            ],
            [
             0.7,
             "#b8e186"
            ],
            [
             0.8,
             "#7fbc41"
            ],
            [
             0.9,
             "#4d9221"
            ],
            [
             1,
             "#276419"
            ]
           ],
           "sequential": [
            [
             0,
             "#0d0887"
            ],
            [
             0.1111111111111111,
             "#46039f"
            ],
            [
             0.2222222222222222,
             "#7201a8"
            ],
            [
             0.3333333333333333,
             "#9c179e"
            ],
            [
             0.4444444444444444,
             "#bd3786"
            ],
            [
             0.5555555555555556,
             "#d8576b"
            ],
            [
             0.6666666666666666,
             "#ed7953"
            ],
            [
             0.7777777777777778,
             "#fb9f3a"
            ],
            [
             0.8888888888888888,
             "#fdca26"
            ],
            [
             1,
             "#f0f921"
            ]
           ],
           "sequentialminus": [
            [
             0,
             "#0d0887"
            ],
            [
             0.1111111111111111,
             "#46039f"
            ],
            [
             0.2222222222222222,
             "#7201a8"
            ],
            [
             0.3333333333333333,
             "#9c179e"
            ],
            [
             0.4444444444444444,
             "#bd3786"
            ],
            [
             0.5555555555555556,
             "#d8576b"
            ],
            [
             0.6666666666666666,
             "#ed7953"
            ],
            [
             0.7777777777777778,
             "#fb9f3a"
            ],
            [
             0.8888888888888888,
             "#fdca26"
            ],
            [
             1,
             "#f0f921"
            ]
           ]
          },
          "colorway": [
           "#636efa",
           "#EF553B",
           "#00cc96",
           "#ab63fa",
           "#FFA15A",
           "#19d3f3",
           "#FF6692",
           "#B6E880",
           "#FF97FF",
           "#FECB52"
          ],
          "font": {
           "color": "#2a3f5f"
          },
          "geo": {
           "bgcolor": "white",
           "lakecolor": "white",
           "landcolor": "#E5ECF6",
           "showlakes": true,
           "showland": true,
           "subunitcolor": "white"
          },
          "hoverlabel": {
           "align": "left"
          },
          "hovermode": "closest",
          "mapbox": {
           "style": "light"
          },
          "paper_bgcolor": "white",
          "plot_bgcolor": "#E5ECF6",
          "polar": {
           "angularaxis": {
            "gridcolor": "white",
            "linecolor": "white",
            "ticks": ""
           },
           "bgcolor": "#E5ECF6",
           "radialaxis": {
            "gridcolor": "white",
            "linecolor": "white",
            "ticks": ""
           }
          },
          "scene": {
           "xaxis": {
            "backgroundcolor": "#E5ECF6",
            "gridcolor": "white",
            "gridwidth": 2,
            "linecolor": "white",
            "showbackground": true,
            "ticks": "",
            "zerolinecolor": "white"
           },
           "yaxis": {
            "backgroundcolor": "#E5ECF6",
            "gridcolor": "white",
            "gridwidth": 2,
            "linecolor": "white",
            "showbackground": true,
            "ticks": "",
            "zerolinecolor": "white"
           },
           "zaxis": {
            "backgroundcolor": "#E5ECF6",
            "gridcolor": "white",
            "gridwidth": 2,
            "linecolor": "white",
            "showbackground": true,
            "ticks": "",
            "zerolinecolor": "white"
           }
          },
          "shapedefaults": {
           "line": {
            "color": "#2a3f5f"
           }
          },
          "ternary": {
           "aaxis": {
            "gridcolor": "white",
            "linecolor": "white",
            "ticks": ""
           },
           "baxis": {
            "gridcolor": "white",
            "linecolor": "white",
            "ticks": ""
           },
           "bgcolor": "#E5ECF6",
           "caxis": {
            "gridcolor": "white",
            "linecolor": "white",
            "ticks": ""
           }
          },
          "title": {
           "x": 0.05
          },
          "xaxis": {
           "automargin": true,
           "gridcolor": "white",
           "linecolor": "white",
           "ticks": "",
           "title": {
            "standoff": 15
           },
           "zerolinecolor": "white",
           "zerolinewidth": 2
          },
          "yaxis": {
           "automargin": true,
           "gridcolor": "white",
           "linecolor": "white",
           "ticks": "",
           "title": {
            "standoff": 15
           },
           "zerolinecolor": "white",
           "zerolinewidth": 2
          }
         }
        },
        "title": {
         "text": "China"
        }
       }
      }
     },
     "metadata": {},
     "output_type": "display_data"
    }
   ],
   "source": [
    "import plotly.express as px\n",
    "\n",
    "fig = px.line_geo(df_ubication, \n",
    "                     # longitude is taken from the df[\"lon\"] columns and latitude from df[\"lat\"]\n",
    "                     lon=\"Longitude\", \n",
    "                     lat=\"Latitude\", \n",
    "                     # choose the map chart's projection\n",
    "                     projection=\"natural earth\",\n",
    "                     markers=True,\n",
    "                     hover_name = \"ttl\",\n",
    "                     title=country.capitalize()\n",
    "                     )\n",
    "fig.update_traces(marker=dict(symbol = df_ubication_with_outlier[\"markersymbol\"], size=df_ubication_with_outlier[\"markersize\"], color=df_ubication_with_outlier[\"color\"]))\n",
    "fig.update_geos(fitbounds=\"locations\", showcountries = True)\n",
    "fig.write_image(f\"./graficos/worldmap_outliers_{country}.png\", engine=\"kaleido\", scale=4)\n",
    "fig.show()"
   ]
  },
  {
   "cell_type": "code",
   "execution_count": null,
   "metadata": {},
   "outputs": [],
   "source": []
  }
 ],
 "metadata": {
  "interpreter": {
   "hash": "ebfe85d34e2c8bf36c395e80b58ce3afa38e7bbdf037e140615da6058b306e8f"
  },
  "kernelspec": {
   "display_name": "Python 3.10.0 64-bit ('3.10.0')",
   "language": "python",
   "name": "python3"
  },
  "language_info": {
   "codemirror_mode": {
    "name": "ipython",
    "version": 3
   },
   "file_extension": ".py",
   "mimetype": "text/x-python",
   "name": "python",
   "nbconvert_exporter": "python",
   "pygments_lexer": "ipython3",
   "version": "3.10.0"
  }
 },
 "nbformat": 4,
 "nbformat_minor": 2
}

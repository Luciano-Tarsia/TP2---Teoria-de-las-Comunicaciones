{
 "cells": [
  {
   "cell_type": "code",
   "execution_count": 1,
   "metadata": {},
   "outputs": [],
   "source": [
    "import os\n",
    "import pandas as pd\n",
    "import numpy as np\n",
    "import matplotlib.pyplot as plt\n",
    "import seaborn as sns\n",
    "sns.set(rc={'figure.figsize':(12, 9)})"
   ]
  },
  {
   "cell_type": "code",
   "execution_count": 2,
   "metadata": {},
   "outputs": [],
   "source": [
    "country = \"noruega\"\n",
    "\n",
    "#Constante ip\n",
    "\n",
    "IP = '101.4.0.1'\n",
    "\n",
    "#Dataframes\n",
    "\n",
    "IP_PER_COUNTRY = {\n",
    "    \"usa\": \"128.112.0.0\",\n",
    "    \"australia\": \"130.130.39.1\",\n",
    "    \"china\": \"101.4.0.1\",\n",
    "    \"noruega\": \"129.240.118.130\",\n",
    "    \"israel\": \"132.66.11.168\"\n",
    "}\n",
    "\n",
    "destiny_ip = IP_PER_COUNTRY[country]\n",
    "\n",
    "for csv_path in os.listdir(\"../data/\"):\n",
    "    if destiny_ip in csv_path:\n",
    "        if \"(all ips)\" in csv_path:\n",
    "            complete_data_path = csv_path\n",
    "        else:\n",
    "            mean_data_path = csv_path\n",
    "\n",
    "dict_capturas = dict({country: f'../data/{complete_data_path}',\n",
    "                      f\"{country}_mean\": f'../data/{mean_data_path}'})\n",
    "\n",
    "for captura in dict_capturas.keys():\n",
    "    dict_capturas[captura] = pd.read_csv(dict_capturas[captura])\n",
    "    dict_capturas[captura].name = captura\n",
    "\n",
    "df_tll_jumps = dict_capturas[country]\n",
    "df_tll_jumps_mean = dict_capturas[f\"{country}_mean\"]\n",
    "\n",
    "def most_frequent(List):\n",
    "    return max(set(List), key = List.count)"
   ]
  },
  {
   "cell_type": "markdown",
   "metadata": {},
   "source": [
    "# Camino de ip's"
   ]
  },
  {
   "cell_type": "code",
   "execution_count": 3,
   "metadata": {},
   "outputs": [],
   "source": [
    "# Diccionario que en cada entrada es un ttl, y en cada una hay una lista con las ips\n",
    "# que aparecieron en ese salto\n",
    "dict_ips_for_every_ttl = dict()\n",
    "dict_ips_for_every_ttl['ttl1'] = []\n",
    "\n",
    "# Esto lo hago para poder iterar el df\n",
    "df_tll_jumps = df_tll_jumps.reset_index()\n",
    "\n",
    "row_ttl = 1\n",
    "for index, row in df_tll_jumps.iterrows():\n",
    "    if (row['ttl'] == row_ttl):\n",
    "        dict_ips_for_every_ttl['ttl'+str(row_ttl)].append(row['ip'])\n",
    "    else:\n",
    "        row_ttl = row['ttl']\n",
    "        dict_ips_for_every_ttl['ttl'+str(row_ttl)] = []\n",
    "        dict_ips_for_every_ttl['ttl'+str(row_ttl)].append(row['ip'])\n",
    "\n",
    "most_frequent_ip = dict()\n",
    "ttl_anterior = 'ttl1'\n",
    "for ttl in dict_ips_for_every_ttl.keys():\n",
    "    if (most_frequent(dict_ips_for_every_ttl[ttl]) == most_frequent(dict_ips_for_every_ttl[ttl_anterior]) and most_frequent(dict_ips_for_every_ttl[ttl]) == IP):\n",
    "        break    \n",
    "    most_frequent_ip[ttl] = most_frequent(dict_ips_for_every_ttl[ttl])\n",
    "    ttl_anterior = ttl\n",
    "\n",
    "# most_frequent_ip es un diccionario que la clave tiene el ttl correspondiente, y en el valor la ip\n",
    "# que más apareció para ese ttl"
   ]
  },
  {
   "cell_type": "markdown",
   "metadata": {},
   "source": [
    "# Dataframe nuevo"
   ]
  },
  {
   "cell_type": "code",
   "execution_count": 4,
   "metadata": {},
   "outputs": [
    {
     "data": {
      "text/html": [
       "<div>\n",
       "<style scoped>\n",
       "    .dataframe tbody tr th:only-of-type {\n",
       "        vertical-align: middle;\n",
       "    }\n",
       "\n",
       "    .dataframe tbody tr th {\n",
       "        vertical-align: top;\n",
       "    }\n",
       "\n",
       "    .dataframe thead th {\n",
       "        text-align: right;\n",
       "    }\n",
       "</style>\n",
       "<table border=\"1\" class=\"dataframe\">\n",
       "  <thead>\n",
       "    <tr style=\"text-align: right;\">\n",
       "      <th></th>\n",
       "      <th>ttls</th>\n",
       "      <th>ip</th>\n",
       "      <th>tiempo restado</th>\n",
       "      <th>tiempo neto</th>\n",
       "      <th>varianza</th>\n",
       "    </tr>\n",
       "  </thead>\n",
       "  <tbody>\n",
       "    <tr>\n",
       "      <th>0</th>\n",
       "      <td>ttl1</td>\n",
       "      <td>192.168.0.1</td>\n",
       "      <td>62.892858</td>\n",
       "      <td>62.892858</td>\n",
       "      <td>275.742094</td>\n",
       "    </tr>\n",
       "    <tr>\n",
       "      <th>1</th>\n",
       "      <td>ttl6</td>\n",
       "      <td>181.96.113.234</td>\n",
       "      <td>108.487185</td>\n",
       "      <td>171.380043</td>\n",
       "      <td>0.000000</td>\n",
       "    </tr>\n",
       "    <tr>\n",
       "      <th>2</th>\n",
       "      <td>ttl7</td>\n",
       "      <td>195.22.220.56</td>\n",
       "      <td>11.807887</td>\n",
       "      <td>74.700745</td>\n",
       "      <td>170.150083</td>\n",
       "    </tr>\n",
       "    <tr>\n",
       "      <th>3</th>\n",
       "      <td>ttl8</td>\n",
       "      <td>195.22.209.198</td>\n",
       "      <td>201.588353</td>\n",
       "      <td>276.289097</td>\n",
       "      <td>128.238514</td>\n",
       "    </tr>\n",
       "    <tr>\n",
       "      <th>4</th>\n",
       "      <td>ttl9</td>\n",
       "      <td>195.66.225.24</td>\n",
       "      <td>1.533866</td>\n",
       "      <td>277.822963</td>\n",
       "      <td>92.419914</td>\n",
       "    </tr>\n",
       "    <tr>\n",
       "      <th>5</th>\n",
       "      <td>ttl10</td>\n",
       "      <td>109.105.97.124</td>\n",
       "      <td>8.768392</td>\n",
       "      <td>286.591355</td>\n",
       "      <td>93.618006</td>\n",
       "    </tr>\n",
       "    <tr>\n",
       "      <th>6</th>\n",
       "      <td>ttl11</td>\n",
       "      <td>109.105.97.74</td>\n",
       "      <td>5.746309</td>\n",
       "      <td>283.569272</td>\n",
       "      <td>133.460818</td>\n",
       "    </tr>\n",
       "    <tr>\n",
       "      <th>7</th>\n",
       "      <td>ttl12</td>\n",
       "      <td>109.105.98.120</td>\n",
       "      <td>1.888879</td>\n",
       "      <td>285.458151</td>\n",
       "      <td>93.975980</td>\n",
       "    </tr>\n",
       "    <tr>\n",
       "      <th>8</th>\n",
       "      <td>ttl13</td>\n",
       "      <td>109.105.98.121</td>\n",
       "      <td>11.586054</td>\n",
       "      <td>297.044206</td>\n",
       "      <td>141.690909</td>\n",
       "    </tr>\n",
       "    <tr>\n",
       "      <th>9</th>\n",
       "      <td>ttl14</td>\n",
       "      <td>128.39.254.204</td>\n",
       "      <td>4.939922</td>\n",
       "      <td>301.984127</td>\n",
       "      <td>106.741681</td>\n",
       "    </tr>\n",
       "    <tr>\n",
       "      <th>10</th>\n",
       "      <td>ttl15</td>\n",
       "      <td>128.39.255.64</td>\n",
       "      <td>4.012434</td>\n",
       "      <td>305.996561</td>\n",
       "      <td>76.143665</td>\n",
       "    </tr>\n",
       "    <tr>\n",
       "      <th>11</th>\n",
       "      <td>ttl16</td>\n",
       "      <td>128.39.254.82</td>\n",
       "      <td>10.881583</td>\n",
       "      <td>296.339734</td>\n",
       "      <td>163.812263</td>\n",
       "    </tr>\n",
       "    <tr>\n",
       "      <th>12</th>\n",
       "      <td>ttl17</td>\n",
       "      <td>128.39.65.18</td>\n",
       "      <td>14.506610</td>\n",
       "      <td>310.846345</td>\n",
       "      <td>1377.978627</td>\n",
       "    </tr>\n",
       "    <tr>\n",
       "      <th>13</th>\n",
       "      <td>ttl18</td>\n",
       "      <td>129.240.100.69</td>\n",
       "      <td>4.371977</td>\n",
       "      <td>300.711711</td>\n",
       "      <td>120.784995</td>\n",
       "    </tr>\n",
       "    <tr>\n",
       "      <th>14</th>\n",
       "      <td>ttl19</td>\n",
       "      <td>129.240.100.66</td>\n",
       "      <td>2.497530</td>\n",
       "      <td>298.837264</td>\n",
       "      <td>138.026758</td>\n",
       "    </tr>\n",
       "    <tr>\n",
       "      <th>15</th>\n",
       "      <td>ttl20</td>\n",
       "      <td>129.240.25.162</td>\n",
       "      <td>0.519943</td>\n",
       "      <td>299.357208</td>\n",
       "      <td>94.180210</td>\n",
       "    </tr>\n",
       "    <tr>\n",
       "      <th>16</th>\n",
       "      <td>ttl21</td>\n",
       "      <td>129.240.118.130</td>\n",
       "      <td>1.388391</td>\n",
       "      <td>297.728125</td>\n",
       "      <td>85.343092</td>\n",
       "    </tr>\n",
       "    <tr>\n",
       "      <th>17</th>\n",
       "      <td>ttl22</td>\n",
       "      <td>129.240.118.130</td>\n",
       "      <td>0.807198</td>\n",
       "      <td>297.146932</td>\n",
       "      <td>69.370629</td>\n",
       "    </tr>\n",
       "    <tr>\n",
       "      <th>18</th>\n",
       "      <td>ttl23</td>\n",
       "      <td>129.240.118.130</td>\n",
       "      <td>3.802379</td>\n",
       "      <td>300.949311</td>\n",
       "      <td>121.447726</td>\n",
       "    </tr>\n",
       "    <tr>\n",
       "      <th>19</th>\n",
       "      <td>ttl24</td>\n",
       "      <td>129.240.118.130</td>\n",
       "      <td>3.495296</td>\n",
       "      <td>300.642228</td>\n",
       "      <td>99.032523</td>\n",
       "    </tr>\n",
       "    <tr>\n",
       "      <th>20</th>\n",
       "      <td>ttl25</td>\n",
       "      <td>129.240.118.130</td>\n",
       "      <td>2.999711</td>\n",
       "      <td>300.146643</td>\n",
       "      <td>115.208655</td>\n",
       "    </tr>\n",
       "    <tr>\n",
       "      <th>21</th>\n",
       "      <td>ttl26</td>\n",
       "      <td>129.240.118.130</td>\n",
       "      <td>0.134571</td>\n",
       "      <td>300.281215</td>\n",
       "      <td>124.900869</td>\n",
       "    </tr>\n",
       "    <tr>\n",
       "      <th>22</th>\n",
       "      <td>ttl27</td>\n",
       "      <td>129.240.118.130</td>\n",
       "      <td>1.172090</td>\n",
       "      <td>298.319022</td>\n",
       "      <td>106.785233</td>\n",
       "    </tr>\n",
       "    <tr>\n",
       "      <th>23</th>\n",
       "      <td>ttl28</td>\n",
       "      <td>129.240.118.130</td>\n",
       "      <td>0.963783</td>\n",
       "      <td>298.110716</td>\n",
       "      <td>120.639171</td>\n",
       "    </tr>\n",
       "    <tr>\n",
       "      <th>24</th>\n",
       "      <td>ttl29</td>\n",
       "      <td>129.240.118.130</td>\n",
       "      <td>4.852557</td>\n",
       "      <td>302.963273</td>\n",
       "      <td>114.669874</td>\n",
       "    </tr>\n",
       "    <tr>\n",
       "      <th>25</th>\n",
       "      <td>ttl30</td>\n",
       "      <td>129.240.118.130</td>\n",
       "      <td>3.163417</td>\n",
       "      <td>301.274133</td>\n",
       "      <td>173.391097</td>\n",
       "    </tr>\n",
       "  </tbody>\n",
       "</table>\n",
       "</div>"
      ],
      "text/plain": [
       "     ttls               ip  tiempo restado  tiempo neto     varianza\n",
       "0    ttl1      192.168.0.1       62.892858    62.892858   275.742094\n",
       "1    ttl6   181.96.113.234      108.487185   171.380043     0.000000\n",
       "2    ttl7    195.22.220.56       11.807887    74.700745   170.150083\n",
       "3    ttl8   195.22.209.198      201.588353   276.289097   128.238514\n",
       "4    ttl9    195.66.225.24        1.533866   277.822963    92.419914\n",
       "5   ttl10   109.105.97.124        8.768392   286.591355    93.618006\n",
       "6   ttl11    109.105.97.74        5.746309   283.569272   133.460818\n",
       "7   ttl12   109.105.98.120        1.888879   285.458151    93.975980\n",
       "8   ttl13   109.105.98.121       11.586054   297.044206   141.690909\n",
       "9   ttl14   128.39.254.204        4.939922   301.984127   106.741681\n",
       "10  ttl15    128.39.255.64        4.012434   305.996561    76.143665\n",
       "11  ttl16    128.39.254.82       10.881583   296.339734   163.812263\n",
       "12  ttl17     128.39.65.18       14.506610   310.846345  1377.978627\n",
       "13  ttl18   129.240.100.69        4.371977   300.711711   120.784995\n",
       "14  ttl19   129.240.100.66        2.497530   298.837264   138.026758\n",
       "15  ttl20   129.240.25.162        0.519943   299.357208    94.180210\n",
       "16  ttl21  129.240.118.130        1.388391   297.728125    85.343092\n",
       "17  ttl22  129.240.118.130        0.807198   297.146932    69.370629\n",
       "18  ttl23  129.240.118.130        3.802379   300.949311   121.447726\n",
       "19  ttl24  129.240.118.130        3.495296   300.642228    99.032523\n",
       "20  ttl25  129.240.118.130        2.999711   300.146643   115.208655\n",
       "21  ttl26  129.240.118.130        0.134571   300.281215   124.900869\n",
       "22  ttl27  129.240.118.130        1.172090   298.319022   106.785233\n",
       "23  ttl28  129.240.118.130        0.963783   298.110716   120.639171\n",
       "24  ttl29  129.240.118.130        4.852557   302.963273   114.669874\n",
       "25  ttl30  129.240.118.130        3.163417   301.274133   173.391097"
      ]
     },
     "execution_count": 4,
     "metadata": {},
     "output_type": "execute_result"
    }
   ],
   "source": [
    "dict_ttl_tiempos = dict()\n",
    "\n",
    "row_ttl = 0\n",
    "for index, row in df_tll_jumps.iterrows():\n",
    "    if (('ttl' + str(row['ttl']) in most_frequent_ip.keys()) and row['ip'] == most_frequent_ip['ttl' + str(row['ttl'])]):\n",
    "        if (row['ttl'] == row_ttl):\n",
    "            dict_ttl_tiempos['ttl'+str(row_ttl)].append(row['rtt'])\n",
    "        else:\n",
    "            row_ttl = row['ttl']\n",
    "            dict_ttl_tiempos['ttl'+str(row_ttl)] = []\n",
    "            dict_ttl_tiempos['ttl'+str(row_ttl)].append(row['rtt'])\n",
    "\n",
    "ttls = most_frequent_ip.keys()\n",
    "\n",
    "tiempos = [np.mean(dict_ttl_tiempos[tiempo]) for tiempo in dict_ttl_tiempos.keys()]\n",
    "\n",
    "tiempos_aux = tiempos.copy()\n",
    "\n",
    "for i in range(1, len(tiempos)):\n",
    "    jump = tiempos[i] - tiempos_aux[i-1]\n",
    "    if jump < 0:\n",
    "        j = 1\n",
    "        while i - j > 0 and jump < 0:\n",
    "            j += 1\n",
    "            jump = tiempos[i] - tiempos_aux[i-j]\n",
    "    tiempos[i] = max(jump, 0)\n",
    "\n",
    "varianza_de_los_tiempos = [np.var(dict_ttl_tiempos[tiempo]) for tiempo in dict_ttl_tiempos.keys()]\n",
    "\n",
    "df_time = pd.DataFrame(list(zip(ttls, most_frequent_ip.values(),tiempos, tiempos_aux,varianza_de_los_tiempos)),\n",
    "               columns =['ttls', 'ip', 'tiempo restado', 'tiempo neto', 'varianza'])\n",
    "\n",
    "df_time"
   ]
  },
  {
   "cell_type": "markdown",
   "metadata": {},
   "source": [
    "# Gráficos"
   ]
  },
  {
   "cell_type": "code",
   "execution_count": 5,
   "metadata": {},
   "outputs": [
    {
     "data": {
      "image/png": "[encoded data removed]",
      "text/plain": [
       "<Figure size 864x648 with 1 Axes>"
      ]
     },
     "metadata": {},
     "output_type": "display_data"
    }
   ],
   "source": [
    "df_time[\"jump\"] = df_time[\"ttls\"].str[3:]\n",
    "ax = sns.barplot(\n",
    "    x= df_time['tiempo restado'], \n",
    "    y= df_time['jump'],\n",
    "    estimator=sum,\n",
    "    ci=None,\n",
    "    orient = 'h'\n",
    ")\n",
    "ax.set_xlabel(\"RTT (ms)\")\n",
    "ax.set_ylabel(\"Jump\")\n",
    "ax.set_title(country.capitalize())\n",
    "fig = ax.get_figure()\n",
    "fig.savefig(f\"./graficos/ttl_hist_{country}.png\", dpi=200)"
   ]
  },
  {
   "cell_type": "code",
   "execution_count": 6,
   "metadata": {},
   "outputs": [],
   "source": [
    "from itertools import chain\n",
    "\n",
    "def draw_map(m, scale=0.2):\n",
    "    # draw a shaded-relief image\n",
    "    m.shadedrelief(scale=scale)\n",
    "    \n",
    "    # lats and longs are returned as a dictionary\n",
    "    lats = m.drawparallels(np.linspace(-90, 90, 13))\n",
    "    lons = m.drawmeridians(np.linspace(-180, 180, 13))\n",
    "\n",
    "    # keys contain the plt.Line2D instances\n",
    "    lat_lines = chain(*(tup[1][0] for tup in lats.items()))\n",
    "    lon_lines = chain(*(tup[1][0] for tup in lons.items()))\n",
    "    all_lines = chain(lat_lines, lon_lines)\n",
    "    \n",
    "    # cycle through these lines and set the desired style\n",
    "    for line in all_lines:\n",
    "        line.set(linestyle='-', alpha=0.3, color='w')"
   ]
  },
  {
   "cell_type": "code",
   "execution_count": 7,
   "metadata": {},
   "outputs": [],
   "source": [
    "import numpy as np\n",
    "import matplotlib.pyplot as plt\n",
    "from mpl_toolkits.basemap import Basemap\n",
    "import requests\n",
    "\n",
    "locations = []\n",
    "\n",
    "for ip in most_frequent_ip.values():\n",
    "    response = requests.get(\"http://ip-api.com/json/\"+ip).json()\n",
    "    if (response['status'] == 'success'):\n",
    "        locations.append([response['lat'], response['lon']])\n",
    "    else:\n",
    "        locations.append([0, 0])\n"
   ]
  },
  {
   "cell_type": "code",
   "execution_count": 8,
   "metadata": {},
   "outputs": [
    {
     "data": {
      "image/png": "[encoded data removed]",
      "text/plain": [
       "<Figure size 576x432 with 1 Axes>"
      ]
     },
     "metadata": {},
     "output_type": "display_data"
    }
   ],
   "source": [
    "fig = plt.figure(figsize=(8, 6), edgecolor='w')\n",
    "m = Basemap(projection='cyl', resolution=None,\n",
    "            llcrnrlat=-90, urcrnrlat=90,\n",
    "            llcrnrlon=-180, urcrnrlon=180, )\n",
    "draw_map(m)\n",
    "\n",
    "# Map (long, lat) to (x, y) for plotting\n",
    "for i in range(len(df_time)):\n",
    "    if ((locations[i][0] != 0) and (locations[i][1] != 0)):\n",
    "        x = locations[i][1]\n",
    "        y = locations[i][0]\n",
    "        plt.plot(x, y, 'ok', markersize=5)\n",
    "        plt.text(x, y, df_time.iloc[i].ttls, fontsize=12);"
   ]
  },
  {
   "cell_type": "code",
   "execution_count": 9,
   "metadata": {},
   "outputs": [
    {
     "data": {
      "text/html": [
       "<div>\n",
       "<style scoped>\n",
       "    .dataframe tbody tr th:only-of-type {\n",
       "        vertical-align: middle;\n",
       "    }\n",
       "\n",
       "    .dataframe tbody tr th {\n",
       "        vertical-align: top;\n",
       "    }\n",
       "\n",
       "    .dataframe thead th {\n",
       "        text-align: right;\n",
       "    }\n",
       "</style>\n",
       "<table border=\"1\" class=\"dataframe\">\n",
       "  <thead>\n",
       "    <tr style=\"text-align: right;\">\n",
       "      <th></th>\n",
       "      <th>ttl</th>\n",
       "      <th>Latitude</th>\n",
       "      <th>Longitude</th>\n",
       "    </tr>\n",
       "  </thead>\n",
       "  <tbody>\n",
       "    <tr>\n",
       "      <th>0</th>\n",
       "      <td>ttl6</td>\n",
       "      <td>-31.3918</td>\n",
       "      <td>-64.184800</td>\n",
       "    </tr>\n",
       "    <tr>\n",
       "      <th>1</th>\n",
       "      <td>ttl7</td>\n",
       "      <td>-34.6037</td>\n",
       "      <td>-58.381600</td>\n",
       "    </tr>\n",
       "    <tr>\n",
       "      <th>2</th>\n",
       "      <td>ttl8</td>\n",
       "      <td>51.5074</td>\n",
       "      <td>-0.127758</td>\n",
       "    </tr>\n",
       "    <tr>\n",
       "      <th>3</th>\n",
       "      <td>ttl9</td>\n",
       "      <td>51.5099</td>\n",
       "      <td>-0.085644</td>\n",
       "    </tr>\n",
       "    <tr>\n",
       "      <th>4</th>\n",
       "      <td>ttl10</td>\n",
       "      <td>59.3420</td>\n",
       "      <td>18.062300</td>\n",
       "    </tr>\n",
       "    <tr>\n",
       "      <th>5</th>\n",
       "      <td>ttl11</td>\n",
       "      <td>59.3420</td>\n",
       "      <td>18.062300</td>\n",
       "    </tr>\n",
       "    <tr>\n",
       "      <th>6</th>\n",
       "      <td>ttl12</td>\n",
       "      <td>59.3420</td>\n",
       "      <td>18.062300</td>\n",
       "    </tr>\n",
       "    <tr>\n",
       "      <th>7</th>\n",
       "      <td>ttl13</td>\n",
       "      <td>59.3420</td>\n",
       "      <td>18.062300</td>\n",
       "    </tr>\n",
       "    <tr>\n",
       "      <th>8</th>\n",
       "      <td>ttl14</td>\n",
       "      <td>60.1546</td>\n",
       "      <td>10.259800</td>\n",
       "    </tr>\n",
       "    <tr>\n",
       "      <th>9</th>\n",
       "      <td>ttl15</td>\n",
       "      <td>60.1546</td>\n",
       "      <td>10.259800</td>\n",
       "    </tr>\n",
       "    <tr>\n",
       "      <th>10</th>\n",
       "      <td>ttl16</td>\n",
       "      <td>60.1546</td>\n",
       "      <td>10.259800</td>\n",
       "    </tr>\n",
       "    <tr>\n",
       "      <th>11</th>\n",
       "      <td>ttl17</td>\n",
       "      <td>59.9550</td>\n",
       "      <td>10.859000</td>\n",
       "    </tr>\n",
       "    <tr>\n",
       "      <th>12</th>\n",
       "      <td>ttl18</td>\n",
       "      <td>60.1134</td>\n",
       "      <td>10.825900</td>\n",
       "    </tr>\n",
       "    <tr>\n",
       "      <th>13</th>\n",
       "      <td>ttl19</td>\n",
       "      <td>60.1134</td>\n",
       "      <td>10.825900</td>\n",
       "    </tr>\n",
       "    <tr>\n",
       "      <th>14</th>\n",
       "      <td>ttl20</td>\n",
       "      <td>59.9550</td>\n",
       "      <td>10.859000</td>\n",
       "    </tr>\n",
       "    <tr>\n",
       "      <th>15</th>\n",
       "      <td>ttl21</td>\n",
       "      <td>59.9550</td>\n",
       "      <td>10.859000</td>\n",
       "    </tr>\n",
       "    <tr>\n",
       "      <th>16</th>\n",
       "      <td>ttl22</td>\n",
       "      <td>59.9550</td>\n",
       "      <td>10.859000</td>\n",
       "    </tr>\n",
       "    <tr>\n",
       "      <th>17</th>\n",
       "      <td>ttl23</td>\n",
       "      <td>59.9550</td>\n",
       "      <td>10.859000</td>\n",
       "    </tr>\n",
       "    <tr>\n",
       "      <th>18</th>\n",
       "      <td>ttl24</td>\n",
       "      <td>59.9550</td>\n",
       "      <td>10.859000</td>\n",
       "    </tr>\n",
       "    <tr>\n",
       "      <th>19</th>\n",
       "      <td>ttl25</td>\n",
       "      <td>59.9550</td>\n",
       "      <td>10.859000</td>\n",
       "    </tr>\n",
       "    <tr>\n",
       "      <th>20</th>\n",
       "      <td>ttl26</td>\n",
       "      <td>59.9550</td>\n",
       "      <td>10.859000</td>\n",
       "    </tr>\n",
       "    <tr>\n",
       "      <th>21</th>\n",
       "      <td>ttl27</td>\n",
       "      <td>59.9550</td>\n",
       "      <td>10.859000</td>\n",
       "    </tr>\n",
       "    <tr>\n",
       "      <th>22</th>\n",
       "      <td>ttl28</td>\n",
       "      <td>59.9550</td>\n",
       "      <td>10.859000</td>\n",
       "    </tr>\n",
       "    <tr>\n",
       "      <th>23</th>\n",
       "      <td>ttl29</td>\n",
       "      <td>59.9550</td>\n",
       "      <td>10.859000</td>\n",
       "    </tr>\n",
       "    <tr>\n",
       "      <th>24</th>\n",
       "      <td>ttl30</td>\n",
       "      <td>59.9550</td>\n",
       "      <td>10.859000</td>\n",
       "    </tr>\n",
       "  </tbody>\n",
       "</table>\n",
       "</div>"
      ],
      "text/plain": [
       "      ttl  Latitude  Longitude\n",
       "0    ttl6  -31.3918 -64.184800\n",
       "1    ttl7  -34.6037 -58.381600\n",
       "2    ttl8   51.5074  -0.127758\n",
       "3    ttl9   51.5099  -0.085644\n",
       "4   ttl10   59.3420  18.062300\n",
       "5   ttl11   59.3420  18.062300\n",
       "6   ttl12   59.3420  18.062300\n",
       "7   ttl13   59.3420  18.062300\n",
       "8   ttl14   60.1546  10.259800\n",
       "9   ttl15   60.1546  10.259800\n",
       "10  ttl16   60.1546  10.259800\n",
       "11  ttl17   59.9550  10.859000\n",
       "12  ttl18   60.1134  10.825900\n",
       "13  ttl19   60.1134  10.825900\n",
       "14  ttl20   59.9550  10.859000\n",
       "15  ttl21   59.9550  10.859000\n",
       "16  ttl22   59.9550  10.859000\n",
       "17  ttl23   59.9550  10.859000\n",
       "18  ttl24   59.9550  10.859000\n",
       "19  ttl25   59.9550  10.859000\n",
       "20  ttl26   59.9550  10.859000\n",
       "21  ttl27   59.9550  10.859000\n",
       "22  ttl28   59.9550  10.859000\n",
       "23  ttl29   59.9550  10.859000\n",
       "24  ttl30   59.9550  10.859000"
      ]
     },
     "execution_count": 9,
     "metadata": {},
     "output_type": "execute_result"
    }
   ],
   "source": [
    "import numpy as np\n",
    "import matplotlib.pyplot as plt\n",
    "import requests\n",
    "\n",
    "locations_with_ttl = []\n",
    "\n",
    "for ttl, ip in most_frequent_ip.items():\n",
    "    response = requests.get(\"http://ip-api.com/json/\"+ip).json()\n",
    "    if (response['status'] == 'success'):\n",
    "        locations_with_ttl.append([ttl, response['lat'], response['lon']])\n",
    "\n",
    "df_ubication = pd.DataFrame(locations_with_ttl, columns=[\"ttl\", \"Latitude\", \"Longitude\"])\n",
    "df_ubication"
   ]
  },
  {
   "cell_type": "code",
   "execution_count": 10,
   "metadata": {},
   "outputs": [
    {
     "data": {
      "application/vnd.plotly.v1+json": {
       "config": {
        "plotlyServerURL": "https://plot.ly"
       },
       "data": [
        {
         "geo": "geo",
         "hovertemplate": "<b>%{hovertext}</b><br><br>Latitude=%{lat}<br>Longitude=%{lon}<extra></extra>",
         "hovertext": [
          "ttl6",
          "ttl7",
          "ttl8",
          "ttl9",
          "ttl10",
          "ttl11",
          "ttl12",
          "ttl13",
          "ttl14",
          "ttl15",
          "ttl16",
          "ttl17",
          "ttl18",
          "ttl19",
          "ttl20",
          "ttl21",
          "ttl22",
          "ttl23",
          "ttl24",
          "ttl25",
          "ttl26",
          "ttl27",
          "ttl28",
          "ttl29",
          "ttl30"
         ],
         "lat": [
          -31.3918,
          -34.6037,
          51.5074,
          51.5099,
          59.342,
          59.342,
          59.342,
          59.342,
          60.1546,
          60.1546,
          60.1546,
          59.955,
          60.1134,
          60.1134,
          59.955,
          59.955,
          59.955,
          59.955,
          59.955,
          59.955,
          59.955,
          59.955,
          59.955,
          59.955,
          59.955
         ],
         "legendgroup": "",
         "line": {
          "color": "#636efa",
          "dash": "solid"
         },
         "lon": [
          -64.1848,
          -58.3816,
          -0.127758,
          -0.0856444,
          18.0623,
          18.0623,
          18.0623,
          18.0623,
          10.2598,
          10.2598,
          10.2598,
          10.859,
          10.8259,
          10.8259,
          10.859,
          10.859,
          10.859,
          10.859,
          10.859,
          10.859,
          10.859,
          10.859,
          10.859,
          10.859,
          10.859
         ],
         "marker": {
          "color": "blue",
          "size": 5,
          "symbol": "circle"
         },
         "mode": "markers+lines",
         "name": "",
         "showlegend": false,
         "type": "scattergeo"
        }
       ],
       "layout": {
        "geo": {
         "center": {},
         "domain": {
          "x": [
           0,
           1
          ],
          "y": [
           0,
           1
          ]
         },
         "fitbounds": "locations",
         "projection": {
          "type": "natural earth"
         },
         "showcountries": true
        },
        "legend": {
         "tracegroupgap": 0
        },
        "template": {
         "data": {
          "bar": [
           {
            "error_x": {
             "color": "#2a3f5f"
            },
            "error_y": {
             "color": "#2a3f5f"
            },
            "marker": {
             "line": {
              "color": "#E5ECF6",
              "width": 0.5
             },
             "pattern": {
              "fillmode": "overlay",
              "size": 10,
              "solidity": 0.2
             }
            },
            "type": "bar"
           }
          ],
          "barpolar": [
           {
            "marker": {
             "line": {
              "color": "#E5ECF6",
              "width": 0.5
             },
             "pattern": {
              "fillmode": "overlay",
              "size": 10,
              "solidity": 0.2
             }
            },
            "type": "barpolar"
           }
          ],
          "carpet": [
           {
            "aaxis": {
             "endlinecolor": "#2a3f5f",
             "gridcolor": "white",
             "linecolor": "white",
             "minorgridcolor": "white",
             "startlinecolor": "#2a3f5f"
            },
            "baxis": {
             "endlinecolor": "#2a3f5f",
             "gridcolor": "white",
             "linecolor": "white",
             "minorgridcolor": "white",
             "startlinecolor": "#2a3f5f"
            },
            "type": "carpet"
           }
          ],
          "choropleth": [
           {
            "colorbar": {
             "outlinewidth": 0,
             "ticks": ""
            },
            "type": "choropleth"
           }
          ],
          "contour": [
           {
            "colorbar": {
             "outlinewidth": 0,
             "ticks": ""
            },
            "colorscale": [
             [
              0,
              "#0d0887"
             ],
             [
              0.1111111111111111,
              "#46039f"
             ],
             [
              0.2222222222222222,
              "#7201a8"
             ],
             [
              0.3333333333333333,
              "#9c179e"
             ],
             [
              0.4444444444444444,
              "#bd3786"
             ],
             [
              0.5555555555555556,
              "#d8576b"
             ],
             [
              0.6666666666666666,
              "#ed7953"
             ],
             [
              0.7777777777777778,
              "#fb9f3a"
             ],
             [
              0.8888888888888888,
              "#fdca26"
             ],
             [
              1,
              "#f0f921"
             ]
            ],
            "type": "contour"
           }
          ],
          "contourcarpet": [
           {
            "colorbar": {
             "outlinewidth": 0,
             "ticks": ""
            },
            "type": "contourcarpet"
           }
          ],
          "heatmap": [
           {
            "colorbar": {
             "outlinewidth": 0,
             "ticks": ""
            },
            "colorscale": [
             [
              0,
              "#0d0887"
             ],
             [
              0.1111111111111111,
              "#46039f"
             ],
             [
              0.2222222222222222,
              "#7201a8"
             ],
             [
              0.3333333333333333,
              "#9c179e"
             ],
             [
              0.4444444444444444,
              "#bd3786"
             ],
             [
              0.5555555555555556,
              "#d8576b"
             ],
             [
              0.6666666666666666,
              "#ed7953"
             ],
             [
              0.7777777777777778,
              "#fb9f3a"
             ],
             [
              0.8888888888888888,
              "#fdca26"
             ],
             [
              1,
              "#f0f921"
             ]
            ],
            "type": "heatmap"
           }
          ],
          "heatmapgl": [
           {
            "colorbar": {
             "outlinewidth": 0,
             "ticks": ""
            },
            "colorscale": [
             [
              0,
              "#0d0887"
             ],
             [
              0.1111111111111111,
              "#46039f"
             ],
             [
              0.2222222222222222,
              "#7201a8"
             ],
             [
              0.3333333333333333,
              "#9c179e"
             ],
             [
              0.4444444444444444,
              "#bd3786"
             ],
             [
              0.5555555555555556,
              "#d8576b"
             ],
             [
              0.6666666666666666,
              "#ed7953"
             ],
             [
              0.7777777777777778,
              "#fb9f3a"
             ],
             [
              0.8888888888888888,
              "#fdca26"
             ],
             [
              1,
              "#f0f921"
             ]
            ],
            "type": "heatmapgl"
           }
          ],
          "histogram": [
           {
            "marker": {
             "pattern": {
              "fillmode": "overlay",
              "size": 10,
              "solidity": 0.2
             }
            },
            "type": "histogram"
           }
          ],
          "histogram2d": [
           {
            "colorbar": {
             "outlinewidth": 0,
             "ticks": ""
            },
            "colorscale": [
             [
              0,
              "#0d0887"
             ],
             [
              0.1111111111111111,
              "#46039f"
             ],
             [
              0.2222222222222222,
              "#7201a8"
             ],
             [
              0.3333333333333333,
              "#9c179e"
             ],
             [
              0.4444444444444444,
              "#bd3786"
             ],
             [
              0.5555555555555556,
              "#d8576b"
             ],
             [
              0.6666666666666666,
              "#ed7953"
             ],
             [
              0.7777777777777778,
              "#fb9f3a"
             ],
             [
              0.8888888888888888,
              "#fdca26"
             ],
             [
              1,
              "#f0f921"
             ]
            ],
            "type": "histogram2d"
           }
          ],
          "histogram2dcontour": [
           {
            "colorbar": {
             "outlinewidth": 0,
             "ticks": ""
            },
            "colorscale": [
             [
              0,
              "#0d0887"
             ],
             [
              0.1111111111111111,
              "#46039f"
             ],
             [
              0.2222222222222222,
              "#7201a8"
             ],
             [
              0.3333333333333333,
              "#9c179e"
             ],
             [
              0.4444444444444444,
              "#bd3786"
             ],
             [
              0.5555555555555556,
              "#d8576b"
             ],
             [
              0.6666666666666666,
              "#ed7953"
             ],
             [
              0.7777777777777778,
              "#fb9f3a"
             ],
             [
              0.8888888888888888,
              "#fdca26"
             ],
             [
              1,
              "#f0f921"
             ]
            ],
            "type": "histogram2dcontour"
           }
          ],
          "mesh3d": [
           {
            "colorbar": {
             "outlinewidth": 0,
             "ticks": ""
            },
            "type": "mesh3d"
           }
          ],
          "parcoords": [
           {
            "line": {
             "colorbar": {
              "outlinewidth": 0,
              "ticks": ""
             }
            },
            "type": "parcoords"
           }
          ],
          "pie": [
           {
            "automargin": true,
            "type": "pie"
           }
          ],
          "scatter": [
           {
            "fillpattern": {
             "fillmode": "overlay",
             "size": 10,
             "solidity": 0.2
            },
            "type": "scatter"
           }
          ],
          "scatter3d": [
           {
            "line": {
             "colorbar": {
              "outlinewidth": 0,
              "ticks": ""
             }
            },
            "marker": {
             "colorbar": {
              "outlinewidth": 0,
              "ticks": ""
             }
            },
            "type": "scatter3d"
           }
          ],
          "scattercarpet": [
           {
            "marker": {
             "colorbar": {
              "outlinewidth": 0,
              "ticks": ""
             }
            },
            "type": "scattercarpet"
           }
          ],
          "scattergeo": [
           {
            "marker": {
             "colorbar": {
              "outlinewidth": 0,
              "ticks": ""
             }
            },
            "type": "scattergeo"
           }
          ],
          "scattergl": [
           {
            "marker": {
             "colorbar": {
              "outlinewidth": 0,
              "ticks": ""
             }
            },
            "type": "scattergl"
           }
          ],
          "scattermapbox": [
           {
            "marker": {
             "colorbar": {
              "outlinewidth": 0,
              "ticks": ""
             }
            },
            "type": "scattermapbox"
           }
          ],
          "scatterpolar": [
           {
            "marker": {
             "colorbar": {
              "outlinewidth": 0,
              "ticks": ""
             }
            },
            "type": "scatterpolar"
           }
          ],
          "scatterpolargl": [
           {
            "marker": {
             "colorbar": {
              "outlinewidth": 0,
              "ticks": ""
             }
            },
            "type": "scatterpolargl"
           }
          ],
          "scatterternary": [
           {
            "marker": {
             "colorbar": {
              "outlinewidth": 0,
              "ticks": ""
             }
            },
            "type": "scatterternary"
           }
          ],
          "surface": [
           {
            "colorbar": {
             "outlinewidth": 0,
             "ticks": ""
            },
            "colorscale": [
             [
              0,
              "#0d0887"
             ],
             [
              0.1111111111111111,
              "#46039f"
             ],
             [
              0.2222222222222222,
              "#7201a8"
             ],
             [
              0.3333333333333333,
              "#9c179e"
             ],
             [
              0.4444444444444444,
              "#bd3786"
             ],
             [
              0.5555555555555556,
              "#d8576b"
             ],
             [
              0.6666666666666666,
              "#ed7953"
             ],
             [
              0.7777777777777778,
              "#fb9f3a"
             ],
             [
              0.8888888888888888,
              "#fdca26"
             ],
             [
              1,
              "#f0f921"
             ]
            ],
            "type": "surface"
           }
          ],
          "table": [
           {
            "cells": {
             "fill": {
              "color": "#EBF0F8"
             },
             "line": {
              "color": "white"
             }
            },
            "header": {
             "fill": {
              "color": "#C8D4E3"
             },
             "line": {
              "color": "white"
             }
            },
            "type": "table"
           }
          ]
         },
         "layout": {
          "annotationdefaults": {
           "arrowcolor": "#2a3f5f",
           "arrowhead": 0,
           "arrowwidth": 1
          },
          "autotypenumbers": "strict",
          "coloraxis": {
           "colorbar": {
            "outlinewidth": 0,
            "ticks": ""
           }
          },
          "colorscale": {
           "diverging": [
            [
             0,
             "#8e0152"
            ],
            [
             0.1,
             "#c51b7d"
            ],
            [
             0.2,
             "#de77ae"
            ],
            [
             0.3,
             "#f1b6da"
            ],
            [
             0.4,
             "#fde0ef"
            ],
            [
             0.5,
             "#f7f7f7"
            ],
            [
             0.6,
             "#e6f5d0"
            ],
            [
             0.7,
             "#b8e186"
            ],
            [
             0.8,
             "#7fbc41"
            ],
            [
             0.9,
             "#4d9221"
            ],
            [
             1,
             "#276419"
            ]
           ],
           "sequential": [
            [
             0,
             "#0d0887"
            ],
            [
             0.1111111111111111,
             "#46039f"
            ],
            [
             0.2222222222222222,
             "#7201a8"
            ],
            [
             0.3333333333333333,
             "#9c179e"
            ],
            [
             0.4444444444444444,
             "#bd3786"
            ],
            [
             0.5555555555555556,
             "#d8576b"
            ],
            [
             0.6666666666666666,
             "#ed7953"
            ],
            [
             0.7777777777777778,
             "#fb9f3a"
            ],
            [
             0.8888888888888888,
             "#fdca26"
            ],
            [
             1,
             "#f0f921"
            ]
           ],
           "sequentialminus": [
            [
             0,
             "#0d0887"
            ],
            [
             0.1111111111111111,
             "#46039f"
            ],
            [
             0.2222222222222222,
             "#7201a8"
            ],
            [
             0.3333333333333333,
             "#9c179e"
            ],
            [
             0.4444444444444444,
             "#bd3786"
            ],
            [
             0.5555555555555556,
             "#d8576b"
            ],
            [
             0.6666666666666666,
             "#ed7953"
            ],
            [
             0.7777777777777778,
             "#fb9f3a"
            ],
            [
             0.8888888888888888,
             "#fdca26"
            ],
            [
             1,
             "#f0f921"
            ]
           ]
          },
          "colorway": [
           "#636efa",
           "#EF553B",
           "#00cc96",
           "#ab63fa",
           "#FFA15A",
           "#19d3f3",
           "#FF6692",
           "#B6E880",
           "#FF97FF",
           "#FECB52"
          ],
          "font": {
           "color": "#2a3f5f"
          },
          "geo": {
           "bgcolor": "white",
           "lakecolor": "white",
           "landcolor": "#E5ECF6",
           "showlakes": true,
           "showland": true,
           "subunitcolor": "white"
          },
          "hoverlabel": {
           "align": "left"
          },
          "hovermode": "closest",
          "mapbox": {
           "style": "light"
          },
          "paper_bgcolor": "white",
          "plot_bgcolor": "#E5ECF6",
          "polar": {
           "angularaxis": {
            "gridcolor": "white",
            "linecolor": "white",
            "ticks": ""
           },
           "bgcolor": "#E5ECF6",
           "radialaxis": {
            "gridcolor": "white",
            "linecolor": "white",
            "ticks": ""
           }
          },
          "scene": {
           "xaxis": {
            "backgroundcolor": "#E5ECF6",
            "gridcolor": "white",
            "gridwidth": 2,
            "linecolor": "white",
            "showbackground": true,
            "ticks": "",
            "zerolinecolor": "white"
           },
           "yaxis": {
            "backgroundcolor": "#E5ECF6",
            "gridcolor": "white",
            "gridwidth": 2,
            "linecolor": "white",
            "showbackground": true,
            "ticks": "",
            "zerolinecolor": "white"
           },
           "zaxis": {
            "backgroundcolor": "#E5ECF6",
            "gridcolor": "white",
            "gridwidth": 2,
            "linecolor": "white",
            "showbackground": true,
            "ticks": "",
            "zerolinecolor": "white"
           }
          },
          "shapedefaults": {
           "line": {
            "color": "#2a3f5f"
           }
          },
          "ternary": {
           "aaxis": {
            "gridcolor": "white",
            "linecolor": "white",
            "ticks": ""
           },
           "baxis": {
            "gridcolor": "white",
            "linecolor": "white",
            "ticks": ""
           },
           "bgcolor": "#E5ECF6",
           "caxis": {
            "gridcolor": "white",
            "linecolor": "white",
            "ticks": ""
           }
          },
          "title": {
           "x": 0.05
          },
          "xaxis": {
           "automargin": true,
           "gridcolor": "white",
           "linecolor": "white",
           "ticks": "",
           "title": {
            "standoff": 15
           },
           "zerolinecolor": "white",
           "zerolinewidth": 2
          },
          "yaxis": {
           "automargin": true,
           "gridcolor": "white",
           "linecolor": "white",
           "ticks": "",
           "title": {
            "standoff": 15
           },
           "zerolinecolor": "white",
           "zerolinewidth": 2
          }
         }
        },
        "title": {
         "text": "Noruega"
        }
       }
      }
     },
     "metadata": {},
     "output_type": "display_data"
    }
   ],
   "source": [
    "import plotly.express as px\n",
    "\n",
    "fig = px.line_geo(df_ubication, \n",
    "                     # longitude is taken from the df[\"lon\"] columns and latitude from df[\"lat\"]\n",
    "                     lon=\"Longitude\", \n",
    "                     lat=\"Latitude\", \n",
    "                     # choose the map chart's projection\n",
    "                     projection=\"natural earth\",\n",
    "                     markers=True,\n",
    "                     hover_name = \"ttl\",\n",
    "                     title=country.capitalize()\n",
    "                     )\n",
    "fig.update_traces(marker=dict(size=5, color=\"blue\"))\n",
    "fig.update_geos(fitbounds=\"locations\", showcountries = True)\n",
    "fig.write_image(f\"./graficos/worldmap_{country}.png\", engine=\"kaleido\", scale=4)\n",
    "fig.show()"
   ]
  },
  {
   "cell_type": "markdown",
   "metadata": {},
   "source": [
    "### Punto Opcional"
   ]
  },
  {
   "cell_type": "code",
   "execution_count": 11,
   "metadata": {},
   "outputs": [
    {
     "name": "stdout",
     "output_type": "stream",
     "text": [
      "     ttls               ip  tiempo restado  tiempo neto     varianza jump  \\\n",
      "0    ttl1      192.168.0.1       62.892858    62.892858   275.742094    1   \n",
      "1    ttl6   181.96.113.234      108.487185   171.380043     0.000000    6   \n",
      "2    ttl7    195.22.220.56       11.807887    74.700745   170.150083    7   \n",
      "3    ttl8   195.22.209.198      201.588353   276.289097   128.238514    8   \n",
      "4    ttl9    195.66.225.24        1.533866   277.822963    92.419914    9   \n",
      "5   ttl10   109.105.97.124        8.768392   286.591355    93.618006   10   \n",
      "6   ttl11    109.105.97.74        5.746309   283.569272   133.460818   11   \n",
      "7   ttl12   109.105.98.120        1.888879   285.458151    93.975980   12   \n",
      "8   ttl13   109.105.98.121       11.586054   297.044206   141.690909   13   \n",
      "9   ttl14   128.39.254.204        4.939922   301.984127   106.741681   14   \n",
      "10  ttl15    128.39.255.64        4.012434   305.996561    76.143665   15   \n",
      "11  ttl16    128.39.254.82       10.881583   296.339734   163.812263   16   \n",
      "12  ttl17     128.39.65.18       14.506610   310.846345  1377.978627   17   \n",
      "13  ttl18   129.240.100.69        4.371977   300.711711   120.784995   18   \n",
      "14  ttl19   129.240.100.66        2.497530   298.837264   138.026758   19   \n",
      "15  ttl20   129.240.25.162        0.519943   299.357208    94.180210   20   \n",
      "16  ttl21  129.240.118.130        1.388391   297.728125    85.343092   21   \n",
      "17  ttl22  129.240.118.130        0.807198   297.146932    69.370629   22   \n",
      "18  ttl23  129.240.118.130        3.802379   300.949311   121.447726   23   \n",
      "19  ttl24  129.240.118.130        3.495296   300.642228    99.032523   24   \n",
      "20  ttl25  129.240.118.130        2.999711   300.146643   115.208655   25   \n",
      "21  ttl26  129.240.118.130        0.134571   300.281215   124.900869   26   \n",
      "22  ttl27  129.240.118.130        1.172090   298.319022   106.785233   27   \n",
      "23  ttl28  129.240.118.130        0.963783   298.110716   120.639171   28   \n",
      "24  ttl29  129.240.118.130        4.852557   302.963273   114.669874   29   \n",
      "25  ttl30  129.240.118.130        3.163417   301.274133   173.391097   30   \n",
      "\n",
      "    outlier  \n",
      "0      True  \n",
      "1      True  \n",
      "2      True  \n",
      "3      True  \n",
      "4     False  \n",
      "5      True  \n",
      "6     False  \n",
      "7     False  \n",
      "8      True  \n",
      "9     False  \n",
      "10    False  \n",
      "11     True  \n",
      "12     True  \n",
      "13    False  \n",
      "14    False  \n",
      "15    False  \n",
      "16    False  \n",
      "17    False  \n",
      "18    False  \n",
      "19    False  \n",
      "20    False  \n",
      "21    False  \n",
      "22    False  \n",
      "23    False  \n",
      "24    False  \n",
      "25    False  \n"
     ]
    },
    {
     "name": "stderr",
     "output_type": "stream",
     "text": [
      "/tmp/ipykernel_29363/75297637.py:17: SettingWithCopyWarning:\n",
      "\n",
      "\n",
      "A value is trying to be set on a copy of a slice from a DataFrame.\n",
      "Try using .loc[row_indexer,col_indexer] = value instead\n",
      "\n",
      "See the caveats in the documentation: https://pandas.pydata.org/pandas-docs/stable/user_guide/indexing.html#returning-a-view-versus-a-copy\n",
      "\n"
     ]
    }
   ],
   "source": [
    "import scipy.stats\n",
    "\n",
    "def get_thompson_for_n(n):\n",
    "    alpha = 0.05\n",
    "    qt = scipy.stats.t.ppf(q = 1 - alpha/2, df = n-2)\n",
    "    thompson = (qt * (n - 1)) / (np.sqrt(n) * np.sqrt(n - 2 + qt**2))\n",
    "    return thompson\n",
    "\n",
    "def find_outliers(df):\n",
    "    df = df.copy()\n",
    "    df[\"outlier\"] = False\n",
    "    df[\"rtt_deviations\"] = 0\n",
    "    \n",
    "    while len(df[df[\"outlier\"] == False]) != 0:\n",
    "        df_without_outliers = df[df[\"outlier\"] == False]\n",
    "        rtts = df_without_outliers[\"tiempo restado\"]\n",
    "        df_without_outliers[\"rtt_deviations\"] = abs(rtts - rtts.mean())\n",
    "        std = rtts.std()\n",
    "        thompson = get_thompson_for_n(len(df_without_outliers))\n",
    "        if max(df_without_outliers[\"rtt_deviations\"]) > thompson * std:\n",
    "            ttl_outlier = df_without_outliers.loc[df_without_outliers[\"rtt_deviations\"].idxmax()][\"ttls\"]\n",
    "            #df.at[df.loc[df[\"ttls\"] == ttl_outlier].index[0], \"outlier\"] = True\n",
    "            df.loc[df[\"ttls\"] == str(ttl_outlier), \"outlier\"] = True\n",
    "        else:\n",
    "            break\n",
    "    \n",
    "    df.drop(\"rtt_deviations\", axis=1, inplace=True)\n",
    "    return df\n",
    "\n",
    "df_with_outliers = find_outliers(df_time)\n",
    "print(df_with_outliers)"
   ]
  },
  {
   "cell_type": "code",
   "execution_count": 12,
   "metadata": {},
   "outputs": [
    {
     "data": {
      "image/png": "[encoded data removed]",
      "text/plain": [
       "<Figure size 864x648 with 1 Axes>"
      ]
     },
     "metadata": {},
     "output_type": "display_data"
    }
   ],
   "source": [
    "df_with_outliers[\"jump\"] = df_with_outliers[\"ttls\"].str[3:]\n",
    "ax = sns.barplot(\n",
    "    x= df_with_outliers['tiempo restado'], \n",
    "    y= df_with_outliers['jump'],\n",
    "    estimator=sum,\n",
    "    ci=None,\n",
    "    orient = 'h',\n",
    "    hue=df_with_outliers['outlier']\n",
    ")\n",
    "ax.set_xlabel(\"RTT (ms)\")\n",
    "ax.set_ylabel(\"Jump\")\n",
    "ax.set_title(country.capitalize())\n",
    "fig = ax.get_figure()\n",
    "fig.savefig(f\"./graficos/ttl_hist_outliers_{country}.png\", dpi=200)"
   ]
  },
  {
   "cell_type": "code",
   "execution_count": 13,
   "metadata": {},
   "outputs": [
    {
     "data": {
      "text/html": [
       "<div>\n",
       "<style scoped>\n",
       "    .dataframe tbody tr th:only-of-type {\n",
       "        vertical-align: middle;\n",
       "    }\n",
       "\n",
       "    .dataframe tbody tr th {\n",
       "        vertical-align: top;\n",
       "    }\n",
       "\n",
       "    .dataframe thead th {\n",
       "        text-align: right;\n",
       "    }\n",
       "</style>\n",
       "<table border=\"1\" class=\"dataframe\">\n",
       "  <thead>\n",
       "    <tr style=\"text-align: right;\">\n",
       "      <th></th>\n",
       "      <th>ttl</th>\n",
       "      <th>Latitude</th>\n",
       "      <th>Longitude</th>\n",
       "      <th>ttls</th>\n",
       "      <th>outlier</th>\n",
       "    </tr>\n",
       "  </thead>\n",
       "  <tbody>\n",
       "    <tr>\n",
       "      <th>0</th>\n",
       "      <td>ttl6</td>\n",
       "      <td>-31.3918</td>\n",
       "      <td>-64.184800</td>\n",
       "      <td>ttl6</td>\n",
       "      <td>True</td>\n",
       "    </tr>\n",
       "    <tr>\n",
       "      <th>1</th>\n",
       "      <td>ttl7</td>\n",
       "      <td>-34.6037</td>\n",
       "      <td>-58.381600</td>\n",
       "      <td>ttl7</td>\n",
       "      <td>True</td>\n",
       "    </tr>\n",
       "    <tr>\n",
       "      <th>2</th>\n",
       "      <td>ttl8</td>\n",
       "      <td>51.5074</td>\n",
       "      <td>-0.127758</td>\n",
       "      <td>ttl8</td>\n",
       "      <td>True</td>\n",
       "    </tr>\n",
       "    <tr>\n",
       "      <th>3</th>\n",
       "      <td>ttl9</td>\n",
       "      <td>51.5099</td>\n",
       "      <td>-0.085644</td>\n",
       "      <td>ttl9</td>\n",
       "      <td>False</td>\n",
       "    </tr>\n",
       "    <tr>\n",
       "      <th>4</th>\n",
       "      <td>ttl10</td>\n",
       "      <td>59.3420</td>\n",
       "      <td>18.062300</td>\n",
       "      <td>ttl10</td>\n",
       "      <td>True</td>\n",
       "    </tr>\n",
       "    <tr>\n",
       "      <th>5</th>\n",
       "      <td>ttl11</td>\n",
       "      <td>59.3420</td>\n",
       "      <td>18.062300</td>\n",
       "      <td>ttl11</td>\n",
       "      <td>False</td>\n",
       "    </tr>\n",
       "    <tr>\n",
       "      <th>6</th>\n",
       "      <td>ttl12</td>\n",
       "      <td>59.3420</td>\n",
       "      <td>18.062300</td>\n",
       "      <td>ttl12</td>\n",
       "      <td>False</td>\n",
       "    </tr>\n",
       "    <tr>\n",
       "      <th>7</th>\n",
       "      <td>ttl13</td>\n",
       "      <td>59.3420</td>\n",
       "      <td>18.062300</td>\n",
       "      <td>ttl13</td>\n",
       "      <td>True</td>\n",
       "    </tr>\n",
       "    <tr>\n",
       "      <th>8</th>\n",
       "      <td>ttl14</td>\n",
       "      <td>60.1546</td>\n",
       "      <td>10.259800</td>\n",
       "      <td>ttl14</td>\n",
       "      <td>False</td>\n",
       "    </tr>\n",
       "    <tr>\n",
       "      <th>9</th>\n",
       "      <td>ttl15</td>\n",
       "      <td>60.1546</td>\n",
       "      <td>10.259800</td>\n",
       "      <td>ttl15</td>\n",
       "      <td>False</td>\n",
       "    </tr>\n",
       "    <tr>\n",
       "      <th>10</th>\n",
       "      <td>ttl16</td>\n",
       "      <td>60.1546</td>\n",
       "      <td>10.259800</td>\n",
       "      <td>ttl16</td>\n",
       "      <td>True</td>\n",
       "    </tr>\n",
       "    <tr>\n",
       "      <th>11</th>\n",
       "      <td>ttl17</td>\n",
       "      <td>59.9550</td>\n",
       "      <td>10.859000</td>\n",
       "      <td>ttl17</td>\n",
       "      <td>True</td>\n",
       "    </tr>\n",
       "    <tr>\n",
       "      <th>12</th>\n",
       "      <td>ttl18</td>\n",
       "      <td>60.1134</td>\n",
       "      <td>10.825900</td>\n",
       "      <td>ttl18</td>\n",
       "      <td>False</td>\n",
       "    </tr>\n",
       "    <tr>\n",
       "      <th>13</th>\n",
       "      <td>ttl19</td>\n",
       "      <td>60.1134</td>\n",
       "      <td>10.825900</td>\n",
       "      <td>ttl19</td>\n",
       "      <td>False</td>\n",
       "    </tr>\n",
       "    <tr>\n",
       "      <th>14</th>\n",
       "      <td>ttl20</td>\n",
       "      <td>59.9550</td>\n",
       "      <td>10.859000</td>\n",
       "      <td>ttl20</td>\n",
       "      <td>False</td>\n",
       "    </tr>\n",
       "    <tr>\n",
       "      <th>15</th>\n",
       "      <td>ttl21</td>\n",
       "      <td>59.9550</td>\n",
       "      <td>10.859000</td>\n",
       "      <td>ttl21</td>\n",
       "      <td>False</td>\n",
       "    </tr>\n",
       "    <tr>\n",
       "      <th>16</th>\n",
       "      <td>ttl22</td>\n",
       "      <td>59.9550</td>\n",
       "      <td>10.859000</td>\n",
       "      <td>ttl22</td>\n",
       "      <td>False</td>\n",
       "    </tr>\n",
       "    <tr>\n",
       "      <th>17</th>\n",
       "      <td>ttl23</td>\n",
       "      <td>59.9550</td>\n",
       "      <td>10.859000</td>\n",
       "      <td>ttl23</td>\n",
       "      <td>False</td>\n",
       "    </tr>\n",
       "    <tr>\n",
       "      <th>18</th>\n",
       "      <td>ttl24</td>\n",
       "      <td>59.9550</td>\n",
       "      <td>10.859000</td>\n",
       "      <td>ttl24</td>\n",
       "      <td>False</td>\n",
       "    </tr>\n",
       "    <tr>\n",
       "      <th>19</th>\n",
       "      <td>ttl25</td>\n",
       "      <td>59.9550</td>\n",
       "      <td>10.859000</td>\n",
       "      <td>ttl25</td>\n",
       "      <td>False</td>\n",
       "    </tr>\n",
       "    <tr>\n",
       "      <th>20</th>\n",
       "      <td>ttl26</td>\n",
       "      <td>59.9550</td>\n",
       "      <td>10.859000</td>\n",
       "      <td>ttl26</td>\n",
       "      <td>False</td>\n",
       "    </tr>\n",
       "    <tr>\n",
       "      <th>21</th>\n",
       "      <td>ttl27</td>\n",
       "      <td>59.9550</td>\n",
       "      <td>10.859000</td>\n",
       "      <td>ttl27</td>\n",
       "      <td>False</td>\n",
       "    </tr>\n",
       "    <tr>\n",
       "      <th>22</th>\n",
       "      <td>ttl28</td>\n",
       "      <td>59.9550</td>\n",
       "      <td>10.859000</td>\n",
       "      <td>ttl28</td>\n",
       "      <td>False</td>\n",
       "    </tr>\n",
       "    <tr>\n",
       "      <th>23</th>\n",
       "      <td>ttl29</td>\n",
       "      <td>59.9550</td>\n",
       "      <td>10.859000</td>\n",
       "      <td>ttl29</td>\n",
       "      <td>False</td>\n",
       "    </tr>\n",
       "    <tr>\n",
       "      <th>24</th>\n",
       "      <td>ttl30</td>\n",
       "      <td>59.9550</td>\n",
       "      <td>10.859000</td>\n",
       "      <td>ttl30</td>\n",
       "      <td>False</td>\n",
       "    </tr>\n",
       "  </tbody>\n",
       "</table>\n",
       "</div>"
      ],
      "text/plain": [
       "      ttl  Latitude  Longitude   ttls  outlier\n",
       "0    ttl6  -31.3918 -64.184800   ttl6     True\n",
       "1    ttl7  -34.6037 -58.381600   ttl7     True\n",
       "2    ttl8   51.5074  -0.127758   ttl8     True\n",
       "3    ttl9   51.5099  -0.085644   ttl9    False\n",
       "4   ttl10   59.3420  18.062300  ttl10     True\n",
       "5   ttl11   59.3420  18.062300  ttl11    False\n",
       "6   ttl12   59.3420  18.062300  ttl12    False\n",
       "7   ttl13   59.3420  18.062300  ttl13     True\n",
       "8   ttl14   60.1546  10.259800  ttl14    False\n",
       "9   ttl15   60.1546  10.259800  ttl15    False\n",
       "10  ttl16   60.1546  10.259800  ttl16     True\n",
       "11  ttl17   59.9550  10.859000  ttl17     True\n",
       "12  ttl18   60.1134  10.825900  ttl18    False\n",
       "13  ttl19   60.1134  10.825900  ttl19    False\n",
       "14  ttl20   59.9550  10.859000  ttl20    False\n",
       "15  ttl21   59.9550  10.859000  ttl21    False\n",
       "16  ttl22   59.9550  10.859000  ttl22    False\n",
       "17  ttl23   59.9550  10.859000  ttl23    False\n",
       "18  ttl24   59.9550  10.859000  ttl24    False\n",
       "19  ttl25   59.9550  10.859000  ttl25    False\n",
       "20  ttl26   59.9550  10.859000  ttl26    False\n",
       "21  ttl27   59.9550  10.859000  ttl27    False\n",
       "22  ttl28   59.9550  10.859000  ttl28    False\n",
       "23  ttl29   59.9550  10.859000  ttl29    False\n",
       "24  ttl30   59.9550  10.859000  ttl30    False"
      ]
     },
     "execution_count": 13,
     "metadata": {},
     "output_type": "execute_result"
    }
   ],
   "source": [
    "df_ubication_with_outlier = df_ubication.merge(df_with_outliers[[\"ttls\", \"outlier\"]], left_on=\"ttl\", right_on=\"ttls\")\n",
    "df_ubication_with_outlier"
   ]
  },
  {
   "cell_type": "code",
   "execution_count": 14,
   "metadata": {},
   "outputs": [],
   "source": [
    "df_ubication_with_outlier[\"color\"] = \"blue\"\n",
    "df_ubication_with_outlier[\"markersize\"] = 7\n",
    "df_ubication_with_outlier[\"markersymbol\"] = \"circle\"\n",
    "def format_outliers(row):\n",
    "    if row[\"outlier\"]:\n",
    "        row[\"color\"] = \"red\"\n",
    "        row[\"markersize\"] = 10\n",
    "        row[\"markersymbol\"] = \"diamond\"\n",
    "    return row\n",
    "df_ubication_with_outlier = df_ubication_with_outlier.apply(format_outliers, axis=1)"
   ]
  },
  {
   "cell_type": "code",
   "execution_count": 15,
   "metadata": {},
   "outputs": [
    {
     "data": {
      "application/vnd.plotly.v1+json": {
       "config": {
        "plotlyServerURL": "https://plot.ly"
       },
       "data": [
        {
         "geo": "geo",
         "hovertemplate": "<b>%{hovertext}</b><br><br>Latitude=%{lat}<br>Longitude=%{lon}<extra></extra>",
         "hovertext": [
          "ttl6",
          "ttl7",
          "ttl8",
          "ttl9",
          "ttl10",
          "ttl11",
          "ttl12",
          "ttl13",
          "ttl14",
          "ttl15",
          "ttl16",
          "ttl17",
          "ttl18",
          "ttl19",
          "ttl20",
          "ttl21",
          "ttl22",
          "ttl23",
          "ttl24",
          "ttl25",
          "ttl26",
          "ttl27",
          "ttl28",
          "ttl29",
          "ttl30"
         ],
         "lat": [
          -31.3918,
          -34.6037,
          51.5074,
          51.5099,
          59.342,
          59.342,
          59.342,
          59.342,
          60.1546,
          60.1546,
          60.1546,
          59.955,
          60.1134,
          60.1134,
          59.955,
          59.955,
          59.955,
          59.955,
          59.955,
          59.955,
          59.955,
          59.955,
          59.955,
          59.955,
          59.955
         ],
         "legendgroup": "",
         "line": {
          "color": "#636efa",
          "dash": "solid"
         },
         "lon": [
          -64.1848,
          -58.3816,
          -0.127758,
          -0.0856444,
          18.0623,
          18.0623,
          18.0623,
          18.0623,
          10.2598,
          10.2598,
          10.2598,
          10.859,
          10.8259,
          10.8259,
          10.859,
          10.859,
          10.859,
          10.859,
          10.859,
          10.859,
          10.859,
          10.859,
          10.859,
          10.859,
          10.859
         ],
         "marker": {
          "color": [
           "red",
           "red",
           "red",
           "blue",
           "red",
           "blue",
           "blue",
           "red",
           "blue",
           "blue",
           "red",
           "red",
           "blue",
           "blue",
           "blue",
           "blue",
           "blue",
           "blue",
           "blue",
           "blue",
           "blue",
           "blue",
           "blue",
           "blue",
           "blue"
          ],
          "size": [
           10,
           10,
           10,
           7,
           10,
           7,
           7,
           10,
           7,
           7,
           10,
           10,
           7,
           7,
           7,
           7,
           7,
           7,
           7,
           7,
           7,
           7,
           7,
           7,
           7
          ],
          "symbol": [
           "diamond",
           "diamond",
           "diamond",
           "circle",
           "diamond",
           "circle",
           "circle",
           "diamond",
           "circle",
           "circle",
           "diamond",
           "diamond",
           "circle",
           "circle",
           "circle",
           "circle",
           "circle",
           "circle",
           "circle",
           "circle",
           "circle",
           "circle",
           "circle",
           "circle",
           "circle"
          ]
         },
         "mode": "markers+lines",
         "name": "",
         "showlegend": false,
         "type": "scattergeo"
        }
       ],
       "layout": {
        "geo": {
         "center": {},
         "domain": {
          "x": [
           0,
           1
          ],
          "y": [
           0,
           1
          ]
         },
         "fitbounds": "locations",
         "projection": {
          "type": "natural earth"
         },
         "showcountries": true
        },
        "legend": {
         "tracegroupgap": 0
        },
        "template": {
         "data": {
          "bar": [
           {
            "error_x": {
             "color": "#2a3f5f"
            },
            "error_y": {
             "color": "#2a3f5f"
            },
            "marker": {
             "line": {
              "color": "#E5ECF6",
              "width": 0.5
             },
             "pattern": {
              "fillmode": "overlay",
              "size": 10,
              "solidity": 0.2
             }
            },
            "type": "bar"
           }
          ],
          "barpolar": [
           {
            "marker": {
             "line": {
              "color": "#E5ECF6",
              "width": 0.5
             },
             "pattern": {
              "fillmode": "overlay",
              "size": 10,
              "solidity": 0.2
             }
            },
            "type": "barpolar"
           }
          ],
          "carpet": [
           {
            "aaxis": {
             "endlinecolor": "#2a3f5f",
             "gridcolor": "white",
             "linecolor": "white",
             "minorgridcolor": "white",
             "startlinecolor": "#2a3f5f"
            },
            "baxis": {
             "endlinecolor": "#2a3f5f",
             "gridcolor": "white",
             "linecolor": "white",
             "minorgridcolor": "white",
             "startlinecolor": "#2a3f5f"
            },
            "type": "carpet"
           }
          ],
          "choropleth": [
           {
            "colorbar": {
             "outlinewidth": 0,
             "ticks": ""
            },
            "type": "choropleth"
           }
          ],
          "contour": [
           {
            "colorbar": {
             "outlinewidth": 0,
             "ticks": ""
            },
            "colorscale": [
             [
              0,
              "#0d0887"
             ],
             [
              0.1111111111111111,
              "#46039f"
             ],
             [
              0.2222222222222222,
              "#7201a8"
             ],
             [
              0.3333333333333333,
              "#9c179e"
             ],
             [
              0.4444444444444444,
              "#bd3786"
             ],
             [
              0.5555555555555556,
              "#d8576b"
             ],
             [
              0.6666666666666666,
              "#ed7953"
             ],
             [
              0.7777777777777778,
              "#fb9f3a"
             ],
             [
              0.8888888888888888,
              "#fdca26"
             ],
             [
              1,
              "#f0f921"
             ]
            ],
            "type": "contour"
           }
          ],
          "contourcarpet": [
           {
            "colorbar": {
             "outlinewidth": 0,
             "ticks": ""
            },
            "type": "contourcarpet"
           }
          ],
          "heatmap": [
           {
            "colorbar": {
             "outlinewidth": 0,
             "ticks": ""
            },
            "colorscale": [
             [
              0,
              "#0d0887"
             ],
             [
              0.1111111111111111,
              "#46039f"
             ],
             [
              0.2222222222222222,
              "#7201a8"
             ],
             [
              0.3333333333333333,
              "#9c179e"
             ],
             [
              0.4444444444444444,
              "#bd3786"
             ],
             [
              0.5555555555555556,
              "#d8576b"
             ],
             [
              0.6666666666666666,
              "#ed7953"
             ],
             [
              0.7777777777777778,
              "#fb9f3a"
             ],
             [
              0.8888888888888888,
              "#fdca26"
             ],
             [
              1,
              "#f0f921"
             ]
            ],
            "type": "heatmap"
           }
          ],
          "heatmapgl": [
           {
            "colorbar": {
             "outlinewidth": 0,
             "ticks": ""
            },
            "colorscale": [
             [
              0,
              "#0d0887"
             ],
             [
              0.1111111111111111,
              "#46039f"
             ],
             [
              0.2222222222222222,
              "#7201a8"
             ],
             [
              0.3333333333333333,
              "#9c179e"
             ],
             [
              0.4444444444444444,
              "#bd3786"
             ],
             [
              0.5555555555555556,
              "#d8576b"
             ],
             [
              0.6666666666666666,
              "#ed7953"
             ],
             [
              0.7777777777777778,
              "#fb9f3a"
             ],
             [
              0.8888888888888888,
              "#fdca26"
             ],
             [
              1,
              "#f0f921"
             ]
            ],
            "type": "heatmapgl"
           }
          ],
          "histogram": [
           {
            "marker": {
             "pattern": {
              "fillmode": "overlay",
              "size": 10,
              "solidity": 0.2
             }
            },
            "type": "histogram"
           }
          ],
          "histogram2d": [
           {
            "colorbar": {
             "outlinewidth": 0,
             "ticks": ""
            },
            "colorscale": [
             [
              0,
              "#0d0887"
             ],
             [
              0.1111111111111111,
              "#46039f"
             ],
             [
              0.2222222222222222,
              "#7201a8"
             ],
             [
              0.3333333333333333,
              "#9c179e"
             ],
             [
              0.4444444444444444,
              "#bd3786"
             ],
             [
              0.5555555555555556,
              "#d8576b"
             ],
             [
              0.6666666666666666,
              "#ed7953"
             ],
             [
              0.7777777777777778,
              "#fb9f3a"
             ],
             [
              0.8888888888888888,
              "#fdca26"
             ],
             [
              1,
              "#f0f921"
             ]
            ],
            "type": "histogram2d"
           }
          ],
          "histogram2dcontour": [
           {
            "colorbar": {
             "outlinewidth": 0,
             "ticks": ""
            },
            "colorscale": [
             [
              0,
              "#0d0887"
             ],
             [
              0.1111111111111111,
              "#46039f"
             ],
             [
              0.2222222222222222,
              "#7201a8"
             ],
             [
              0.3333333333333333,
              "#9c179e"
             ],
             [
              0.4444444444444444,
              "#bd3786"
             ],
             [
              0.5555555555555556,
              "#d8576b"
             ],
             [
              0.6666666666666666,
              "#ed7953"
             ],
             [
              0.7777777777777778,
              "#fb9f3a"
             ],
             [
              0.8888888888888888,
              "#fdca26"
             ],
             [
              1,
              "#f0f921"
             ]
            ],
            "type": "histogram2dcontour"
           }
          ],
          "mesh3d": [
           {
            "colorbar": {
             "outlinewidth": 0,
             "ticks": ""
            },
            "type": "mesh3d"
           }
          ],
          "parcoords": [
           {
            "line": {
             "colorbar": {
              "outlinewidth": 0,
              "ticks": ""
             }
            },
            "type": "parcoords"
           }
          ],
          "pie": [
           {
            "automargin": true,
            "type": "pie"
           }
          ],
          "scatter": [
           {
            "fillpattern": {
             "fillmode": "overlay",
             "size": 10,
             "solidity": 0.2
            },
            "type": "scatter"
           }
          ],
          "scatter3d": [
           {
            "line": {
             "colorbar": {
              "outlinewidth": 0,
              "ticks": ""
             }
            },
            "marker": {
             "colorbar": {
              "outlinewidth": 0,
              "ticks": ""
             }
            },
            "type": "scatter3d"
           }
          ],
          "scattercarpet": [
           {
            "marker": {
             "colorbar": {
              "outlinewidth": 0,
              "ticks": ""
             }
            },
            "type": "scattercarpet"
           }
          ],
          "scattergeo": [
           {
            "marker": {
             "colorbar": {
              "outlinewidth": 0,
              "ticks": ""
             }
            },
            "type": "scattergeo"
           }
          ],
          "scattergl": [
           {
            "marker": {
             "colorbar": {
              "outlinewidth": 0,
              "ticks": ""
             }
            },
            "type": "scattergl"
           }
          ],
          "scattermapbox": [
           {
            "marker": {
             "colorbar": {
              "outlinewidth": 0,
              "ticks": ""
             }
            },
            "type": "scattermapbox"
           }
          ],
          "scatterpolar": [
           {
            "marker": {
             "colorbar": {
              "outlinewidth": 0,
              "ticks": ""
             }
            },
            "type": "scatterpolar"
           }
          ],
          "scatterpolargl": [
           {
            "marker": {
             "colorbar": {
              "outlinewidth": 0,
              "ticks": ""
             }
            },
            "type": "scatterpolargl"
           }
          ],
          "scatterternary": [
           {
            "marker": {
             "colorbar": {
              "outlinewidth": 0,
              "ticks": ""
             }
            },
            "type": "scatterternary"
           }
          ],
          "surface": [
           {
            "colorbar": {
             "outlinewidth": 0,
             "ticks": ""
            },
            "colorscale": [
             [
              0,
              "#0d0887"
             ],
             [
              0.1111111111111111,
              "#46039f"
             ],
             [
              0.2222222222222222,
              "#7201a8"
             ],
             [
              0.3333333333333333,
              "#9c179e"
             ],
             [
              0.4444444444444444,
              "#bd3786"
             ],
             [
              0.5555555555555556,
              "#d8576b"
             ],
             [
              0.6666666666666666,
              "#ed7953"
             ],
             [
              0.7777777777777778,
              "#fb9f3a"
             ],
             [
              0.8888888888888888,
              "#fdca26"
             ],
             [
              1,
              "#f0f921"
             ]
            ],
            "type": "surface"
           }
          ],
          "table": [
           {
            "cells": {
             "fill": {
              "color": "#EBF0F8"
             },
             "line": {
              "color": "white"
             }
            },
            "header": {
             "fill": {
              "color": "#C8D4E3"
             },
             "line": {
              "color": "white"
             }
            },
            "type": "table"
           }
          ]
         },
         "layout": {
          "annotationdefaults": {
           "arrowcolor": "#2a3f5f",
           "arrowhead": 0,
           "arrowwidth": 1
          },
          "autotypenumbers": "strict",
          "coloraxis": {
           "colorbar": {
            "outlinewidth": 0,
            "ticks": ""
           }
          },
          "colorscale": {
           "diverging": [
            [
             0,
             "#8e0152"
            ],
            [
             0.1,
             "#c51b7d"
            ],
            [
             0.2,
             "#de77ae"
            ],
            [
             0.3,
             "#f1b6da"
            ],
            [
             0.4,
             "#fde0ef"
            ],
            [
             0.5,
             "#f7f7f7"
            ],
            [
             0.6,
             "#e6f5d0"
            ],
            [
             0.7,
             "#b8e186"
            ],
            [
             0.8,
             "#7fbc41"
            ],
            [
             0.9,
             "#4d9221"
            ],
            [
             1,
             "#276419"
            ]
           ],
           "sequential": [
            [
             0,
             "#0d0887"
            ],
            [
             0.1111111111111111,
             "#46039f"
            ],
            [
             0.2222222222222222,
             "#7201a8"
            ],
            [
             0.3333333333333333,
             "#9c179e"
            ],
            [
             0.4444444444444444,
             "#bd3786"
            ],
            [
             0.5555555555555556,
             "#d8576b"
            ],
            [
             0.6666666666666666,
             "#ed7953"
            ],
            [
             0.7777777777777778,
             "#fb9f3a"
            ],
            [
             0.8888888888888888,
             "#fdca26"
            ],
            [
             1,
             "#f0f921"
            ]
           ],
           "sequentialminus": [
            [
             0,
             "#0d0887"
            ],
            [
             0.1111111111111111,
             "#46039f"
            ],
            [
             0.2222222222222222,
             "#7201a8"
            ],
            [
             0.3333333333333333,
             "#9c179e"
            ],
            [
             0.4444444444444444,
             "#bd3786"
            ],
            [
             0.5555555555555556,
             "#d8576b"
            ],
            [
             0.6666666666666666,
             "#ed7953"
            ],
            [
             0.7777777777777778,
             "#fb9f3a"
            ],
            [
             0.8888888888888888,
             "#fdca26"
            ],
            [
             1,
             "#f0f921"
            ]
           ]
          },
          "colorway": [
           "#636efa",
           "#EF553B",
           "#00cc96",
           "#ab63fa",
           "#FFA15A",
           "#19d3f3",
           "#FF6692",
           "#B6E880",
           "#FF97FF",
           "#FECB52"
          ],
          "font": {
           "color": "#2a3f5f"
          },
          "geo": {
           "bgcolor": "white",
           "lakecolor": "white",
           "landcolor": "#E5ECF6",
           "showlakes": true,
           "showland": true,
           "subunitcolor": "white"
          },
          "hoverlabel": {
           "align": "left"
          },
          "hovermode": "closest",
          "mapbox": {
           "style": "light"
          },
          "paper_bgcolor": "white",
          "plot_bgcolor": "#E5ECF6",
          "polar": {
           "angularaxis": {
            "gridcolor": "white",
            "linecolor": "white",
            "ticks": ""
           },
           "bgcolor": "#E5ECF6",
           "radialaxis": {
            "gridcolor": "white",
            "linecolor": "white",
            "ticks": ""
           }
          },
          "scene": {
           "xaxis": {
            "backgroundcolor": "#E5ECF6",
            "gridcolor": "white",
            "gridwidth": 2,
            "linecolor": "white",
            "showbackground": true,
            "ticks": "",
            "zerolinecolor": "white"
           },
           "yaxis": {
            "backgroundcolor": "#E5ECF6",
            "gridcolor": "white",
            "gridwidth": 2,
            "linecolor": "white",
            "showbackground": true,
            "ticks": "",
            "zerolinecolor": "white"
           },
           "zaxis": {
            "backgroundcolor": "#E5ECF6",
            "gridcolor": "white",
            "gridwidth": 2,
            "linecolor": "white",
            "showbackground": true,
            "ticks": "",
            "zerolinecolor": "white"
           }
          },
          "shapedefaults": {
           "line": {
            "color": "#2a3f5f"
           }
          },
          "ternary": {
           "aaxis": {
            "gridcolor": "white",
            "linecolor": "white",
            "ticks": ""
           },
           "baxis": {
            "gridcolor": "white",
            "linecolor": "white",
            "ticks": ""
           },
           "bgcolor": "#E5ECF6",
           "caxis": {
            "gridcolor": "white",
            "linecolor": "white",
            "ticks": ""
           }
          },
          "title": {
           "x": 0.05
          },
          "xaxis": {
           "automargin": true,
           "gridcolor": "white",
           "linecolor": "white",
           "ticks": "",
           "title": {
            "standoff": 15
           },
           "zerolinecolor": "white",
           "zerolinewidth": 2
          },
          "yaxis": {
           "automargin": true,
           "gridcolor": "white",
           "linecolor": "white",
           "ticks": "",
           "title": {
            "standoff": 15
           },
           "zerolinecolor": "white",
           "zerolinewidth": 2
          }
         }
        },
        "title": {
         "text": "Noruega"
        }
       }
      }
     },
     "metadata": {},
     "output_type": "display_data"
    }
   ],
   "source": [
    "import plotly.express as px\n",
    "\n",
    "fig = px.line_geo(df_ubication, \n",
    "                     # longitude is taken from the df[\"lon\"] columns and latitude from df[\"lat\"]\n",
    "                     lon=\"Longitude\", \n",
    "                     lat=\"Latitude\", \n",
    "                     # choose the map chart's projection\n",
    "                     projection=\"natural earth\",\n",
    "                     markers=True,\n",
    "                     hover_name = \"ttl\",\n",
    "                     title=country.capitalize()\n",
    "                     )\n",
    "fig.update_traces(marker=dict(symbol = df_ubication_with_outlier[\"markersymbol\"], size=df_ubication_with_outlier[\"markersize\"], color=df_ubication_with_outlier[\"color\"]))\n",
    "fig.update_geos(fitbounds=\"locations\", showcountries = True)\n",
    "fig.write_image(f\"./graficos/worldmap_outliers_{country}.png\", engine=\"kaleido\", scale=4)\n",
    "fig.show()"
   ]
  },
  {
   "cell_type": "code",
   "execution_count": null,
   "metadata": {},
   "outputs": [],
   "source": []
  }
 ],
 "metadata": {
  "interpreter": {
   "hash": "ebfe85d34e2c8bf36c395e80b58ce3afa38e7bbdf037e140615da6058b306e8f"
  },
  "kernelspec": {
   "display_name": "Python 3.10.0 64-bit ('3.10.0')",
   "language": "python",
   "name": "python3"
  },
  "language_info": {
   "codemirror_mode": {
    "name": "ipython",
    "version": 3
   },
   "file_extension": ".py",
   "mimetype": "text/x-python",
   "name": "python",
   "nbconvert_exporter": "python",
   "pygments_lexer": "ipython3",
   "version": "3.10.0"
  }
 },
 "nbformat": 4,
 "nbformat_minor": 2
}

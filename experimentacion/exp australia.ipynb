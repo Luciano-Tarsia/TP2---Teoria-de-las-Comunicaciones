{
 "cells": [
  {
   "cell_type": "code",
   "execution_count": 12,
   "metadata": {},
   "outputs": [],
   "source": [
    "import pandas as pd\n",
    "import numpy as np\n",
    "import matplotlib.pyplot as plt\n",
    "import seaborn as sns"
   ]
  },
  {
   "cell_type": "code",
   "execution_count": 13,
   "metadata": {},
   "outputs": [],
   "source": [
    "#Constante ip\n",
    "\n",
    "IP = '101.4.0.1'\n",
    "\n",
    "#Dataframes\n",
    "\n",
    "dict_capturas = dict({'australia': '../data/130.130.39.1 (all ips) 05-18-2022 19:15:03.csv',\n",
    "                      'australia_mean': '../data/130.130.39.1 05-18-2022 20:01:18.csv'})\n",
    "\n",
    "for captura in dict_capturas.keys():\n",
    "    dict_capturas[captura] = pd.read_csv(dict_capturas[captura])\n",
    "    dict_capturas[captura].name = captura\n",
    "\n",
    "df_australia = dict_capturas['australia']\n",
    "df_australia_mean = dict_capturas['australia_mean']\n",
    "\n",
    "def most_frequent(List):\n",
    "    return max(set(List), key = List.count)"
   ]
  },
  {
   "cell_type": "markdown",
   "metadata": {},
   "source": [
    "# Camino de ip's"
   ]
  },
  {
   "cell_type": "code",
   "execution_count": 14,
   "metadata": {},
   "outputs": [],
   "source": [
    "# Diccionario que en cada entrada es un ttl, y en cada una hay una lista con las ips\n",
    "# que aparecieron en ese salto\n",
    "dict_ips_for_every_ttl = dict()\n",
    "dict_ips_for_every_ttl['ttl1'] = []\n",
    "\n",
    "# Esto lo hago para poder iterar el df\n",
    "df_australia = df_australia.reset_index()\n",
    "\n",
    "row_ttl = 1\n",
    "for index, row in df_australia.iterrows():\n",
    "    if (row['ttl'] == row_ttl):\n",
    "        dict_ips_for_every_ttl['ttl'+str(row_ttl)].append(row['ip'])\n",
    "    else:\n",
    "        row_ttl = row['ttl']\n",
    "        dict_ips_for_every_ttl['ttl'+str(row_ttl)] = []\n",
    "        dict_ips_for_every_ttl['ttl'+str(row_ttl)].append(row['ip'])\n",
    "\n",
    "most_frequent_ip = dict()\n",
    "ttl_anterior = 'ttl1'\n",
    "for ttl in dict_ips_for_every_ttl.keys():\n",
    "    if (most_frequent(dict_ips_for_every_ttl[ttl]) == most_frequent(dict_ips_for_every_ttl[ttl_anterior]) and most_frequent(dict_ips_for_every_ttl[ttl]) == IP):\n",
    "        break    \n",
    "    most_frequent_ip[ttl] = most_frequent(dict_ips_for_every_ttl[ttl])\n",
    "    ttl_anterior = ttl\n",
    "\n",
    "# most_frequent_ip es un diccionario que la clave tiene el ttl correspondiente, y en el valor la ip\n",
    "# que más apareció para ese ttl"
   ]
  },
  {
   "cell_type": "markdown",
   "metadata": {},
   "source": [
    "# Dataframe nuevo"
   ]
  },
  {
   "cell_type": "code",
   "execution_count": 15,
   "metadata": {},
   "outputs": [
    {
     "data": {
      "text/html": [
       "<div>\n",
       "<style scoped>\n",
       "    .dataframe tbody tr th:only-of-type {\n",
       "        vertical-align: middle;\n",
       "    }\n",
       "\n",
       "    .dataframe tbody tr th {\n",
       "        vertical-align: top;\n",
       "    }\n",
       "\n",
       "    .dataframe thead th {\n",
       "        text-align: right;\n",
       "    }\n",
       "</style>\n",
       "<table border=\"1\" class=\"dataframe\">\n",
       "  <thead>\n",
       "    <tr style=\"text-align: right;\">\n",
       "      <th></th>\n",
       "      <th>ttls</th>\n",
       "      <th>ip</th>\n",
       "      <th>tiempo restado</th>\n",
       "      <th>tiempo neto</th>\n",
       "      <th>varianza</th>\n",
       "    </tr>\n",
       "  </thead>\n",
       "  <tbody>\n",
       "    <tr>\n",
       "      <th>0</th>\n",
       "      <td>ttl1</td>\n",
       "      <td>192.168.0.1</td>\n",
       "      <td>61.122445</td>\n",
       "      <td>61.122445</td>\n",
       "      <td>212.366432</td>\n",
       "    </tr>\n",
       "    <tr>\n",
       "      <th>1</th>\n",
       "      <td>ttl6</td>\n",
       "      <td>181.96.103.168</td>\n",
       "      <td>13.993235</td>\n",
       "      <td>75.115681</td>\n",
       "      <td>0.000000</td>\n",
       "    </tr>\n",
       "    <tr>\n",
       "      <th>2</th>\n",
       "      <td>ttl7</td>\n",
       "      <td>195.22.220.56</td>\n",
       "      <td>9.516847</td>\n",
       "      <td>70.639292</td>\n",
       "      <td>90.199850</td>\n",
       "    </tr>\n",
       "    <tr>\n",
       "      <th>3</th>\n",
       "      <td>ttl8</td>\n",
       "      <td>89.221.35.145</td>\n",
       "      <td>126.550357</td>\n",
       "      <td>197.189649</td>\n",
       "      <td>72.221350</td>\n",
       "    </tr>\n",
       "    <tr>\n",
       "      <th>4</th>\n",
       "      <td>ttl9</td>\n",
       "      <td>198.32.176.177</td>\n",
       "      <td>3.298092</td>\n",
       "      <td>200.487741</td>\n",
       "      <td>74.330771</td>\n",
       "    </tr>\n",
       "    <tr>\n",
       "      <th>5</th>\n",
       "      <td>ttl10</td>\n",
       "      <td>202.158.194.176</td>\n",
       "      <td>156.204391</td>\n",
       "      <td>356.692131</td>\n",
       "      <td>61.630631</td>\n",
       "    </tr>\n",
       "    <tr>\n",
       "      <th>6</th>\n",
       "      <td>ttl11</td>\n",
       "      <td>113.197.15.146</td>\n",
       "      <td>3.842251</td>\n",
       "      <td>360.534382</td>\n",
       "      <td>142.564491</td>\n",
       "    </tr>\n",
       "    <tr>\n",
       "      <th>7</th>\n",
       "      <td>ttl12</td>\n",
       "      <td>113.197.15.12</td>\n",
       "      <td>1.627541</td>\n",
       "      <td>358.319672</td>\n",
       "      <td>132.783048</td>\n",
       "    </tr>\n",
       "    <tr>\n",
       "      <th>8</th>\n",
       "      <td>ttl13</td>\n",
       "      <td>138.44.5.111</td>\n",
       "      <td>4.744522</td>\n",
       "      <td>363.064194</td>\n",
       "      <td>109.010086</td>\n",
       "    </tr>\n",
       "    <tr>\n",
       "      <th>9</th>\n",
       "      <td>ttl14</td>\n",
       "      <td>203.10.91.69</td>\n",
       "      <td>1.098262</td>\n",
       "      <td>357.790393</td>\n",
       "      <td>122.331140</td>\n",
       "    </tr>\n",
       "    <tr>\n",
       "      <th>10</th>\n",
       "      <td>ttl19</td>\n",
       "      <td>130.130.39.1</td>\n",
       "      <td>1.701090</td>\n",
       "      <td>359.491483</td>\n",
       "      <td>121.597093</td>\n",
       "    </tr>\n",
       "    <tr>\n",
       "      <th>11</th>\n",
       "      <td>ttl20</td>\n",
       "      <td>130.130.39.1</td>\n",
       "      <td>155.530906</td>\n",
       "      <td>356.018647</td>\n",
       "      <td>123.740369</td>\n",
       "    </tr>\n",
       "    <tr>\n",
       "      <th>12</th>\n",
       "      <td>ttl21</td>\n",
       "      <td>130.130.39.1</td>\n",
       "      <td>0.824769</td>\n",
       "      <td>356.843416</td>\n",
       "      <td>67.991562</td>\n",
       "    </tr>\n",
       "    <tr>\n",
       "      <th>13</th>\n",
       "      <td>ttl22</td>\n",
       "      <td>130.130.39.1</td>\n",
       "      <td>155.339042</td>\n",
       "      <td>355.826783</td>\n",
       "      <td>111.874670</td>\n",
       "    </tr>\n",
       "    <tr>\n",
       "      <th>14</th>\n",
       "      <td>ttl23</td>\n",
       "      <td>130.130.39.1</td>\n",
       "      <td>153.941584</td>\n",
       "      <td>354.429324</td>\n",
       "      <td>149.623230</td>\n",
       "    </tr>\n",
       "    <tr>\n",
       "      <th>15</th>\n",
       "      <td>ttl24</td>\n",
       "      <td>130.130.39.1</td>\n",
       "      <td>153.651841</td>\n",
       "      <td>354.139582</td>\n",
       "      <td>94.760572</td>\n",
       "    </tr>\n",
       "    <tr>\n",
       "      <th>16</th>\n",
       "      <td>ttl25</td>\n",
       "      <td>130.130.39.1</td>\n",
       "      <td>0.769162</td>\n",
       "      <td>354.908744</td>\n",
       "      <td>114.310624</td>\n",
       "    </tr>\n",
       "    <tr>\n",
       "      <th>17</th>\n",
       "      <td>ttl26</td>\n",
       "      <td>130.130.39.1</td>\n",
       "      <td>1.052682</td>\n",
       "      <td>355.961426</td>\n",
       "      <td>177.081887</td>\n",
       "    </tr>\n",
       "    <tr>\n",
       "      <th>18</th>\n",
       "      <td>ttl27</td>\n",
       "      <td>130.130.39.1</td>\n",
       "      <td>0.548267</td>\n",
       "      <td>356.509693</td>\n",
       "      <td>124.841146</td>\n",
       "    </tr>\n",
       "    <tr>\n",
       "      <th>19</th>\n",
       "      <td>ttl28</td>\n",
       "      <td>130.130.39.1</td>\n",
       "      <td>0.038075</td>\n",
       "      <td>354.946820</td>\n",
       "      <td>55.105006</td>\n",
       "    </tr>\n",
       "    <tr>\n",
       "      <th>20</th>\n",
       "      <td>ttl29</td>\n",
       "      <td>130.130.39.1</td>\n",
       "      <td>1.690420</td>\n",
       "      <td>356.637239</td>\n",
       "      <td>97.790918</td>\n",
       "    </tr>\n",
       "    <tr>\n",
       "      <th>21</th>\n",
       "      <td>ttl30</td>\n",
       "      <td>130.130.39.1</td>\n",
       "      <td>0.114616</td>\n",
       "      <td>355.061436</td>\n",
       "      <td>67.808327</td>\n",
       "    </tr>\n",
       "  </tbody>\n",
       "</table>\n",
       "</div>"
      ],
      "text/plain": [
       "     ttls               ip  tiempo restado  tiempo neto    varianza\n",
       "0    ttl1      192.168.0.1       61.122445    61.122445  212.366432\n",
       "1    ttl6   181.96.103.168       13.993235    75.115681    0.000000\n",
       "2    ttl7    195.22.220.56        9.516847    70.639292   90.199850\n",
       "3    ttl8    89.221.35.145      126.550357   197.189649   72.221350\n",
       "4    ttl9   198.32.176.177        3.298092   200.487741   74.330771\n",
       "5   ttl10  202.158.194.176      156.204391   356.692131   61.630631\n",
       "6   ttl11   113.197.15.146        3.842251   360.534382  142.564491\n",
       "7   ttl12    113.197.15.12        1.627541   358.319672  132.783048\n",
       "8   ttl13     138.44.5.111        4.744522   363.064194  109.010086\n",
       "9   ttl14     203.10.91.69        1.098262   357.790393  122.331140\n",
       "10  ttl19     130.130.39.1        1.701090   359.491483  121.597093\n",
       "11  ttl20     130.130.39.1      155.530906   356.018647  123.740369\n",
       "12  ttl21     130.130.39.1        0.824769   356.843416   67.991562\n",
       "13  ttl22     130.130.39.1      155.339042   355.826783  111.874670\n",
       "14  ttl23     130.130.39.1      153.941584   354.429324  149.623230\n",
       "15  ttl24     130.130.39.1      153.651841   354.139582   94.760572\n",
       "16  ttl25     130.130.39.1        0.769162   354.908744  114.310624\n",
       "17  ttl26     130.130.39.1        1.052682   355.961426  177.081887\n",
       "18  ttl27     130.130.39.1        0.548267   356.509693  124.841146\n",
       "19  ttl28     130.130.39.1        0.038075   354.946820   55.105006\n",
       "20  ttl29     130.130.39.1        1.690420   356.637239   97.790918\n",
       "21  ttl30     130.130.39.1        0.114616   355.061436   67.808327"
      ]
     },
     "execution_count": 15,
     "metadata": {},
     "output_type": "execute_result"
    }
   ],
   "source": [
    "dict_ttl_tiempos = dict()\n",
    "\n",
    "row_ttl = 0\n",
    "for index, row in df_australia.iterrows():\n",
    "    if (('ttl' + str(row['ttl']) in most_frequent_ip.keys()) and row['ip'] == most_frequent_ip['ttl' + str(row['ttl'])]):\n",
    "        if (row['ttl'] == row_ttl):\n",
    "            dict_ttl_tiempos['ttl'+str(row_ttl)].append(row['rtt'])\n",
    "        else:\n",
    "            row_ttl = row['ttl']\n",
    "            dict_ttl_tiempos['ttl'+str(row_ttl)] = []\n",
    "            dict_ttl_tiempos['ttl'+str(row_ttl)].append(row['rtt'])\n",
    "\n",
    "ttls = most_frequent_ip.keys()\n",
    "\n",
    "tiempos = [np.mean(dict_ttl_tiempos[tiempo]) for tiempo in dict_ttl_tiempos.keys()]\n",
    "\n",
    "tiempos_aux = tiempos.copy()\n",
    "\n",
    "for i in range(1, len(tiempos)):\n",
    "    jump = tiempos[i] - tiempos_aux[i-1]\n",
    "    if jump < 0:\n",
    "        j = 1\n",
    "        while i - j > 0 and jump < 0:\n",
    "            j += 1\n",
    "            jump = tiempos[i] - tiempos_aux[i-j]\n",
    "    tiempos[i] = max(jump, 0)\n",
    "\n",
    "varianza_de_los_tiempos = [np.var(dict_ttl_tiempos[tiempo]) for tiempo in dict_ttl_tiempos.keys()]\n",
    "\n",
    "df_time = pd.DataFrame(list(zip(ttls, most_frequent_ip.values(),tiempos, tiempos_aux,varianza_de_los_tiempos)),\n",
    "               columns =['ttls', 'ip', 'tiempo restado', 'tiempo neto', 'varianza'])\n",
    "\n",
    "df_time"
   ]
  },
  {
   "cell_type": "markdown",
   "metadata": {},
   "source": [
    "# Gráficos"
   ]
  },
  {
   "cell_type": "code",
   "execution_count": 16,
   "metadata": {},
   "outputs": [
    {
     "data": {
      "image/png": "[encoded data removed]",
      "text/plain": [
       "<Figure size 432x288 with 1 Axes>"
      ]
     },
     "metadata": {
      "needs_background": "light"
     },
     "output_type": "display_data"
    }
   ],
   "source": [
    "ax = sns.barplot(\n",
    "    x= df_time['tiempo restado'], \n",
    "    y= df_time['ttls'],\n",
    "    estimator=sum,\n",
    "    ci=None,\n",
    "    orient = 'h'\n",
    ")\n",
    "fig = ax.get_figure()"
   ]
  },
  {
   "cell_type": "code",
   "execution_count": 17,
   "metadata": {},
   "outputs": [],
   "source": [
    "from itertools import chain\n",
    "\n",
    "def draw_map(m, scale=0.2):\n",
    "    # draw a shaded-relief image\n",
    "    m.shadedrelief(scale=scale)\n",
    "    \n",
    "    # lats and longs are returned as a dictionary\n",
    "    lats = m.drawparallels(np.linspace(-90, 90, 13))\n",
    "    lons = m.drawmeridians(np.linspace(-180, 180, 13))\n",
    "\n",
    "    # keys contain the plt.Line2D instances\n",
    "    lat_lines = chain(*(tup[1][0] for tup in lats.items()))\n",
    "    lon_lines = chain(*(tup[1][0] for tup in lons.items()))\n",
    "    all_lines = chain(lat_lines, lon_lines)\n",
    "    \n",
    "    # cycle through these lines and set the desired style\n",
    "    for line in all_lines:\n",
    "        line.set(linestyle='-', alpha=0.3, color='w')"
   ]
  },
  {
   "cell_type": "code",
   "execution_count": 18,
   "metadata": {},
   "outputs": [],
   "source": [
    "import numpy as np\n",
    "import matplotlib.pyplot as plt\n",
    "from mpl_toolkits.basemap import Basemap\n",
    "import requests\n",
    "\n",
    "locations = []\n",
    "\n",
    "for ip in most_frequent_ip.values():\n",
    "    response = requests.get(\"http://ip-api.com/json/\"+ip).json()\n",
    "    if (response['status'] == 'success'):\n",
    "        locations.append([response['lat'], response['lon']])\n",
    "    else:\n",
    "        locations.append([0, 0])\n"
   ]
  },
  {
   "cell_type": "code",
   "execution_count": 19,
   "metadata": {},
   "outputs": [
    {
     "data": {
      "image/png": "[encoded data removed]",
      "text/plain": [
       "<Figure size 576x432 with 1 Axes>"
      ]
     },
     "metadata": {},
     "output_type": "display_data"
    }
   ],
   "source": [
    "fig = plt.figure(figsize=(8, 6), edgecolor='w')\n",
    "m = Basemap(projection='cyl', resolution=None,\n",
    "            llcrnrlat=-90, urcrnrlat=90,\n",
    "            llcrnrlon=-180, urcrnrlon=180, )\n",
    "draw_map(m)\n",
    "\n",
    "# Map (long, lat) to (x, y) for plotting\n",
    "for i in range(len(df_time)):\n",
    "    if ((locations[i][0] != 0) and (locations[i][1] != 0)):\n",
    "        x = locations[i][1]\n",
    "        y = locations[i][0]\n",
    "        plt.plot(x, y, 'ok', markersize=5)\n",
    "        plt.text(x, y, df_time.iloc[i].ttls, fontsize=12);"
   ]
  },
  {
   "cell_type": "code",
   "execution_count": 20,
   "metadata": {},
   "outputs": [
    {
     "data": {
      "text/html": [
       "<div>\n",
       "<style scoped>\n",
       "    .dataframe tbody tr th:only-of-type {\n",
       "        vertical-align: middle;\n",
       "    }\n",
       "\n",
       "    .dataframe tbody tr th {\n",
       "        vertical-align: top;\n",
       "    }\n",
       "\n",
       "    .dataframe thead th {\n",
       "        text-align: right;\n",
       "    }\n",
       "</style>\n",
       "<table border=\"1\" class=\"dataframe\">\n",
       "  <thead>\n",
       "    <tr style=\"text-align: right;\">\n",
       "      <th></th>\n",
       "      <th>ttl</th>\n",
       "      <th>Latitude</th>\n",
       "      <th>Longitude</th>\n",
       "    </tr>\n",
       "  </thead>\n",
       "  <tbody>\n",
       "    <tr>\n",
       "      <th>0</th>\n",
       "      <td>ttl6</td>\n",
       "      <td>-31.3183</td>\n",
       "      <td>-64.1625</td>\n",
       "    </tr>\n",
       "    <tr>\n",
       "      <th>1</th>\n",
       "      <td>ttl7</td>\n",
       "      <td>-34.6037</td>\n",
       "      <td>-58.3816</td>\n",
       "    </tr>\n",
       "    <tr>\n",
       "      <th>2</th>\n",
       "      <td>ttl8</td>\n",
       "      <td>40.7357</td>\n",
       "      <td>-74.1724</td>\n",
       "    </tr>\n",
       "    <tr>\n",
       "      <th>3</th>\n",
       "      <td>ttl9</td>\n",
       "      <td>29.7281</td>\n",
       "      <td>-95.4451</td>\n",
       "    </tr>\n",
       "    <tr>\n",
       "      <th>4</th>\n",
       "      <td>ttl10</td>\n",
       "      <td>-35.2828</td>\n",
       "      <td>149.1283</td>\n",
       "    </tr>\n",
       "    <tr>\n",
       "      <th>5</th>\n",
       "      <td>ttl11</td>\n",
       "      <td>-37.8159</td>\n",
       "      <td>144.9669</td>\n",
       "    </tr>\n",
       "    <tr>\n",
       "      <th>6</th>\n",
       "      <td>ttl12</td>\n",
       "      <td>-37.8159</td>\n",
       "      <td>144.9669</td>\n",
       "    </tr>\n",
       "    <tr>\n",
       "      <th>7</th>\n",
       "      <td>ttl13</td>\n",
       "      <td>-33.8715</td>\n",
       "      <td>151.2006</td>\n",
       "    </tr>\n",
       "    <tr>\n",
       "      <th>8</th>\n",
       "      <td>ttl14</td>\n",
       "      <td>-34.4272</td>\n",
       "      <td>150.8942</td>\n",
       "    </tr>\n",
       "    <tr>\n",
       "      <th>9</th>\n",
       "      <td>ttl19</td>\n",
       "      <td>-34.4081</td>\n",
       "      <td>150.8790</td>\n",
       "    </tr>\n",
       "    <tr>\n",
       "      <th>10</th>\n",
       "      <td>ttl20</td>\n",
       "      <td>-34.4081</td>\n",
       "      <td>150.8790</td>\n",
       "    </tr>\n",
       "    <tr>\n",
       "      <th>11</th>\n",
       "      <td>ttl21</td>\n",
       "      <td>-34.4081</td>\n",
       "      <td>150.8790</td>\n",
       "    </tr>\n",
       "    <tr>\n",
       "      <th>12</th>\n",
       "      <td>ttl22</td>\n",
       "      <td>-34.4081</td>\n",
       "      <td>150.8790</td>\n",
       "    </tr>\n",
       "    <tr>\n",
       "      <th>13</th>\n",
       "      <td>ttl23</td>\n",
       "      <td>-34.4081</td>\n",
       "      <td>150.8790</td>\n",
       "    </tr>\n",
       "    <tr>\n",
       "      <th>14</th>\n",
       "      <td>ttl24</td>\n",
       "      <td>-34.4081</td>\n",
       "      <td>150.8790</td>\n",
       "    </tr>\n",
       "    <tr>\n",
       "      <th>15</th>\n",
       "      <td>ttl25</td>\n",
       "      <td>-34.4081</td>\n",
       "      <td>150.8790</td>\n",
       "    </tr>\n",
       "    <tr>\n",
       "      <th>16</th>\n",
       "      <td>ttl26</td>\n",
       "      <td>-34.4081</td>\n",
       "      <td>150.8790</td>\n",
       "    </tr>\n",
       "    <tr>\n",
       "      <th>17</th>\n",
       "      <td>ttl27</td>\n",
       "      <td>-34.4081</td>\n",
       "      <td>150.8790</td>\n",
       "    </tr>\n",
       "    <tr>\n",
       "      <th>18</th>\n",
       "      <td>ttl28</td>\n",
       "      <td>-34.4081</td>\n",
       "      <td>150.8790</td>\n",
       "    </tr>\n",
       "    <tr>\n",
       "      <th>19</th>\n",
       "      <td>ttl29</td>\n",
       "      <td>-34.4081</td>\n",
       "      <td>150.8790</td>\n",
       "    </tr>\n",
       "    <tr>\n",
       "      <th>20</th>\n",
       "      <td>ttl30</td>\n",
       "      <td>-34.4081</td>\n",
       "      <td>150.8790</td>\n",
       "    </tr>\n",
       "  </tbody>\n",
       "</table>\n",
       "</div>"
      ],
      "text/plain": [
       "      ttl  Latitude  Longitude\n",
       "0    ttl6  -31.3183   -64.1625\n",
       "1    ttl7  -34.6037   -58.3816\n",
       "2    ttl8   40.7357   -74.1724\n",
       "3    ttl9   29.7281   -95.4451\n",
       "4   ttl10  -35.2828   149.1283\n",
       "5   ttl11  -37.8159   144.9669\n",
       "6   ttl12  -37.8159   144.9669\n",
       "7   ttl13  -33.8715   151.2006\n",
       "8   ttl14  -34.4272   150.8942\n",
       "9   ttl19  -34.4081   150.8790\n",
       "10  ttl20  -34.4081   150.8790\n",
       "11  ttl21  -34.4081   150.8790\n",
       "12  ttl22  -34.4081   150.8790\n",
       "13  ttl23  -34.4081   150.8790\n",
       "14  ttl24  -34.4081   150.8790\n",
       "15  ttl25  -34.4081   150.8790\n",
       "16  ttl26  -34.4081   150.8790\n",
       "17  ttl27  -34.4081   150.8790\n",
       "18  ttl28  -34.4081   150.8790\n",
       "19  ttl29  -34.4081   150.8790\n",
       "20  ttl30  -34.4081   150.8790"
      ]
     },
     "execution_count": 20,
     "metadata": {},
     "output_type": "execute_result"
    }
   ],
   "source": [
    "import numpy as np\n",
    "import matplotlib.pyplot as plt\n",
    "import requests\n",
    "\n",
    "locations_with_ttl = []\n",
    "\n",
    "for ttl, ip in most_frequent_ip.items():\n",
    "    response = requests.get(\"http://ip-api.com/json/\"+ip).json()\n",
    "    if (response['status'] == 'success'):\n",
    "        locations_with_ttl.append([ttl, response['lat'], response['lon']])\n",
    "\n",
    "df_ubication = pd.DataFrame(locations_with_ttl, columns=[\"ttl\", \"Latitude\", \"Longitude\"])\n",
    "df_ubication"
   ]
  },
  {
   "cell_type": "code",
   "execution_count": 21,
   "metadata": {},
   "outputs": [
    {
     "data": {
      "application/vnd.plotly.v1+json": {
       "config": {
        "plotlyServerURL": "https://plot.ly"
       },
       "data": [
        {
         "geo": "geo",
         "hovertemplate": "<b>%{hovertext}</b><br><br>Latitude=%{lat}<br>Longitude=%{lon}<extra></extra>",
         "hovertext": [
          "ttl6",
          "ttl7",
          "ttl8",
          "ttl9",
          "ttl10",
          "ttl11",
          "ttl12",
          "ttl13",
          "ttl14",
          "ttl19",
          "ttl20",
          "ttl21",
          "ttl22",
          "ttl23",
          "ttl24",
          "ttl25",
          "ttl26",
          "ttl27",
          "ttl28",
          "ttl29",
          "ttl30"
         ],
         "lat": [
          -31.3183,
          -34.6037,
          40.7357,
          29.7281,
          -35.2828,
          -37.8159,
          -37.8159,
          -33.8715,
          -34.4272,
          -34.4081,
          -34.4081,
          -34.4081,
          -34.4081,
          -34.4081,
          -34.4081,
          -34.4081,
          -34.4081,
          -34.4081,
          -34.4081,
          -34.4081,
          -34.4081
         ],
         "legendgroup": "",
         "line": {
          "color": "#636efa",
          "dash": "solid"
         },
         "lon": [
          -64.1625,
          -58.3816,
          -74.1724,
          -95.4451,
          149.1283,
          144.9669,
          144.9669,
          151.2006,
          150.8942,
          150.879,
          150.879,
          150.879,
          150.879,
          150.879,
          150.879,
          150.879,
          150.879,
          150.879,
          150.879,
          150.879,
          150.879
         ],
         "marker": {
          "color": "blue",
          "size": 5,
          "symbol": "circle"
         },
         "mode": "markers+lines",
         "name": "",
         "showlegend": false,
         "type": "scattergeo"
        }
       ],
       "layout": {
        "geo": {
         "center": {},
         "domain": {
          "x": [
           0,
           1
          ],
          "y": [
           0,
           1
          ]
         },
         "fitbounds": "locations",
         "projection": {
          "type": "natural earth"
         },
         "showcountries": true
        },
        "legend": {
         "tracegroupgap": 0
        },
        "margin": {
         "t": 60
        },
        "template": {
         "data": {
          "bar": [
           {
            "error_x": {
             "color": "#2a3f5f"
            },
            "error_y": {
             "color": "#2a3f5f"
            },
            "marker": {
             "line": {
              "color": "#E5ECF6",
              "width": 0.5
             },
             "pattern": {
              "fillmode": "overlay",
              "size": 10,
              "solidity": 0.2
             }
            },
            "type": "bar"
           }
          ],
          "barpolar": [
           {
            "marker": {
             "line": {
              "color": "#E5ECF6",
              "width": 0.5
             },
             "pattern": {
              "fillmode": "overlay",
              "size": 10,
              "solidity": 0.2
             }
            },
            "type": "barpolar"
           }
          ],
          "carpet": [
           {
            "aaxis": {
             "endlinecolor": "#2a3f5f",
             "gridcolor": "white",
             "linecolor": "white",
             "minorgridcolor": "white",
             "startlinecolor": "#2a3f5f"
            },
            "baxis": {
             "endlinecolor": "#2a3f5f",
             "gridcolor": "white",
             "linecolor": "white",
             "minorgridcolor": "white",
             "startlinecolor": "#2a3f5f"
            },
            "type": "carpet"
           }
          ],
          "choropleth": [
           {
            "colorbar": {
             "outlinewidth": 0,
             "ticks": ""
            },
            "type": "choropleth"
           }
          ],
          "contour": [
           {
            "colorbar": {
             "outlinewidth": 0,
             "ticks": ""
            },
            "colorscale": [
             [
              0,
              "#0d0887"
             ],
             [
              0.1111111111111111,
              "#46039f"
             ],
             [
              0.2222222222222222,
              "#7201a8"
             ],
             [
              0.3333333333333333,
              "#9c179e"
             ],
             [
              0.4444444444444444,
              "#bd3786"
             ],
             [
              0.5555555555555556,
              "#d8576b"
             ],
             [
              0.6666666666666666,
              "#ed7953"
             ],
             [
              0.7777777777777778,
              "#fb9f3a"
             ],
             [
              0.8888888888888888,
              "#fdca26"
             ],
             [
              1,
              "#f0f921"
             ]
            ],
            "type": "contour"
           }
          ],
          "contourcarpet": [
           {
            "colorbar": {
             "outlinewidth": 0,
             "ticks": ""
            },
            "type": "contourcarpet"
           }
          ],
          "heatmap": [
           {
            "colorbar": {
             "outlinewidth": 0,
             "ticks": ""
            },
            "colorscale": [
             [
              0,
              "#0d0887"
             ],
             [
              0.1111111111111111,
              "#46039f"
             ],
             [
              0.2222222222222222,
              "#7201a8"
             ],
             [
              0.3333333333333333,
              "#9c179e"
             ],
             [
              0.4444444444444444,
              "#bd3786"
             ],
             [
              0.5555555555555556,
              "#d8576b"
             ],
             [
              0.6666666666666666,
              "#ed7953"
             ],
             [
              0.7777777777777778,
              "#fb9f3a"
             ],
             [
              0.8888888888888888,
              "#fdca26"
             ],
             [
              1,
              "#f0f921"
             ]
            ],
            "type": "heatmap"
           }
          ],
          "heatmapgl": [
           {
            "colorbar": {
             "outlinewidth": 0,
             "ticks": ""
            },
            "colorscale": [
             [
              0,
              "#0d0887"
             ],
             [
              0.1111111111111111,
              "#46039f"
             ],
             [
              0.2222222222222222,
              "#7201a8"
             ],
             [
              0.3333333333333333,
              "#9c179e"
             ],
             [
              0.4444444444444444,
              "#bd3786"
             ],
             [
              0.5555555555555556,
              "#d8576b"
             ],
             [
              0.6666666666666666,
              "#ed7953"
             ],
             [
              0.7777777777777778,
              "#fb9f3a"
             ],
             [
              0.8888888888888888,
              "#fdca26"
             ],
             [
              1,
              "#f0f921"
             ]
            ],
            "type": "heatmapgl"
           }
          ],
          "histogram": [
           {
            "marker": {
             "pattern": {
              "fillmode": "overlay",
              "size": 10,
              "solidity": 0.2
             }
            },
            "type": "histogram"
           }
          ],
          "histogram2d": [
           {
            "colorbar": {
             "outlinewidth": 0,
             "ticks": ""
            },
            "colorscale": [
             [
              0,
              "#0d0887"
             ],
             [
              0.1111111111111111,
              "#46039f"
             ],
             [
              0.2222222222222222,
              "#7201a8"
             ],
             [
              0.3333333333333333,
              "#9c179e"
             ],
             [
              0.4444444444444444,
              "#bd3786"
             ],
             [
              0.5555555555555556,
              "#d8576b"
             ],
             [
              0.6666666666666666,
              "#ed7953"
             ],
             [
              0.7777777777777778,
              "#fb9f3a"
             ],
             [
              0.8888888888888888,
              "#fdca26"
             ],
             [
              1,
              "#f0f921"
             ]
            ],
            "type": "histogram2d"
           }
          ],
          "histogram2dcontour": [
           {
            "colorbar": {
             "outlinewidth": 0,
             "ticks": ""
            },
            "colorscale": [
             [
              0,
              "#0d0887"
             ],
             [
              0.1111111111111111,
              "#46039f"
             ],
             [
              0.2222222222222222,
              "#7201a8"
             ],
             [
              0.3333333333333333,
              "#9c179e"
             ],
             [
              0.4444444444444444,
              "#bd3786"
             ],
             [
              0.5555555555555556,
              "#d8576b"
             ],
             [
              0.6666666666666666,
              "#ed7953"
             ],
             [
              0.7777777777777778,
              "#fb9f3a"
             ],
             [
              0.8888888888888888,
              "#fdca26"
             ],
             [
              1,
              "#f0f921"
             ]
            ],
            "type": "histogram2dcontour"
           }
          ],
          "mesh3d": [
           {
            "colorbar": {
             "outlinewidth": 0,
             "ticks": ""
            },
            "type": "mesh3d"
           }
          ],
          "parcoords": [
           {
            "line": {
             "colorbar": {
              "outlinewidth": 0,
              "ticks": ""
             }
            },
            "type": "parcoords"
           }
          ],
          "pie": [
           {
            "automargin": true,
            "type": "pie"
           }
          ],
          "scatter": [
           {
            "fillpattern": {
             "fillmode": "overlay",
             "size": 10,
             "solidity": 0.2
            },
            "type": "scatter"
           }
          ],
          "scatter3d": [
           {
            "line": {
             "colorbar": {
              "outlinewidth": 0,
              "ticks": ""
             }
            },
            "marker": {
             "colorbar": {
              "outlinewidth": 0,
              "ticks": ""
             }
            },
            "type": "scatter3d"
           }
          ],
          "scattercarpet": [
           {
            "marker": {
             "colorbar": {
              "outlinewidth": 0,
              "ticks": ""
             }
            },
            "type": "scattercarpet"
           }
          ],
          "scattergeo": [
           {
            "marker": {
             "colorbar": {
              "outlinewidth": 0,
              "ticks": ""
             }
            },
            "type": "scattergeo"
           }
          ],
          "scattergl": [
           {
            "marker": {
             "colorbar": {
              "outlinewidth": 0,
              "ticks": ""
             }
            },
            "type": "scattergl"
           }
          ],
          "scattermapbox": [
           {
            "marker": {
             "colorbar": {
              "outlinewidth": 0,
              "ticks": ""
             }
            },
            "type": "scattermapbox"
           }
          ],
          "scatterpolar": [
           {
            "marker": {
             "colorbar": {
              "outlinewidth": 0,
              "ticks": ""
             }
            },
            "type": "scatterpolar"
           }
          ],
          "scatterpolargl": [
           {
            "marker": {
             "colorbar": {
              "outlinewidth": 0,
              "ticks": ""
             }
            },
            "type": "scatterpolargl"
           }
          ],
          "scatterternary": [
           {
            "marker": {
             "colorbar": {
              "outlinewidth": 0,
              "ticks": ""
             }
            },
            "type": "scatterternary"
           }
          ],
          "surface": [
           {
            "colorbar": {
             "outlinewidth": 0,
             "ticks": ""
            },
            "colorscale": [
             [
              0,
              "#0d0887"
             ],
             [
              0.1111111111111111,
              "#46039f"
             ],
             [
              0.2222222222222222,
              "#7201a8"
             ],
             [
              0.3333333333333333,
              "#9c179e"
             ],
             [
              0.4444444444444444,
              "#bd3786"
             ],
             [
              0.5555555555555556,
              "#d8576b"
             ],
             [
              0.6666666666666666,
              "#ed7953"
             ],
             [
              0.7777777777777778,
              "#fb9f3a"
             ],
             [
              0.8888888888888888,
              "#fdca26"
             ],
             [
              1,
              "#f0f921"
             ]
            ],
            "type": "surface"
           }
          ],
          "table": [
           {
            "cells": {
             "fill": {
              "color": "#EBF0F8"
             },
             "line": {
              "color": "white"
             }
            },
            "header": {
             "fill": {
              "color": "#C8D4E3"
             },
             "line": {
              "color": "white"
             }
            },
            "type": "table"
           }
          ]
         },
         "layout": {
          "annotationdefaults": {
           "arrowcolor": "#2a3f5f",
           "arrowhead": 0,
           "arrowwidth": 1
          },
          "autotypenumbers": "strict",
          "coloraxis": {
           "colorbar": {
            "outlinewidth": 0,
            "ticks": ""
           }
          },
          "colorscale": {
           "diverging": [
            [
             0,
             "#8e0152"
            ],
            [
             0.1,
             "#c51b7d"
            ],
            [
             0.2,
             "#de77ae"
            ],
            [
             0.3,
             "#f1b6da"
            ],
            [
             0.4,
             "#fde0ef"
            ],
            [
             0.5,
             "#f7f7f7"
            ],
            [
             0.6,
             "#e6f5d0"
            ],
            [
             0.7,
             "#b8e186"
            ],
            [
             0.8,
             "#7fbc41"
            ],
            [
             0.9,
             "#4d9221"
            ],
            [
             1,
             "#276419"
            ]
           ],
           "sequential": [
            [
             0,
             "#0d0887"
            ],
            [
             0.1111111111111111,
             "#46039f"
            ],
            [
             0.2222222222222222,
             "#7201a8"
            ],
            [
             0.3333333333333333,
             "#9c179e"
            ],
            [
             0.4444444444444444,
             "#bd3786"
            ],
            [
             0.5555555555555556,
             "#d8576b"
            ],
            [
             0.6666666666666666,
             "#ed7953"
            ],
            [
             0.7777777777777778,
             "#fb9f3a"
            ],
            [
             0.8888888888888888,
             "#fdca26"
            ],
            [
             1,
             "#f0f921"
            ]
           ],
           "sequentialminus": [
            [
             0,
             "#0d0887"
            ],
            [
             0.1111111111111111,
             "#46039f"
            ],
            [
             0.2222222222222222,
             "#7201a8"
            ],
            [
             0.3333333333333333,
             "#9c179e"
            ],
            [
             0.4444444444444444,
             "#bd3786"
            ],
            [
             0.5555555555555556,
             "#d8576b"
            ],
            [
             0.6666666666666666,
             "#ed7953"
            ],
            [
             0.7777777777777778,
             "#fb9f3a"
            ],
            [
             0.8888888888888888,
             "#fdca26"
            ],
            [
             1,
             "#f0f921"
            ]
           ]
          },
          "colorway": [
           "#636efa",
           "#EF553B",
           "#00cc96",
           "#ab63fa",
           "#FFA15A",
           "#19d3f3",
           "#FF6692",
           "#B6E880",
           "#FF97FF",
           "#FECB52"
          ],
          "font": {
           "color": "#2a3f5f"
          },
          "geo": {
           "bgcolor": "white",
           "lakecolor": "white",
           "landcolor": "#E5ECF6",
           "showlakes": true,
           "showland": true,
           "subunitcolor": "white"
          },
          "hoverlabel": {
           "align": "left"
          },
          "hovermode": "closest",
          "mapbox": {
           "style": "light"
          },
          "paper_bgcolor": "white",
          "plot_bgcolor": "#E5ECF6",
          "polar": {
           "angularaxis": {
            "gridcolor": "white",
            "linecolor": "white",
            "ticks": ""
           },
           "bgcolor": "#E5ECF6",
           "radialaxis": {
            "gridcolor": "white",
            "linecolor": "white",
            "ticks": ""
           }
          },
          "scene": {
           "xaxis": {
            "backgroundcolor": "#E5ECF6",
            "gridcolor": "white",
            "gridwidth": 2,
            "linecolor": "white",
            "showbackground": true,
            "ticks": "",
            "zerolinecolor": "white"
           },
           "yaxis": {
            "backgroundcolor": "#E5ECF6",
            "gridcolor": "white",
            "gridwidth": 2,
            "linecolor": "white",
            "showbackground": true,
            "ticks": "",
            "zerolinecolor": "white"
           },
           "zaxis": {
            "backgroundcolor": "#E5ECF6",
            "gridcolor": "white",
            "gridwidth": 2,
            "linecolor": "white",
            "showbackground": true,
            "ticks": "",
            "zerolinecolor": "white"
           }
          },
          "shapedefaults": {
           "line": {
            "color": "#2a3f5f"
           }
          },
          "ternary": {
           "aaxis": {
            "gridcolor": "white",
            "linecolor": "white",
            "ticks": ""
           },
           "baxis": {
            "gridcolor": "white",
            "linecolor": "white",
            "ticks": ""
           },
           "bgcolor": "#E5ECF6",
           "caxis": {
            "gridcolor": "white",
            "linecolor": "white",
            "ticks": ""
           }
          },
          "title": {
           "x": 0.05
          },
          "xaxis": {
           "automargin": true,
           "gridcolor": "white",
           "linecolor": "white",
           "ticks": "",
           "title": {
            "standoff": 15
           },
           "zerolinecolor": "white",
           "zerolinewidth": 2
          },
          "yaxis": {
           "automargin": true,
           "gridcolor": "white",
           "linecolor": "white",
           "ticks": "",
           "title": {
            "standoff": 15
           },
           "zerolinecolor": "white",
           "zerolinewidth": 2
          }
         }
        }
       }
      }
     },
     "metadata": {},
     "output_type": "display_data"
    }
   ],
   "source": [
    "import plotly.express as px\n",
    "\n",
    "fig = px.line_geo(df_ubication, \n",
    "                     # longitude is taken from the df[\"lon\"] columns and latitude from df[\"lat\"]\n",
    "                     lon=\"Longitude\", \n",
    "                     lat=\"Latitude\", \n",
    "                     # choose the map chart's projection\n",
    "                     projection=\"natural earth\",\n",
    "                     markers=True,\n",
    "                     hover_name = \"ttl\",\n",
    "                     )\n",
    "fig.update_traces(marker=dict(size=5, color=\"blue\"))\n",
    "fig.update_geos(fitbounds=\"locations\", showcountries = True)"
   ]
  },
  {
   "cell_type": "code",
   "execution_count": null,
   "metadata": {},
   "outputs": [],
   "source": []
  },
  {
   "cell_type": "markdown",
   "metadata": {},
   "source": [
    "### Punto Opcional"
   ]
  },
  {
   "cell_type": "code",
   "execution_count": 22,
   "metadata": {},
   "outputs": [
    {
     "name": "stdout",
     "output_type": "stream",
     "text": [
      "     ttls               ip  tiempo restado  tiempo neto    varianza  outlier\n",
      "0    ttl1      192.168.0.1       61.122445    61.122445  212.366432    False\n",
      "1    ttl6   181.96.103.168       13.993235    75.115681    0.000000    False\n",
      "2    ttl7    195.22.220.56        9.516847    70.639292   90.199850    False\n",
      "3    ttl8    89.221.35.145      126.550357   197.189649   72.221350    False\n",
      "4    ttl9   198.32.176.177        3.298092   200.487741   74.330771    False\n",
      "5   ttl10  202.158.194.176      156.204391   356.692131   61.630631    False\n",
      "6   ttl11   113.197.15.146        3.842251   360.534382  142.564491    False\n",
      "7   ttl12    113.197.15.12        1.627541   358.319672  132.783048    False\n",
      "8   ttl13     138.44.5.111        4.744522   363.064194  109.010086    False\n",
      "9   ttl14     203.10.91.69        1.098262   357.790393  122.331140    False\n",
      "10  ttl19     130.130.39.1        1.701090   359.491483  121.597093    False\n",
      "11  ttl20     130.130.39.1      155.530906   356.018647  123.740369    False\n",
      "12  ttl21     130.130.39.1        0.824769   356.843416   67.991562    False\n",
      "13  ttl22     130.130.39.1      155.339042   355.826783  111.874670    False\n",
      "14  ttl23     130.130.39.1      153.941584   354.429324  149.623230    False\n",
      "15  ttl24     130.130.39.1      153.651841   354.139582   94.760572    False\n",
      "16  ttl25     130.130.39.1        0.769162   354.908744  114.310624    False\n",
      "17  ttl26     130.130.39.1        1.052682   355.961426  177.081887    False\n",
      "18  ttl27     130.130.39.1        0.548267   356.509693  124.841146    False\n",
      "19  ttl28     130.130.39.1        0.038075   354.946820   55.105006    False\n",
      "20  ttl29     130.130.39.1        1.690420   356.637239   97.790918    False\n",
      "21  ttl30     130.130.39.1        0.114616   355.061436   67.808327    False\n"
     ]
    }
   ],
   "source": [
    "import scipy.stats\n",
    "\n",
    "def get_thompson_for_n(n):\n",
    "    alpha = 0.05\n",
    "    qt = scipy.stats.t.ppf(q = 1 - alpha/2, df = n-2)\n",
    "    thompson = (qt * (n - 1)) / (np.sqrt(n) * np.sqrt(n - 2 + qt**2))\n",
    "    return thompson\n",
    "\n",
    "def find_outliers(df):\n",
    "    df = df.copy()\n",
    "    df[\"outlier\"] = False\n",
    "    df[\"rtt_deviations\"] = 0\n",
    "    \n",
    "    while len(df[df[\"outlier\"] == False]) != 0:\n",
    "        df_without_outliers = df[df[\"outlier\"] == False]\n",
    "        rtts = df_without_outliers[\"tiempo restado\"]\n",
    "        df_without_outliers[\"rtt_deviations\"] = abs(rtts - rtts.mean())\n",
    "        std = rtts.std()\n",
    "        thompson = get_thompson_for_n(len(df_without_outliers))\n",
    "        if max(df_without_outliers[\"rtt_deviations\"]) > thompson * std:\n",
    "            ttl_outlier = df_without_outliers.loc[df_without_outliers[\"rtt_deviations\"].idxmax()][\"ttls\"]\n",
    "            #df.at[df.loc[df[\"ttls\"] == ttl_outlier].index[0], \"outlier\"] = True\n",
    "            df.loc[df[\"ttls\"] == str(ttl_outlier), \"outlier\"] = True\n",
    "        else:\n",
    "            break\n",
    "    \n",
    "    df.drop(\"rtt_deviations\", axis=1, inplace=True)\n",
    "    return df\n",
    "\n",
    "df_with_outliers = find_outliers(df_time)\n",
    "print(df_with_outliers)"
   ]
  },
  {
   "cell_type": "code",
   "execution_count": 23,
   "metadata": {},
   "outputs": [
    {
     "data": {
      "image/png": "[encoded data removed]",
      "text/plain": [
       "<Figure size 432x288 with 1 Axes>"
      ]
     },
     "metadata": {
      "needs_background": "light"
     },
     "output_type": "display_data"
    }
   ],
   "source": [
    "ax = sns.barplot(\n",
    "    x= df_with_outliers['tiempo restado'], \n",
    "    y= df_with_outliers['ttls'],\n",
    "    estimator=sum,\n",
    "    ci=None,\n",
    "    orient = 'h',\n",
    "    hue=df_with_outliers['outlier']\n",
    ")\n",
    "fig = ax.get_figure()"
   ]
  },
  {
   "cell_type": "code",
   "execution_count": 24,
   "metadata": {},
   "outputs": [
    {
     "data": {
      "text/html": [
       "<div>\n",
       "<style scoped>\n",
       "    .dataframe tbody tr th:only-of-type {\n",
       "        vertical-align: middle;\n",
       "    }\n",
       "\n",
       "    .dataframe tbody tr th {\n",
       "        vertical-align: top;\n",
       "    }\n",
       "\n",
       "    .dataframe thead th {\n",
       "        text-align: right;\n",
       "    }\n",
       "</style>\n",
       "<table border=\"1\" class=\"dataframe\">\n",
       "  <thead>\n",
       "    <tr style=\"text-align: right;\">\n",
       "      <th></th>\n",
       "      <th>ttl</th>\n",
       "      <th>Latitude</th>\n",
       "      <th>Longitude</th>\n",
       "      <th>ttls</th>\n",
       "      <th>outlier</th>\n",
       "    </tr>\n",
       "  </thead>\n",
       "  <tbody>\n",
       "    <tr>\n",
       "      <th>0</th>\n",
       "      <td>ttl6</td>\n",
       "      <td>-31.3183</td>\n",
       "      <td>-64.1625</td>\n",
       "      <td>ttl6</td>\n",
       "      <td>False</td>\n",
       "    </tr>\n",
       "    <tr>\n",
       "      <th>1</th>\n",
       "      <td>ttl7</td>\n",
       "      <td>-34.6037</td>\n",
       "      <td>-58.3816</td>\n",
       "      <td>ttl7</td>\n",
       "      <td>False</td>\n",
       "    </tr>\n",
       "    <tr>\n",
       "      <th>2</th>\n",
       "      <td>ttl8</td>\n",
       "      <td>40.7357</td>\n",
       "      <td>-74.1724</td>\n",
       "      <td>ttl8</td>\n",
       "      <td>False</td>\n",
       "    </tr>\n",
       "    <tr>\n",
       "      <th>3</th>\n",
       "      <td>ttl9</td>\n",
       "      <td>29.7281</td>\n",
       "      <td>-95.4451</td>\n",
       "      <td>ttl9</td>\n",
       "      <td>False</td>\n",
       "    </tr>\n",
       "    <tr>\n",
       "      <th>4</th>\n",
       "      <td>ttl10</td>\n",
       "      <td>-35.2828</td>\n",
       "      <td>149.1283</td>\n",
       "      <td>ttl10</td>\n",
       "      <td>False</td>\n",
       "    </tr>\n",
       "    <tr>\n",
       "      <th>5</th>\n",
       "      <td>ttl11</td>\n",
       "      <td>-37.8159</td>\n",
       "      <td>144.9669</td>\n",
       "      <td>ttl11</td>\n",
       "      <td>False</td>\n",
       "    </tr>\n",
       "    <tr>\n",
       "      <th>6</th>\n",
       "      <td>ttl12</td>\n",
       "      <td>-37.8159</td>\n",
       "      <td>144.9669</td>\n",
       "      <td>ttl12</td>\n",
       "      <td>False</td>\n",
       "    </tr>\n",
       "    <tr>\n",
       "      <th>7</th>\n",
       "      <td>ttl13</td>\n",
       "      <td>-33.8715</td>\n",
       "      <td>151.2006</td>\n",
       "      <td>ttl13</td>\n",
       "      <td>False</td>\n",
       "    </tr>\n",
       "    <tr>\n",
       "      <th>8</th>\n",
       "      <td>ttl14</td>\n",
       "      <td>-34.4272</td>\n",
       "      <td>150.8942</td>\n",
       "      <td>ttl14</td>\n",
       "      <td>False</td>\n",
       "    </tr>\n",
       "    <tr>\n",
       "      <th>9</th>\n",
       "      <td>ttl19</td>\n",
       "      <td>-34.4081</td>\n",
       "      <td>150.8790</td>\n",
       "      <td>ttl19</td>\n",
       "      <td>False</td>\n",
       "    </tr>\n",
       "    <tr>\n",
       "      <th>10</th>\n",
       "      <td>ttl20</td>\n",
       "      <td>-34.4081</td>\n",
       "      <td>150.8790</td>\n",
       "      <td>ttl20</td>\n",
       "      <td>False</td>\n",
       "    </tr>\n",
       "    <tr>\n",
       "      <th>11</th>\n",
       "      <td>ttl21</td>\n",
       "      <td>-34.4081</td>\n",
       "      <td>150.8790</td>\n",
       "      <td>ttl21</td>\n",
       "      <td>False</td>\n",
       "    </tr>\n",
       "    <tr>\n",
       "      <th>12</th>\n",
       "      <td>ttl22</td>\n",
       "      <td>-34.4081</td>\n",
       "      <td>150.8790</td>\n",
       "      <td>ttl22</td>\n",
       "      <td>False</td>\n",
       "    </tr>\n",
       "    <tr>\n",
       "      <th>13</th>\n",
       "      <td>ttl23</td>\n",
       "      <td>-34.4081</td>\n",
       "      <td>150.8790</td>\n",
       "      <td>ttl23</td>\n",
       "      <td>False</td>\n",
       "    </tr>\n",
       "    <tr>\n",
       "      <th>14</th>\n",
       "      <td>ttl24</td>\n",
       "      <td>-34.4081</td>\n",
       "      <td>150.8790</td>\n",
       "      <td>ttl24</td>\n",
       "      <td>False</td>\n",
       "    </tr>\n",
       "    <tr>\n",
       "      <th>15</th>\n",
       "      <td>ttl25</td>\n",
       "      <td>-34.4081</td>\n",
       "      <td>150.8790</td>\n",
       "      <td>ttl25</td>\n",
       "      <td>False</td>\n",
       "    </tr>\n",
       "    <tr>\n",
       "      <th>16</th>\n",
       "      <td>ttl26</td>\n",
       "      <td>-34.4081</td>\n",
       "      <td>150.8790</td>\n",
       "      <td>ttl26</td>\n",
       "      <td>False</td>\n",
       "    </tr>\n",
       "    <tr>\n",
       "      <th>17</th>\n",
       "      <td>ttl27</td>\n",
       "      <td>-34.4081</td>\n",
       "      <td>150.8790</td>\n",
       "      <td>ttl27</td>\n",
       "      <td>False</td>\n",
       "    </tr>\n",
       "    <tr>\n",
       "      <th>18</th>\n",
       "      <td>ttl28</td>\n",
       "      <td>-34.4081</td>\n",
       "      <td>150.8790</td>\n",
       "      <td>ttl28</td>\n",
       "      <td>False</td>\n",
       "    </tr>\n",
       "    <tr>\n",
       "      <th>19</th>\n",
       "      <td>ttl29</td>\n",
       "      <td>-34.4081</td>\n",
       "      <td>150.8790</td>\n",
       "      <td>ttl29</td>\n",
       "      <td>False</td>\n",
       "    </tr>\n",
       "    <tr>\n",
       "      <th>20</th>\n",
       "      <td>ttl30</td>\n",
       "      <td>-34.4081</td>\n",
       "      <td>150.8790</td>\n",
       "      <td>ttl30</td>\n",
       "      <td>False</td>\n",
       "    </tr>\n",
       "  </tbody>\n",
       "</table>\n",
       "</div>"
      ],
      "text/plain": [
       "      ttl  Latitude  Longitude   ttls  outlier\n",
       "0    ttl6  -31.3183   -64.1625   ttl6    False\n",
       "1    ttl7  -34.6037   -58.3816   ttl7    False\n",
       "2    ttl8   40.7357   -74.1724   ttl8    False\n",
       "3    ttl9   29.7281   -95.4451   ttl9    False\n",
       "4   ttl10  -35.2828   149.1283  ttl10    False\n",
       "5   ttl11  -37.8159   144.9669  ttl11    False\n",
       "6   ttl12  -37.8159   144.9669  ttl12    False\n",
       "7   ttl13  -33.8715   151.2006  ttl13    False\n",
       "8   ttl14  -34.4272   150.8942  ttl14    False\n",
       "9   ttl19  -34.4081   150.8790  ttl19    False\n",
       "10  ttl20  -34.4081   150.8790  ttl20    False\n",
       "11  ttl21  -34.4081   150.8790  ttl21    False\n",
       "12  ttl22  -34.4081   150.8790  ttl22    False\n",
       "13  ttl23  -34.4081   150.8790  ttl23    False\n",
       "14  ttl24  -34.4081   150.8790  ttl24    False\n",
       "15  ttl25  -34.4081   150.8790  ttl25    False\n",
       "16  ttl26  -34.4081   150.8790  ttl26    False\n",
       "17  ttl27  -34.4081   150.8790  ttl27    False\n",
       "18  ttl28  -34.4081   150.8790  ttl28    False\n",
       "19  ttl29  -34.4081   150.8790  ttl29    False\n",
       "20  ttl30  -34.4081   150.8790  ttl30    False"
      ]
     },
     "execution_count": 24,
     "metadata": {},
     "output_type": "execute_result"
    }
   ],
   "source": [
    "df_ubication_with_outlier = df_ubication.merge(df_with_outliers[[\"ttls\", \"outlier\"]], left_on=\"ttl\", right_on=\"ttls\")\n",
    "df_ubication_with_outlier"
   ]
  },
  {
   "cell_type": "code",
   "execution_count": 25,
   "metadata": {},
   "outputs": [],
   "source": [
    "df_ubication_with_outlier[\"color\"] = \"blue\"\n",
    "df_ubication_with_outlier[\"markersize\"] = 7\n",
    "df_ubication_with_outlier[\"markersymbol\"] = \"circle\"\n",
    "def format_outliers(row):\n",
    "    if row[\"outlier\"]:\n",
    "        row[\"color\"] = \"red\"\n",
    "        row[\"markersize\"] = 10\n",
    "        row[\"markersymbol\"] = \"diamond\"\n",
    "    return row\n",
    "df_ubication_with_outlier = df_ubication_with_outlier.apply(format_outliers, axis=1)"
   ]
  },
  {
   "cell_type": "code",
   "execution_count": 26,
   "metadata": {},
   "outputs": [
    {
     "data": {
      "application/vnd.plotly.v1+json": {
       "config": {
        "plotlyServerURL": "https://plot.ly"
       },
       "data": [
        {
         "geo": "geo",
         "hovertemplate": "<b>%{hovertext}</b><br><br>Latitude=%{lat}<br>Longitude=%{lon}<extra></extra>",
         "hovertext": [
          "ttl6",
          "ttl7",
          "ttl8",
          "ttl9",
          "ttl10",
          "ttl11",
          "ttl12",
          "ttl13",
          "ttl14",
          "ttl19",
          "ttl20",
          "ttl21",
          "ttl22",
          "ttl23",
          "ttl24",
          "ttl25",
          "ttl26",
          "ttl27",
          "ttl28",
          "ttl29",
          "ttl30"
         ],
         "lat": [
          -31.3183,
          -34.6037,
          40.7357,
          29.7281,
          -35.2828,
          -37.8159,
          -37.8159,
          -33.8715,
          -34.4272,
          -34.4081,
          -34.4081,
          -34.4081,
          -34.4081,
          -34.4081,
          -34.4081,
          -34.4081,
          -34.4081,
          -34.4081,
          -34.4081,
          -34.4081,
          -34.4081
         ],
         "legendgroup": "",
         "line": {
          "color": "#636efa",
          "dash": "solid"
         },
         "lon": [
          -64.1625,
          -58.3816,
          -74.1724,
          -95.4451,
          149.1283,
          144.9669,
          144.9669,
          151.2006,
          150.8942,
          150.879,
          150.879,
          150.879,
          150.879,
          150.879,
          150.879,
          150.879,
          150.879,
          150.879,
          150.879,
          150.879,
          150.879
         ],
         "marker": {
          "color": [
           "blue",
           "blue",
           "blue",
           "blue",
           "blue",
           "blue",
           "blue",
           "blue",
           "blue",
           "blue",
           "blue",
           "blue",
           "blue",
           "blue",
           "blue",
           "blue",
           "blue",
           "blue",
           "blue",
           "blue",
           "blue"
          ],
          "size": [
           7,
           7,
           7,
           7,
           7,
           7,
           7,
           7,
           7,
           7,
           7,
           7,
           7,
           7,
           7,
           7,
           7,
           7,
           7,
           7,
           7
          ],
          "symbol": [
           "circle",
           "circle",
           "circle",
           "circle",
           "circle",
           "circle",
           "circle",
           "circle",
           "circle",
           "circle",
           "circle",
           "circle",
           "circle",
           "circle",
           "circle",
           "circle",
           "circle",
           "circle",
           "circle",
           "circle",
           "circle"
          ]
         },
         "mode": "markers+lines",
         "name": "",
         "showlegend": false,
         "type": "scattergeo"
        }
       ],
       "layout": {
        "geo": {
         "center": {},
         "domain": {
          "x": [
           0,
           1
          ],
          "y": [
           0,
           1
          ]
         },
         "fitbounds": "locations",
         "projection": {
          "type": "natural earth"
         },
         "showcountries": true
        },
        "legend": {
         "tracegroupgap": 0
        },
        "margin": {
         "t": 60
        },
        "template": {
         "data": {
          "bar": [
           {
            "error_x": {
             "color": "#2a3f5f"
            },
            "error_y": {
             "color": "#2a3f5f"
            },
            "marker": {
             "line": {
              "color": "#E5ECF6",
              "width": 0.5
             },
             "pattern": {
              "fillmode": "overlay",
              "size": 10,
              "solidity": 0.2
             }
            },
            "type": "bar"
           }
          ],
          "barpolar": [
           {
            "marker": {
             "line": {
              "color": "#E5ECF6",
              "width": 0.5
             },
             "pattern": {
              "fillmode": "overlay",
              "size": 10,
              "solidity": 0.2
             }
            },
            "type": "barpolar"
           }
          ],
          "carpet": [
           {
            "aaxis": {
             "endlinecolor": "#2a3f5f",
             "gridcolor": "white",
             "linecolor": "white",
             "minorgridcolor": "white",
             "startlinecolor": "#2a3f5f"
            },
            "baxis": {
             "endlinecolor": "#2a3f5f",
             "gridcolor": "white",
             "linecolor": "white",
             "minorgridcolor": "white",
             "startlinecolor": "#2a3f5f"
            },
            "type": "carpet"
           }
          ],
          "choropleth": [
           {
            "colorbar": {
             "outlinewidth": 0,
             "ticks": ""
            },
            "type": "choropleth"
           }
          ],
          "contour": [
           {
            "colorbar": {
             "outlinewidth": 0,
             "ticks": ""
            },
            "colorscale": [
             [
              0,
              "#0d0887"
             ],
             [
              0.1111111111111111,
              "#46039f"
             ],
             [
              0.2222222222222222,
              "#7201a8"
             ],
             [
              0.3333333333333333,
              "#9c179e"
             ],
             [
              0.4444444444444444,
              "#bd3786"
             ],
             [
              0.5555555555555556,
              "#d8576b"
             ],
             [
              0.6666666666666666,
              "#ed7953"
             ],
             [
              0.7777777777777778,
              "#fb9f3a"
             ],
             [
              0.8888888888888888,
              "#fdca26"
             ],
             [
              1,
              "#f0f921"
             ]
            ],
            "type": "contour"
           }
          ],
          "contourcarpet": [
           {
            "colorbar": {
             "outlinewidth": 0,
             "ticks": ""
            },
            "type": "contourcarpet"
           }
          ],
          "heatmap": [
           {
            "colorbar": {
             "outlinewidth": 0,
             "ticks": ""
            },
            "colorscale": [
             [
              0,
              "#0d0887"
             ],
             [
              0.1111111111111111,
              "#46039f"
             ],
             [
              0.2222222222222222,
              "#7201a8"
             ],
             [
              0.3333333333333333,
              "#9c179e"
             ],
             [
              0.4444444444444444,
              "#bd3786"
             ],
             [
              0.5555555555555556,
              "#d8576b"
             ],
             [
              0.6666666666666666,
              "#ed7953"
             ],
             [
              0.7777777777777778,
              "#fb9f3a"
             ],
             [
              0.8888888888888888,
              "#fdca26"
             ],
             [
              1,
              "#f0f921"
             ]
            ],
            "type": "heatmap"
           }
          ],
          "heatmapgl": [
           {
            "colorbar": {
             "outlinewidth": 0,
             "ticks": ""
            },
            "colorscale": [
             [
              0,
              "#0d0887"
             ],
             [
              0.1111111111111111,
              "#46039f"
             ],
             [
              0.2222222222222222,
              "#7201a8"
             ],
             [
              0.3333333333333333,
              "#9c179e"
             ],
             [
              0.4444444444444444,
              "#bd3786"
             ],
             [
              0.5555555555555556,
              "#d8576b"
             ],
             [
              0.6666666666666666,
              "#ed7953"
             ],
             [
              0.7777777777777778,
              "#fb9f3a"
             ],
             [
              0.8888888888888888,
              "#fdca26"
             ],
             [
              1,
              "#f0f921"
             ]
            ],
            "type": "heatmapgl"
           }
          ],
          "histogram": [
           {
            "marker": {
             "pattern": {
              "fillmode": "overlay",
              "size": 10,
              "solidity": 0.2
             }
            },
            "type": "histogram"
           }
          ],
          "histogram2d": [
           {
            "colorbar": {
             "outlinewidth": 0,
             "ticks": ""
            },
            "colorscale": [
             [
              0,
              "#0d0887"
             ],
             [
              0.1111111111111111,
              "#46039f"
             ],
             [
              0.2222222222222222,
              "#7201a8"
             ],
             [
              0.3333333333333333,
              "#9c179e"
             ],
             [
              0.4444444444444444,
              "#bd3786"
             ],
             [
              0.5555555555555556,
              "#d8576b"
             ],
             [
              0.6666666666666666,
              "#ed7953"
             ],
             [
              0.7777777777777778,
              "#fb9f3a"
             ],
             [
              0.8888888888888888,
              "#fdca26"
             ],
             [
              1,
              "#f0f921"
             ]
            ],
            "type": "histogram2d"
           }
          ],
          "histogram2dcontour": [
           {
            "colorbar": {
             "outlinewidth": 0,
             "ticks": ""
            },
            "colorscale": [
             [
              0,
              "#0d0887"
             ],
             [
              0.1111111111111111,
              "#46039f"
             ],
             [
              0.2222222222222222,
              "#7201a8"
             ],
             [
              0.3333333333333333,
              "#9c179e"
             ],
             [
              0.4444444444444444,
              "#bd3786"
             ],
             [
              0.5555555555555556,
              "#d8576b"
             ],
             [
              0.6666666666666666,
              "#ed7953"
             ],
             [
              0.7777777777777778,
              "#fb9f3a"
             ],
             [
              0.8888888888888888,
              "#fdca26"
             ],
             [
              1,
              "#f0f921"
             ]
            ],
            "type": "histogram2dcontour"
           }
          ],
          "mesh3d": [
           {
            "colorbar": {
             "outlinewidth": 0,
             "ticks": ""
            },
            "type": "mesh3d"
           }
          ],
          "parcoords": [
           {
            "line": {
             "colorbar": {
              "outlinewidth": 0,
              "ticks": ""
             }
            },
            "type": "parcoords"
           }
          ],
          "pie": [
           {
            "automargin": true,
            "type": "pie"
           }
          ],
          "scatter": [
           {
            "fillpattern": {
             "fillmode": "overlay",
             "size": 10,
             "solidity": 0.2
            },
            "type": "scatter"
           }
          ],
          "scatter3d": [
           {
            "line": {
             "colorbar": {
              "outlinewidth": 0,
              "ticks": ""
             }
            },
            "marker": {
             "colorbar": {
              "outlinewidth": 0,
              "ticks": ""
             }
            },
            "type": "scatter3d"
           }
          ],
          "scattercarpet": [
           {
            "marker": {
             "colorbar": {
              "outlinewidth": 0,
              "ticks": ""
             }
            },
            "type": "scattercarpet"
           }
          ],
          "scattergeo": [
           {
            "marker": {
             "colorbar": {
              "outlinewidth": 0,
              "ticks": ""
             }
            },
            "type": "scattergeo"
           }
          ],
          "scattergl": [
           {
            "marker": {
             "colorbar": {
              "outlinewidth": 0,
              "ticks": ""
             }
            },
            "type": "scattergl"
           }
          ],
          "scattermapbox": [
           {
            "marker": {
             "colorbar": {
              "outlinewidth": 0,
              "ticks": ""
             }
            },
            "type": "scattermapbox"
           }
          ],
          "scatterpolar": [
           {
            "marker": {
             "colorbar": {
              "outlinewidth": 0,
              "ticks": ""
             }
            },
            "type": "scatterpolar"
           }
          ],
          "scatterpolargl": [
           {
            "marker": {
             "colorbar": {
              "outlinewidth": 0,
              "ticks": ""
             }
            },
            "type": "scatterpolargl"
           }
          ],
          "scatterternary": [
           {
            "marker": {
             "colorbar": {
              "outlinewidth": 0,
              "ticks": ""
             }
            },
            "type": "scatterternary"
           }
          ],
          "surface": [
           {
            "colorbar": {
             "outlinewidth": 0,
             "ticks": ""
            },
            "colorscale": [
             [
              0,
              "#0d0887"
             ],
             [
              0.1111111111111111,
              "#46039f"
             ],
             [
              0.2222222222222222,
              "#7201a8"
             ],
             [
              0.3333333333333333,
              "#9c179e"
             ],
             [
              0.4444444444444444,
              "#bd3786"
             ],
             [
              0.5555555555555556,
              "#d8576b"
             ],
             [
              0.6666666666666666,
              "#ed7953"
             ],
             [
              0.7777777777777778,
              "#fb9f3a"
             ],
             [
              0.8888888888888888,
              "#fdca26"
             ],
             [
              1,
              "#f0f921"
             ]
            ],
            "type": "surface"
           }
          ],
          "table": [
           {
            "cells": {
             "fill": {
              "color": "#EBF0F8"
             },
             "line": {
              "color": "white"
             }
            },
            "header": {
             "fill": {
              "color": "#C8D4E3"
             },
             "line": {
              "color": "white"
             }
            },
            "type": "table"
           }
          ]
         },
         "layout": {
          "annotationdefaults": {
           "arrowcolor": "#2a3f5f",
           "arrowhead": 0,
           "arrowwidth": 1
          },
          "autotypenumbers": "strict",
          "coloraxis": {
           "colorbar": {
            "outlinewidth": 0,
            "ticks": ""
           }
          },
          "colorscale": {
           "diverging": [
            [
             0,
             "#8e0152"
            ],
            [
             0.1,
             "#c51b7d"
            ],
            [
             0.2,
             "#de77ae"
            ],
            [
             0.3,
             "#f1b6da"
            ],
            [
             0.4,
             "#fde0ef"
            ],
            [
             0.5,
             "#f7f7f7"
            ],
            [
             0.6,
             "#e6f5d0"
            ],
            [
             0.7,
             "#b8e186"
            ],
            [
             0.8,
             "#7fbc41"
            ],
            [
             0.9,
             "#4d9221"
            ],
            [
             1,
             "#276419"
            ]
           ],
           "sequential": [
            [
             0,
             "#0d0887"
            ],
            [
             0.1111111111111111,
             "#46039f"
            ],
            [
             0.2222222222222222,
             "#7201a8"
            ],
            [
             0.3333333333333333,
             "#9c179e"
            ],
            [
             0.4444444444444444,
             "#bd3786"
            ],
            [
             0.5555555555555556,
             "#d8576b"
            ],
            [
             0.6666666666666666,
             "#ed7953"
            ],
            [
             0.7777777777777778,
             "#fb9f3a"
            ],
            [
             0.8888888888888888,
             "#fdca26"
            ],
            [
             1,
             "#f0f921"
            ]
           ],
           "sequentialminus": [
            [
             0,
             "#0d0887"
            ],
            [
             0.1111111111111111,
             "#46039f"
            ],
            [
             0.2222222222222222,
             "#7201a8"
            ],
            [
             0.3333333333333333,
             "#9c179e"
            ],
            [
             0.4444444444444444,
             "#bd3786"
            ],
            [
             0.5555555555555556,
             "#d8576b"
            ],
            [
             0.6666666666666666,
             "#ed7953"
            ],
            [
             0.7777777777777778,
             "#fb9f3a"
            ],
            [
             0.8888888888888888,
             "#fdca26"
            ],
            [
             1,
             "#f0f921"
            ]
           ]
          },
          "colorway": [
           "#636efa",
           "#EF553B",
           "#00cc96",
           "#ab63fa",
           "#FFA15A",
           "#19d3f3",
           "#FF6692",
           "#B6E880",
           "#FF97FF",
           "#FECB52"
          ],
          "font": {
           "color": "#2a3f5f"
          },
          "geo": {
           "bgcolor": "white",
           "lakecolor": "white",
           "landcolor": "#E5ECF6",
           "showlakes": true,
           "showland": true,
           "subunitcolor": "white"
          },
          "hoverlabel": {
           "align": "left"
          },
          "hovermode": "closest",
          "mapbox": {
           "style": "light"
          },
          "paper_bgcolor": "white",
          "plot_bgcolor": "#E5ECF6",
          "polar": {
           "angularaxis": {
            "gridcolor": "white",
            "linecolor": "white",
            "ticks": ""
           },
           "bgcolor": "#E5ECF6",
           "radialaxis": {
            "gridcolor": "white",
            "linecolor": "white",
            "ticks": ""
           }
          },
          "scene": {
           "xaxis": {
            "backgroundcolor": "#E5ECF6",
            "gridcolor": "white",
            "gridwidth": 2,
            "linecolor": "white",
            "showbackground": true,
            "ticks": "",
            "zerolinecolor": "white"
           },
           "yaxis": {
            "backgroundcolor": "#E5ECF6",
            "gridcolor": "white",
            "gridwidth": 2,
            "linecolor": "white",
            "showbackground": true,
            "ticks": "",
            "zerolinecolor": "white"
           },
           "zaxis": {
            "backgroundcolor": "#E5ECF6",
            "gridcolor": "white",
            "gridwidth": 2,
            "linecolor": "white",
            "showbackground": true,
            "ticks": "",
            "zerolinecolor": "white"
           }
          },
          "shapedefaults": {
           "line": {
            "color": "#2a3f5f"
           }
          },
          "ternary": {
           "aaxis": {
            "gridcolor": "white",
            "linecolor": "white",
            "ticks": ""
           },
           "baxis": {
            "gridcolor": "white",
            "linecolor": "white",
            "ticks": ""
           },
           "bgcolor": "#E5ECF6",
           "caxis": {
            "gridcolor": "white",
            "linecolor": "white",
            "ticks": ""
           }
          },
          "title": {
           "x": 0.05
          },
          "xaxis": {
           "automargin": true,
           "gridcolor": "white",
           "linecolor": "white",
           "ticks": "",
           "title": {
            "standoff": 15
           },
           "zerolinecolor": "white",
           "zerolinewidth": 2
          },
          "yaxis": {
           "automargin": true,
           "gridcolor": "white",
           "linecolor": "white",
           "ticks": "",
           "title": {
            "standoff": 15
           },
           "zerolinecolor": "white",
           "zerolinewidth": 2
          }
         }
        }
       }
      }
     },
     "metadata": {},
     "output_type": "display_data"
    }
   ],
   "source": [
    "import plotly.express as px\n",
    "\n",
    "fig = px.line_geo(df_ubication, \n",
    "                     # longitude is taken from the df[\"lon\"] columns and latitude from df[\"lat\"]\n",
    "                     lon=\"Longitude\", \n",
    "                     lat=\"Latitude\", \n",
    "                     # choose the map chart's projection\n",
    "                     projection=\"natural earth\",\n",
    "                     markers=True,\n",
    "                     hover_name = \"ttl\",\n",
    "                     )\n",
    "fig.update_traces(marker=dict(symbol = df_ubication_with_outlier[\"markersymbol\"], size=df_ubication_with_outlier[\"markersize\"], color=df_ubication_with_outlier[\"color\"]))\n",
    "fig.update_geos(fitbounds=\"locations\", showcountries = True)"
   ]
  },
  {
   "cell_type": "code",
   "execution_count": null,
   "metadata": {},
   "outputs": [],
   "source": []
  }
 ],
 "metadata": {
  "interpreter": {
   "hash": "ebfe85d34e2c8bf36c395e80b58ce3afa38e7bbdf037e140615da6058b306e8f"
  },
  "kernelspec": {
   "display_name": "Python 3.10.0 64-bit ('3.10.0')",
   "language": "python",
   "name": "python3"
  },
  "language_info": {
   "codemirror_mode": {
    "name": "ipython",
    "version": 3
   },
   "file_extension": ".py",
   "mimetype": "text/x-python",
   "name": "python",
   "nbconvert_exporter": "python",
   "pygments_lexer": "ipython3",
   "version": "3.10.0"
  }
 },
 "nbformat": 4,
 "nbformat_minor": 2
}
